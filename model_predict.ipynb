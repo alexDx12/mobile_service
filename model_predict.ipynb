{
 "cells": [
  {
   "cell_type": "markdown",
   "id": "eb54027d",
   "metadata": {},
   "source": [
    "# Mobile Service (model predict)"
   ]
  },
  {
   "cell_type": "markdown",
   "id": "e9fd9830",
   "metadata": {},
   "source": [
    "## 1 Подключение и настройка внешних модулей"
   ]
  },
  {
   "cell_type": "code",
   "execution_count": 1,
   "id": "d17efd96",
   "metadata": {},
   "outputs": [],
   "source": [
    "# data processing\n",
    "import pandas as pd\n",
    "import numpy as np\n",
    "import dask.dataframe as dd\n",
    "import sklearn\n",
    "from sklearn.model_selection import RepeatedStratifiedKFold\n",
    "from sklearn.linear_model import LogisticRegression\n",
    "from sklearn.preprocessing import MinMaxScaler\n",
    "from sklearn.preprocessing import OneHotEncoder\n",
    "from sklearn.model_selection import GridSearchCV\n",
    "from sklearn.preprocessing import OrdinalEncoder\n",
    "from sklearn.feature_selection import SelectFromModel\n",
    "from sklearn.tree import DecisionTreeClassifier\n",
    "from sklearn.metrics import ConfusionMatrixDisplay\n",
    "from sklearn.metrics import confusion_matrix\n",
    "from sklearn.metrics import classification_report\n",
    "from sklearn.metrics import roc_curve\n",
    "from sklearn.metrics import precision_recall_curve\n",
    "from sklearn.metrics import auc\n",
    "from sklearn.ensemble import RandomForestClassifier\n",
    "from xgboost import XGBClassifier\n",
    "\n",
    "# visualization\n",
    "import matplotlib.pyplot as plt\n",
    "import seaborn as sns\n",
    "\n",
    "# отключение предупреждений\n",
    "import warnings\n",
    "warnings.filterwarnings('ignore')\n",
    "\n",
    "# сериализация объектов\n",
    "import pickle"
   ]
  },
  {
   "cell_type": "markdown",
   "id": "488b4327",
   "metadata": {},
   "source": [
    "## 2 Загрузка датасетов"
   ]
  },
  {
   "cell_type": "code",
   "execution_count": 2,
   "id": "64f4b1a4",
   "metadata": {},
   "outputs": [],
   "source": [
    "df_test = pd.read_csv(r'data/data_test.csv')\n",
    "df_features = dd.read_csv(r'data/features.csv', sep='\\t', engine='python')"
   ]
  },
  {
   "cell_type": "markdown",
   "id": "991e6a95",
   "metadata": {},
   "source": [
    "## 3 Предобработка данных"
   ]
  },
  {
   "cell_type": "markdown",
   "id": "b0690462",
   "metadata": {},
   "source": [
    "Вспомогательные структуры:"
   ]
  },
  {
   "cell_type": "code",
   "execution_count": 3,
   "id": "3bfc7c1a",
   "metadata": {},
   "outputs": [],
   "source": [
    "def feature_transformer(dataset, source_list, feature_name, transformer, prefitting=True):\n",
    "    \"\"\"Трансформация признаков.\"\"\"\n",
    "\n",
    "    # prefitting\n",
    "    if prefitting:\n",
    "        transformer.fit(dataset[source_list])\n",
    "\n",
    "    # transforming\n",
    "    if type(transformer) == sklearn.preprocessing._encoders.OneHotEncoder:\n",
    "\n",
    "        df_OHE = pd.DataFrame(\n",
    "            transformer.transform(dataset[source_list]),\n",
    "            columns = transformer.get_feature_names_out()\n",
    "        )\n",
    "        dataset = pd.concat([dataset, df_OHE], axis=1).drop(source_list, axis=1)\n",
    "\n",
    "    else:\n",
    "        dataset[feature_name] = transformer.transform(dataset[source_list])\n",
    "    \n",
    "    # returning\n",
    "    return dataset"
   ]
  },
  {
   "cell_type": "code",
   "execution_count": 4,
   "id": "8208987c",
   "metadata": {},
   "outputs": [],
   "source": [
    "with open(r'tools/transformers.pickle', 'rb') as f:\n",
    "    transformers = pickle.load(f)"
   ]
  },
  {
   "cell_type": "code",
   "execution_count": 5,
   "id": "022e5723",
   "metadata": {},
   "outputs": [],
   "source": [
    "def preprocess_test_dataset(df_test, df_features):\n",
    "    \"Предобработка тестового датасета.\"\n",
    "\n",
    "    # объединение датасетов\n",
    "    test_ids = df_test['id']\n",
    "    df_test_user_features = df_features[df_features['id'].isin(test_ids)].compute()\n",
    "    df_test_extended = pd.merge_asof(\n",
    "        left=df_test.sort_values(by='buy_time'),\n",
    "        right=df_test_user_features.sort_values(by='buy_time'),\n",
    "        on='buy_time',\n",
    "        by='id',\n",
    "        direction='nearest'\n",
    "    )\n",
    "\n",
    "    # создание признака 'not_first_offer'\n",
    "    not_first_offer_test = df_test_extended.duplicated('id').astype(int)\n",
    "    df_test_extended.insert(loc=0, column='not_first_offer', value=not_first_offer_test)\n",
    "\n",
    "    # создание признака 'buy_month'\n",
    "    buy_month_test = pd.to_datetime(df_test_extended['buy_time'], unit='s').dt.month\n",
    "    df_test_extended.insert(loc=0, column='buy_month', value=buy_month_test)\n",
    "\n",
    "    # загрузка трансформеров\n",
    "    with open(r'tools/transformers.pickle', 'rb') as f:\n",
    "        transformers = pickle.load(f)\n",
    "\n",
    "    # предобработка признака 'vas_id'\n",
    "    vas_id_OHE = transformers['vas_id_OHE']\n",
    "    df_test_extended = feature_transformer(\n",
    "        dataset=df_test_extended,\n",
    "        source_list=['vas_id'],\n",
    "        feature_name='vas_id',\n",
    "        transformer=vas_id_OHE,\n",
    "        prefitting=False\n",
    "    )\n",
    "\n",
    "    # предобработка признака 'buy_month'\n",
    "    buy_month_OHE = transformers['buy_month_OHE']\n",
    "    df_test_extended = feature_transformer(\n",
    "        dataset=df_test_extended,\n",
    "        source_list=['buy_month'],\n",
    "        feature_name='buy_month',\n",
    "        transformer=buy_month_OHE,\n",
    "        prefitting=False\n",
    "    )\n",
    "\n",
    "    # кодирование бинарных признаков\n",
    "    with open(r'tools/nunique_2.pickle', 'rb') as f:\n",
    "        nunique_2 = pickle.load(f)\n",
    "\n",
    "    nunique_2.remove('target')\n",
    "    nunique_2_OE = OrdinalEncoder()\n",
    "    df_test_extended[nunique_2] = nunique_2_OE.fit_transform(X=df_test_extended[nunique_2])\n",
    "\n",
    "    # создание матрицы признаков\n",
    "    X_test = df_test_extended.copy()\n",
    "\n",
    "    # оптимизация типов данных в матрице признаков\n",
    "    X_test[nunique_2] = X_test[nunique_2].astype('int8')\n",
    "\n",
    "    # удаление лишних признаков\n",
    "    with open(r'tools/selected_features.pickle', 'rb') as f:\n",
    "        selected_features = pickle.load(f)\n",
    "\n",
    "    X_test = X_test[selected_features]\n",
    "\n",
    "    # возврат результата\n",
    "    return X_test"
   ]
  },
  {
   "cell_type": "markdown",
   "id": "08555222",
   "metadata": {},
   "source": [
    "Предобработка тестовго датасета:"
   ]
  },
  {
   "cell_type": "code",
   "execution_count": 6,
   "id": "08554b60",
   "metadata": {},
   "outputs": [
    {
     "name": "stdout",
     "output_type": "stream",
     "text": [
      "CPU times: total: 14min 47s\n",
      "Wall time: 14min 32s\n"
     ]
    }
   ],
   "source": [
    "%%time\n",
    "X_test = preprocess_test_dataset(df_test, df_features)"
   ]
  },
  {
   "cell_type": "markdown",
   "id": "805a58e1",
   "metadata": {},
   "source": [
    "## 4 Загрузка модели и получение предсказания"
   ]
  },
  {
   "cell_type": "markdown",
   "id": "33c6ae16",
   "metadata": {},
   "source": [
    "Загрузка модели:"
   ]
  },
  {
   "cell_type": "code",
   "execution_count": 7,
   "id": "b0b7e051",
   "metadata": {},
   "outputs": [],
   "source": [
    "with open(r'tools/model.pickle', 'rb') as f:\n",
    "    model = pickle.load(f)"
   ]
  },
  {
   "cell_type": "markdown",
   "id": "032e8a26",
   "metadata": {},
   "source": [
    "Получение предсказания:"
   ]
  },
  {
   "cell_type": "code",
   "execution_count": 8,
   "id": "3e0337b6",
   "metadata": {},
   "outputs": [
    {
     "name": "stdout",
     "output_type": "stream",
     "text": [
      "CPU times: total: 328 ms\n",
      "Wall time: 47.9 ms\n"
     ]
    }
   ],
   "source": [
    "%%time\n",
    "predictions = model.predict_proba(X_test)[:,1]"
   ]
  },
  {
   "cell_type": "markdown",
   "id": "89f36692",
   "metadata": {},
   "source": [
    "## 5 Получение финального результата"
   ]
  },
  {
   "cell_type": "markdown",
   "id": "b441d6b2",
   "metadata": {},
   "source": [
    "Формирование датафрейма выходных данных:"
   ]
  },
  {
   "cell_type": "code",
   "execution_count": 9,
   "id": "333a93aa",
   "metadata": {},
   "outputs": [],
   "source": [
    "output = pd.DataFrame(\n",
    "    {\n",
    "        'buy_time': df_test.buy_time,\n",
    "        'id': df_test.id,\n",
    "        'vas_id': df_test.vas_id,\n",
    "        'target': predictions   \n",
    "    }\n",
    ")"
   ]
  },
  {
   "cell_type": "markdown",
   "id": "48d556ad",
   "metadata": {},
   "source": [
    "Сохранение выходных данных в файл:"
   ]
  },
  {
   "cell_type": "code",
   "execution_count": 10,
   "id": "73bfacfa",
   "metadata": {},
   "outputs": [],
   "source": [
    "output.to_csv(r'data/answers_test.csv', index=False)"
   ]
  },
  {
   "cell_type": "markdown",
   "id": "e34e603e",
   "metadata": {},
   "source": [
    "Проверка выходных данных:"
   ]
  },
  {
   "cell_type": "code",
   "execution_count": 11,
   "id": "105e7c99",
   "metadata": {},
   "outputs": [
    {
     "data": {
      "text/html": [
       "<div>\n",
       "<style scoped>\n",
       "    .dataframe tbody tr th:only-of-type {\n",
       "        vertical-align: middle;\n",
       "    }\n",
       "\n",
       "    .dataframe tbody tr th {\n",
       "        vertical-align: top;\n",
       "    }\n",
       "\n",
       "    .dataframe thead th {\n",
       "        text-align: right;\n",
       "    }\n",
       "</style>\n",
       "<table border=\"1\" class=\"dataframe\">\n",
       "  <thead>\n",
       "    <tr style=\"text-align: right;\">\n",
       "      <th></th>\n",
       "      <th>id</th>\n",
       "      <th>vas_id</th>\n",
       "      <th>target</th>\n",
       "    </tr>\n",
       "    <tr>\n",
       "      <th>buy_time</th>\n",
       "      <th></th>\n",
       "      <th></th>\n",
       "      <th></th>\n",
       "    </tr>\n",
       "  </thead>\n",
       "  <tbody>\n",
       "    <tr>\n",
       "      <th>1548018000</th>\n",
       "      <td>3130519</td>\n",
       "      <td>2.0</td>\n",
       "      <td>0.007305</td>\n",
       "    </tr>\n",
       "    <tr>\n",
       "      <th>1548018000</th>\n",
       "      <td>2000860</td>\n",
       "      <td>4.0</td>\n",
       "      <td>0.006503</td>\n",
       "    </tr>\n",
       "    <tr>\n",
       "      <th>1546808400</th>\n",
       "      <td>1099444</td>\n",
       "      <td>2.0</td>\n",
       "      <td>0.271045</td>\n",
       "    </tr>\n",
       "    <tr>\n",
       "      <th>1547413200</th>\n",
       "      <td>1343255</td>\n",
       "      <td>5.0</td>\n",
       "      <td>0.281009</td>\n",
       "    </tr>\n",
       "    <tr>\n",
       "      <th>1546808400</th>\n",
       "      <td>1277040</td>\n",
       "      <td>2.0</td>\n",
       "      <td>0.265747</td>\n",
       "    </tr>\n",
       "    <tr>\n",
       "      <th>...</th>\n",
       "      <td>...</td>\n",
       "      <td>...</td>\n",
       "      <td>...</td>\n",
       "    </tr>\n",
       "    <tr>\n",
       "      <th>1548018000</th>\n",
       "      <td>2502453</td>\n",
       "      <td>5.0</td>\n",
       "      <td>0.265747</td>\n",
       "    </tr>\n",
       "    <tr>\n",
       "      <th>1548018000</th>\n",
       "      <td>1693213</td>\n",
       "      <td>2.0</td>\n",
       "      <td>0.007339</td>\n",
       "    </tr>\n",
       "    <tr>\n",
       "      <th>1548018000</th>\n",
       "      <td>1891350</td>\n",
       "      <td>2.0</td>\n",
       "      <td>0.006277</td>\n",
       "    </tr>\n",
       "    <tr>\n",
       "      <th>1548018000</th>\n",
       "      <td>2437172</td>\n",
       "      <td>2.0</td>\n",
       "      <td>0.265747</td>\n",
       "    </tr>\n",
       "    <tr>\n",
       "      <th>1548018000</th>\n",
       "      <td>988236</td>\n",
       "      <td>2.0</td>\n",
       "      <td>0.006548</td>\n",
       "    </tr>\n",
       "  </tbody>\n",
       "</table>\n",
       "<p>71231 rows × 3 columns</p>\n",
       "</div>"
      ],
      "text/plain": [
       "                 id  vas_id    target\n",
       "buy_time                             \n",
       "1548018000  3130519     2.0  0.007305\n",
       "1548018000  2000860     4.0  0.006503\n",
       "1546808400  1099444     2.0  0.271045\n",
       "1547413200  1343255     5.0  0.281009\n",
       "1546808400  1277040     2.0  0.265747\n",
       "...             ...     ...       ...\n",
       "1548018000  2502453     5.0  0.265747\n",
       "1548018000  1693213     2.0  0.007339\n",
       "1548018000  1891350     2.0  0.006277\n",
       "1548018000  2437172     2.0  0.265747\n",
       "1548018000   988236     2.0  0.006548\n",
       "\n",
       "[71231 rows x 3 columns]"
      ]
     },
     "execution_count": 11,
     "metadata": {},
     "output_type": "execute_result"
    }
   ],
   "source": [
    "pd.read_csv(r'data/answers_test.csv', index_col=0)"
   ]
  },
  {
   "cell_type": "code",
   "execution_count": null,
   "id": "a1e35cd2",
   "metadata": {},
   "outputs": [],
   "source": []
  }
 ],
 "metadata": {
  "kernelspec": {
   "display_name": "Python 3 (ipykernel)",
   "language": "python",
   "name": "python3"
  },
  "language_info": {
   "codemirror_mode": {
    "name": "ipython",
    "version": 3
   },
   "file_extension": ".py",
   "mimetype": "text/x-python",
   "name": "python",
   "nbconvert_exporter": "python",
   "pygments_lexer": "ipython3",
   "version": "3.9.15"
  }
 },
 "nbformat": 4,
 "nbformat_minor": 5
}
