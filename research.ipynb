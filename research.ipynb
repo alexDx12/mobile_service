{
 "cells": [
  {
   "cell_type": "markdown",
   "id": "eb54027d",
   "metadata": {},
   "source": [
    "# Mobile Service (research)"
   ]
  },
  {
   "cell_type": "markdown",
   "id": "d66513c8",
   "metadata": {},
   "source": [
    "Aleksandr Dunaev  \n",
    "09.02.2023\n",
    "\n",
    "version: 1.0"
   ]
  },
  {
   "cell_type": "markdown",
   "id": "5d526110",
   "metadata": {},
   "source": [
    "## 1 Описание задачи"
   ]
  },
  {
   "cell_type": "markdown",
   "id": "2253fde3",
   "metadata": {},
   "source": [
    "__Задача__\n",
    "\n",
    "У нас появился запрос из отдела продаж и маркетинга. Оператор сотовой связи предлагает обширный набор различных услуг своим абонентам. При этом, разным пользователям интересны разные услуги. Поэтому, необходимо построить алгоритм, который для каждой пары пользователь-услуга определит вероятность подключения услуги.  \n",
    "\n",
    "__Данные__  \n",
    "\n",
    "В качестве исходных данных вам будет доступна информация об отклике абонентов на предложение подключения одной из услуг. Каждому пользователю может быть сделано несколько предложений в разное время, каждое из которых он может или принять, или отклонить.\n",
    "Отдельным набором данных будет являться нормализованный анонимизированный набор признаков, характеризующий профиль потребления абонента. Эти данные привязаны к определенному времени, поскольку профиль абонента может меняться с течением времени.\n",
    "Данные train и test разбиты по периодам – на train доступно 4 месяца, а на test отложен последующий месяц.  \n",
    "\n",
    "Итого, в качестве входных данных будут представлены:  \n",
    "\n",
    "●\tdata_train.csv: id, vas_id, buy_time, target;  \n",
    "●\tfeatures.csv.zip: id, <feature_list>.  \n",
    "\n",
    "\n",
    "И тестовый набор:  \n",
    "\n",
    "●\tdata_test.csv: id, vas_id, buy_time;  \n",
    "●\ttarget - целевая переменная, где 1 означает подключение услуги, 0 - абонент не подключил услугу соответственно;  \n",
    "●\tbuy_time - время покупки, представлено в формате timestamp, для работы с этим столбцом понадобится функция datetime.fromtimestamp из модуля datetime;  \n",
    "●\tid - идентификатор абонента;  \n",
    "●\tvas_id - подключаемая услуга.  \n",
    "\n",
    "\n",
    "Примечание: Размер файла features.csv в распакованном виде весит 20 Гб, для работы с ним можно воспользоваться pandas.read_csv, либо можно воспользоваться библиотекой Dask.  \n",
    "\n",
    "__Метрика__  \n",
    "\n",
    "Скоринг будет осуществляться функцией f1, невзвешенным образом, как например делает функция sklearn.metrics.f1_score(…, average=’macro’)."
   ]
  },
  {
   "cell_type": "markdown",
   "id": "e9fd9830",
   "metadata": {},
   "source": [
    "## 2 Подключение и настройка внешних модулей"
   ]
  },
  {
   "cell_type": "code",
   "execution_count": 1,
   "id": "d17efd96",
   "metadata": {},
   "outputs": [],
   "source": [
    "# data processing\n",
    "import pandas as pd\n",
    "import numpy as np\n",
    "import dask.dataframe as dd\n",
    "import sklearn\n",
    "from sklearn.model_selection import RepeatedStratifiedKFold\n",
    "from sklearn.linear_model import LogisticRegression\n",
    "from sklearn.preprocessing import MinMaxScaler\n",
    "from sklearn.preprocessing import OneHotEncoder\n",
    "from sklearn.model_selection import GridSearchCV\n",
    "from sklearn.preprocessing import OrdinalEncoder\n",
    "from sklearn.feature_selection import SelectFromModel\n",
    "from sklearn.tree import DecisionTreeClassifier\n",
    "from sklearn.metrics import ConfusionMatrixDisplay\n",
    "from sklearn.metrics import confusion_matrix\n",
    "from sklearn.metrics import classification_report\n",
    "from sklearn.metrics import roc_curve\n",
    "from sklearn.metrics import precision_recall_curve\n",
    "from sklearn.metrics import auc\n",
    "from sklearn.ensemble import RandomForestClassifier\n",
    "from xgboost import XGBClassifier\n",
    "\n",
    "# visualization\n",
    "import matplotlib.pyplot as plt\n",
    "import seaborn as sns\n",
    "\n",
    "# отключение предупреждений\n",
    "import warnings\n",
    "warnings.filterwarnings('ignore')\n",
    "\n",
    "# сериализация объектов\n",
    "import pickle"
   ]
  },
  {
   "cell_type": "markdown",
   "id": "488b4327",
   "metadata": {},
   "source": [
    "## 3 Загрузка датасетов"
   ]
  },
  {
   "cell_type": "code",
   "execution_count": 2,
   "id": "64f4b1a4",
   "metadata": {},
   "outputs": [],
   "source": [
    "df_train = pd.read_csv(r'data/data_train.csv')\n",
    "df_test = pd.read_csv(r'data/data_test.csv')\n",
    "df_features = dd.read_csv(r'data/features.csv', sep='\\t', engine='python')"
   ]
  },
  {
   "cell_type": "markdown",
   "id": "991e6a95",
   "metadata": {},
   "source": [
    "## 4 Предварительная обработка данных"
   ]
  },
  {
   "cell_type": "markdown",
   "id": "6135bdc3",
   "metadata": {},
   "source": [
    "### Вспомогательные структуры"
   ]
  },
  {
   "cell_type": "code",
   "execution_count": 3,
   "id": "65cd9972",
   "metadata": {},
   "outputs": [],
   "source": [
    "def data_frame_missing_values(df):\n",
    "    \"\"\"This function takes a DataFrame(df) as input and returns two columns, total missing values and total missing values percentage.\"\"\"\n",
    "\n",
    "    total = df.isnull().sum().sort_values(ascending=False)\n",
    "    percent = round(df.isnull().sum().sort_values(ascending=False) / len(df) * 100, 2)\n",
    "    return pd.concat([total, percent], axis=1, keys=['Total','Percent'])"
   ]
  },
  {
   "cell_type": "code",
   "execution_count": 4,
   "id": "cbabb7d8",
   "metadata": {},
   "outputs": [],
   "source": [
    "def distribution_diagram(data, feature_name, hue=False, is_log=False, is_label=True):\n",
    "    \"\"\"Построение диаграммы распределения.\"\"\"\n",
    "\n",
    "    fig = plt.figure(figsize=(12, 8), layout='constrained')\n",
    "    countplot = sns.countplot(data=data, x=feature_name, color='#a1c9f4', log=is_log) \n",
    "    \n",
    "    if hue:\n",
    "        countplot = sns.countplot(data=data, x=feature_name, hue=hue, palette=['#ff9f9b', '#8de5a1'], log=is_log)\n",
    "        countplot.set(title=f'Диграмма распределения признака {feature_name} в разрезе признака {hue}')\n",
    "    \n",
    "    else:\n",
    "        countplot.set(title=f'Диграмма распределения признака {feature_name}')\n",
    "        \n",
    "    if is_label:\n",
    "        for container in countplot.containers:\n",
    "            countplot.bar_label(container)\n",
    "\n",
    "    plt.show()"
   ]
  },
  {
   "cell_type": "code",
   "execution_count": 5,
   "id": "79d32d70",
   "metadata": {},
   "outputs": [],
   "source": [
    "def feature_transformer(dataset, source_list, feature_name, transformer, prefitting=True):\n",
    "    \"\"\"Трансформация признаков.\"\"\"\n",
    "\n",
    "    # prefitting\n",
    "    if prefitting:\n",
    "        transformer.fit(dataset[source_list])\n",
    "\n",
    "    # transforming\n",
    "    if type(transformer) == sklearn.preprocessing._encoders.OneHotEncoder:\n",
    "\n",
    "        df_OHE = pd.DataFrame(\n",
    "            transformer.transform(dataset[source_list]),\n",
    "            columns = transformer.get_feature_names_out()\n",
    "        )\n",
    "        dataset = pd.concat([dataset, df_OHE], axis=1).drop(source_list, axis=1)\n",
    "\n",
    "    else:\n",
    "        dataset[feature_name] = transformer.transform(dataset[source_list])\n",
    "\n",
    "    # returning\n",
    "    return dataset"
   ]
  },
  {
   "cell_type": "code",
   "execution_count": 6,
   "id": "bd248db1",
   "metadata": {},
   "outputs": [],
   "source": [
    "def count_table(df, feature=None, target=None):\n",
    "    \"\"\"Функция построения таблицы распределения частот.\"\"\"\n",
    "\n",
    "    # обработка случая отсутствия заданного признака в заданном датасете\n",
    "    if feature not in df.columns:\n",
    "        print('ВНИМАНИЕ! Заданный признак не найден в заданном датасете. Построение таблицы распределения частот невозможно.')\n",
    "        return None\n",
    "\n",
    "    # обработка случая задания идентичных признака и целевой переменной\n",
    "    if feature == target:\n",
    "        target = None        \n",
    "\n",
    "    # построение таблицы распределения частот\n",
    "    if target != None:\n",
    "        ct = pd.pivot_table(\n",
    "            df,\n",
    "            index=[feature],\n",
    "            values=[target],\n",
    "            columns=df[target],\n",
    "            aggfunc='count',\n",
    "        )\n",
    "        ct['sum'] = ct.sum(axis=1)\n",
    "        ct.loc['sum'] = ct.sum(axis=0)\n",
    "\n",
    "    else:\n",
    "        ct = pd.DataFrame(\n",
    "            data=df[[feature]].value_counts().sort_index(),\n",
    "            columns=['count']\n",
    "        ).reset_index(\n",
    "            drop=True\n",
    "        )\n",
    "        ct.loc['sum'] = ct['count'].sum(axis=0)\n",
    "        ct.index.name = feature\n",
    "\n",
    "    # возврат таблицы распределения частот\n",
    "    return ct"
   ]
  },
  {
   "cell_type": "code",
   "execution_count": 7,
   "id": "fcb00225",
   "metadata": {},
   "outputs": [],
   "source": [
    "def spec_count_table(df, feature=None, target=None):\n",
    "    \"\"\"Функция построения таблицы распределения относительных частот.\"\"\" \n",
    "\n",
    "    # обработка случая отсутствия заданного признака в заданном датасете\n",
    "    if feature not in df.columns:\n",
    "        print('ВНИМАНИЕ! Заданный признак не найден в заданном датасете. Построение таблицы распределения относительных частот невозможно.')\n",
    "        return None\n",
    "\n",
    "    # обработка случая задания идентичных признака и целевой переменной\n",
    "    if feature == target:\n",
    "        target = None        \n",
    "\n",
    "    # построение таблицы распределения частот\n",
    "    if target != None:\n",
    "        sct = pd.pivot_table(\n",
    "            df,\n",
    "            index=[feature],\n",
    "            values=[target],\n",
    "            columns=df[target],\n",
    "            aggfunc='count',\n",
    "        )\n",
    "        sct['sum'] = sct.sum(axis=1)\n",
    "        for row in sct.index:\n",
    "            sct.loc[row] = sct.loc[row] / sct['sum'].loc[row]\n",
    "\n",
    "    else:\n",
    "        sct = pd.DataFrame(\n",
    "            data=df[[feature]].value_counts().sort_index(),\n",
    "            columns=['fraction']\n",
    "        ).reset_index(\n",
    "            drop=True\n",
    "        )\n",
    "        sct.loc['sum'] = sct.sum(axis=0)\n",
    "        sct.index.name = feature\n",
    "        sct['fraction'] = sct['fraction'] / sct['fraction'].loc['sum']\n",
    "\n",
    "    # возврат таблицы распределения относительных частот\n",
    "    return sct"
   ]
  },
  {
   "cell_type": "code",
   "execution_count": 8,
   "id": "2fc33b89",
   "metadata": {},
   "outputs": [],
   "source": [
    "drop_list = set()  # список признаков, подлежащих исключению"
   ]
  },
  {
   "cell_type": "markdown",
   "id": "dbddd6c3",
   "metadata": {},
   "source": [
    "### Первичный анализ и предобработка датасетов"
   ]
  },
  {
   "cell_type": "markdown",
   "id": "519d25fb",
   "metadata": {},
   "source": [
    "Обзор датасетов:"
   ]
  },
  {
   "cell_type": "code",
   "execution_count": 9,
   "id": "a84cd194",
   "metadata": {},
   "outputs": [
    {
     "data": {
      "text/plain": [
       "(831653, 5)"
      ]
     },
     "execution_count": 9,
     "metadata": {},
     "output_type": "execute_result"
    }
   ],
   "source": [
    "# train dataset\n",
    "df_train.shape"
   ]
  },
  {
   "cell_type": "code",
   "execution_count": 10,
   "id": "904bfefc",
   "metadata": {},
   "outputs": [
    {
     "data": {
      "text/plain": [
       "(71231, 4)"
      ]
     },
     "execution_count": 10,
     "metadata": {},
     "output_type": "execute_result"
    }
   ],
   "source": [
    "# test dataset\n",
    "df_test.shape"
   ]
  },
  {
   "cell_type": "code",
   "execution_count": 11,
   "id": "8b3ee915",
   "metadata": {},
   "outputs": [
    {
     "data": {
      "text/plain": [
       "351"
      ]
     },
     "execution_count": 11,
     "metadata": {},
     "output_type": "execute_result"
    }
   ],
   "source": [
    "# features dataset\n",
    "df_features.npartitions"
   ]
  },
  {
   "cell_type": "code",
   "execution_count": 12,
   "id": "c6833f9e",
   "metadata": {},
   "outputs": [
    {
     "data": {
      "text/plain": [
       "256"
      ]
     },
     "execution_count": 12,
     "metadata": {},
     "output_type": "execute_result"
    }
   ],
   "source": [
    "# features dataset\n",
    "len(df_features.columns)"
   ]
  },
  {
   "cell_type": "code",
   "execution_count": 13,
   "id": "7ca89599",
   "metadata": {},
   "outputs": [
    {
     "data": {
      "text/plain": [
       "4512528"
      ]
     },
     "execution_count": 13,
     "metadata": {},
     "output_type": "execute_result"
    }
   ],
   "source": [
    "# features dataset\n",
    "len(df_features)"
   ]
  },
  {
   "cell_type": "code",
   "execution_count": 14,
   "id": "05c088d4",
   "metadata": {},
   "outputs": [
    {
     "data": {
      "text/html": [
       "<div>\n",
       "<style scoped>\n",
       "    .dataframe tbody tr th:only-of-type {\n",
       "        vertical-align: middle;\n",
       "    }\n",
       "\n",
       "    .dataframe tbody tr th {\n",
       "        vertical-align: top;\n",
       "    }\n",
       "\n",
       "    .dataframe thead th {\n",
       "        text-align: right;\n",
       "    }\n",
       "</style>\n",
       "<table border=\"1\" class=\"dataframe\">\n",
       "  <thead>\n",
       "    <tr style=\"text-align: right;\">\n",
       "      <th></th>\n",
       "      <th>Unnamed: 0</th>\n",
       "      <th>id</th>\n",
       "      <th>vas_id</th>\n",
       "      <th>buy_time</th>\n",
       "      <th>target</th>\n",
       "    </tr>\n",
       "  </thead>\n",
       "  <tbody>\n",
       "    <tr>\n",
       "      <th>0</th>\n",
       "      <td>0</td>\n",
       "      <td>540968</td>\n",
       "      <td>8.0</td>\n",
       "      <td>1537131600</td>\n",
       "      <td>0.0</td>\n",
       "    </tr>\n",
       "    <tr>\n",
       "      <th>1</th>\n",
       "      <td>1</td>\n",
       "      <td>1454121</td>\n",
       "      <td>4.0</td>\n",
       "      <td>1531688400</td>\n",
       "      <td>0.0</td>\n",
       "    </tr>\n",
       "    <tr>\n",
       "      <th>2</th>\n",
       "      <td>2</td>\n",
       "      <td>2458816</td>\n",
       "      <td>1.0</td>\n",
       "      <td>1534107600</td>\n",
       "      <td>0.0</td>\n",
       "    </tr>\n",
       "  </tbody>\n",
       "</table>\n",
       "</div>"
      ],
      "text/plain": [
       "   Unnamed: 0       id  vas_id    buy_time  target\n",
       "0           0   540968     8.0  1537131600     0.0\n",
       "1           1  1454121     4.0  1531688400     0.0\n",
       "2           2  2458816     1.0  1534107600     0.0"
      ]
     },
     "execution_count": 14,
     "metadata": {},
     "output_type": "execute_result"
    }
   ],
   "source": [
    "# train dataset\n",
    "df_train.head(3)"
   ]
  },
  {
   "cell_type": "code",
   "execution_count": 15,
   "id": "7f0acd93",
   "metadata": {},
   "outputs": [
    {
     "data": {
      "text/html": [
       "<div>\n",
       "<style scoped>\n",
       "    .dataframe tbody tr th:only-of-type {\n",
       "        vertical-align: middle;\n",
       "    }\n",
       "\n",
       "    .dataframe tbody tr th {\n",
       "        vertical-align: top;\n",
       "    }\n",
       "\n",
       "    .dataframe thead th {\n",
       "        text-align: right;\n",
       "    }\n",
       "</style>\n",
       "<table border=\"1\" class=\"dataframe\">\n",
       "  <thead>\n",
       "    <tr style=\"text-align: right;\">\n",
       "      <th></th>\n",
       "      <th>Unnamed: 0</th>\n",
       "      <th>id</th>\n",
       "      <th>vas_id</th>\n",
       "      <th>buy_time</th>\n",
       "    </tr>\n",
       "  </thead>\n",
       "  <tbody>\n",
       "    <tr>\n",
       "      <th>0</th>\n",
       "      <td>0</td>\n",
       "      <td>3130519</td>\n",
       "      <td>2.0</td>\n",
       "      <td>1548018000</td>\n",
       "    </tr>\n",
       "    <tr>\n",
       "      <th>1</th>\n",
       "      <td>1</td>\n",
       "      <td>2000860</td>\n",
       "      <td>4.0</td>\n",
       "      <td>1548018000</td>\n",
       "    </tr>\n",
       "    <tr>\n",
       "      <th>2</th>\n",
       "      <td>2</td>\n",
       "      <td>1099444</td>\n",
       "      <td>2.0</td>\n",
       "      <td>1546808400</td>\n",
       "    </tr>\n",
       "  </tbody>\n",
       "</table>\n",
       "</div>"
      ],
      "text/plain": [
       "   Unnamed: 0       id  vas_id    buy_time\n",
       "0           0  3130519     2.0  1548018000\n",
       "1           1  2000860     4.0  1548018000\n",
       "2           2  1099444     2.0  1546808400"
      ]
     },
     "execution_count": 15,
     "metadata": {},
     "output_type": "execute_result"
    }
   ],
   "source": [
    "# test dataset\n",
    "df_test.head(3)"
   ]
  },
  {
   "cell_type": "code",
   "execution_count": 16,
   "id": "affb228b",
   "metadata": {},
   "outputs": [
    {
     "data": {
      "text/html": [
       "<div>\n",
       "<style scoped>\n",
       "    .dataframe tbody tr th:only-of-type {\n",
       "        vertical-align: middle;\n",
       "    }\n",
       "\n",
       "    .dataframe tbody tr th {\n",
       "        vertical-align: top;\n",
       "    }\n",
       "\n",
       "    .dataframe thead th {\n",
       "        text-align: right;\n",
       "    }\n",
       "</style>\n",
       "<table border=\"1\" class=\"dataframe\">\n",
       "  <thead>\n",
       "    <tr style=\"text-align: right;\">\n",
       "      <th></th>\n",
       "      <th>Unnamed: 0</th>\n",
       "      <th>id</th>\n",
       "      <th>buy_time</th>\n",
       "      <th>0</th>\n",
       "      <th>1</th>\n",
       "      <th>2</th>\n",
       "      <th>3</th>\n",
       "      <th>4</th>\n",
       "      <th>5</th>\n",
       "      <th>6</th>\n",
       "      <th>...</th>\n",
       "      <th>243</th>\n",
       "      <th>244</th>\n",
       "      <th>245</th>\n",
       "      <th>246</th>\n",
       "      <th>247</th>\n",
       "      <th>248</th>\n",
       "      <th>249</th>\n",
       "      <th>250</th>\n",
       "      <th>251</th>\n",
       "      <th>252</th>\n",
       "    </tr>\n",
       "  </thead>\n",
       "  <tbody>\n",
       "    <tr>\n",
       "      <th>0</th>\n",
       "      <td>0</td>\n",
       "      <td>2013026</td>\n",
       "      <td>1531688400</td>\n",
       "      <td>18.910029</td>\n",
       "      <td>46.980888</td>\n",
       "      <td>4.969214</td>\n",
       "      <td>-1.386798</td>\n",
       "      <td>3.791754</td>\n",
       "      <td>-14.01179</td>\n",
       "      <td>-16.08618</td>\n",
       "      <td>...</td>\n",
       "      <td>-977.373846</td>\n",
       "      <td>-613.770792</td>\n",
       "      <td>-25.996269</td>\n",
       "      <td>-37.630448</td>\n",
       "      <td>-301.747724</td>\n",
       "      <td>-25.832889</td>\n",
       "      <td>-0.694428</td>\n",
       "      <td>-12.175933</td>\n",
       "      <td>-0.45614</td>\n",
       "      <td>0.0</td>\n",
       "    </tr>\n",
       "    <tr>\n",
       "      <th>1</th>\n",
       "      <td>1</td>\n",
       "      <td>2014722</td>\n",
       "      <td>1539550800</td>\n",
       "      <td>36.690029</td>\n",
       "      <td>152.400888</td>\n",
       "      <td>448.069214</td>\n",
       "      <td>563.833202</td>\n",
       "      <td>463.841754</td>\n",
       "      <td>568.99821</td>\n",
       "      <td>-16.08618</td>\n",
       "      <td>...</td>\n",
       "      <td>-891.373846</td>\n",
       "      <td>-544.770792</td>\n",
       "      <td>-20.996269</td>\n",
       "      <td>48.369552</td>\n",
       "      <td>80.252276</td>\n",
       "      <td>-13.832889</td>\n",
       "      <td>-0.694428</td>\n",
       "      <td>-1.175933</td>\n",
       "      <td>-0.45614</td>\n",
       "      <td>0.0</td>\n",
       "    </tr>\n",
       "    <tr>\n",
       "      <th>2</th>\n",
       "      <td>2</td>\n",
       "      <td>2015199</td>\n",
       "      <td>1545598800</td>\n",
       "      <td>-67.019971</td>\n",
       "      <td>157.050888</td>\n",
       "      <td>-63.180786</td>\n",
       "      <td>178.103202</td>\n",
       "      <td>-68.598246</td>\n",
       "      <td>156.99821</td>\n",
       "      <td>3.51382</td>\n",
       "      <td>...</td>\n",
       "      <td>-977.373846</td>\n",
       "      <td>-613.770792</td>\n",
       "      <td>-12.996269</td>\n",
       "      <td>-37.630448</td>\n",
       "      <td>10829.252276</td>\n",
       "      <td>-25.832889</td>\n",
       "      <td>-0.694428</td>\n",
       "      <td>-12.175933</td>\n",
       "      <td>-0.45614</td>\n",
       "      <td>0.0</td>\n",
       "    </tr>\n",
       "  </tbody>\n",
       "</table>\n",
       "<p>3 rows × 256 columns</p>\n",
       "</div>"
      ],
      "text/plain": [
       "   Unnamed: 0       id    buy_time          0           1           2  \\\n",
       "0           0  2013026  1531688400  18.910029   46.980888    4.969214   \n",
       "1           1  2014722  1539550800  36.690029  152.400888  448.069214   \n",
       "2           2  2015199  1545598800 -67.019971  157.050888  -63.180786   \n",
       "\n",
       "            3           4          5         6  ...         243         244  \\\n",
       "0   -1.386798    3.791754  -14.01179 -16.08618  ... -977.373846 -613.770792   \n",
       "1  563.833202  463.841754  568.99821 -16.08618  ... -891.373846 -544.770792   \n",
       "2  178.103202  -68.598246  156.99821   3.51382  ... -977.373846 -613.770792   \n",
       "\n",
       "         245        246           247        248       249        250  \\\n",
       "0 -25.996269 -37.630448   -301.747724 -25.832889 -0.694428 -12.175933   \n",
       "1 -20.996269  48.369552     80.252276 -13.832889 -0.694428  -1.175933   \n",
       "2 -12.996269 -37.630448  10829.252276 -25.832889 -0.694428 -12.175933   \n",
       "\n",
       "       251  252  \n",
       "0 -0.45614  0.0  \n",
       "1 -0.45614  0.0  \n",
       "2 -0.45614  0.0  \n",
       "\n",
       "[3 rows x 256 columns]"
      ]
     },
     "execution_count": 16,
     "metadata": {},
     "output_type": "execute_result"
    }
   ],
   "source": [
    "# features dataset\n",
    "df_features.head(3)"
   ]
  },
  {
   "cell_type": "code",
   "execution_count": 17,
   "id": "248dc4db",
   "metadata": {},
   "outputs": [
    {
     "name": "stdout",
     "output_type": "stream",
     "text": [
      "<class 'pandas.core.frame.DataFrame'>\n",
      "RangeIndex: 831653 entries, 0 to 831652\n",
      "Data columns (total 5 columns):\n",
      " #   Column      Non-Null Count   Dtype  \n",
      "---  ------      --------------   -----  \n",
      " 0   Unnamed: 0  831653 non-null  int64  \n",
      " 1   id          831653 non-null  int64  \n",
      " 2   vas_id      831653 non-null  float64\n",
      " 3   buy_time    831653 non-null  int64  \n",
      " 4   target      831653 non-null  float64\n",
      "dtypes: float64(2), int64(3)\n",
      "memory usage: 31.7 MB\n"
     ]
    }
   ],
   "source": [
    "# train dataset\n",
    "df_train.info(memory_usage='deep')"
   ]
  },
  {
   "cell_type": "code",
   "execution_count": 18,
   "id": "237fe474",
   "metadata": {},
   "outputs": [
    {
     "name": "stdout",
     "output_type": "stream",
     "text": [
      "<class 'pandas.core.frame.DataFrame'>\n",
      "RangeIndex: 71231 entries, 0 to 71230\n",
      "Data columns (total 4 columns):\n",
      " #   Column      Non-Null Count  Dtype  \n",
      "---  ------      --------------  -----  \n",
      " 0   Unnamed: 0  71231 non-null  int64  \n",
      " 1   id          71231 non-null  int64  \n",
      " 2   vas_id      71231 non-null  float64\n",
      " 3   buy_time    71231 non-null  int64  \n",
      "dtypes: float64(1), int64(3)\n",
      "memory usage: 2.2 MB\n"
     ]
    }
   ],
   "source": [
    "# test dataset\n",
    "df_test.info(memory_usage='deep')"
   ]
  },
  {
   "cell_type": "code",
   "execution_count": 19,
   "id": "a3650a1e",
   "metadata": {},
   "outputs": [
    {
     "name": "stdout",
     "output_type": "stream",
     "text": [
      "<class 'dask.dataframe.core.DataFrame'>\n",
      "Columns: 256 entries, Unnamed: 0 to 252\n",
      "dtypes: float64(253), int64(3)\n",
      "memory usage: 8.6 GB\n"
     ]
    }
   ],
   "source": [
    "# features dataset\n",
    "df_features.info(memory_usage='deep')"
   ]
  },
  {
   "cell_type": "markdown",
   "id": "29b18798",
   "metadata": {},
   "source": [
    "Объединение датасетов:"
   ]
  },
  {
   "cell_type": "code",
   "execution_count": 20,
   "id": "8c01320b",
   "metadata": {},
   "outputs": [],
   "source": [
    "# train dataset, test dataset\n",
    "train_ids = df_train['id']\n",
    "test_ids = df_test['id']"
   ]
  },
  {
   "cell_type": "code",
   "execution_count": 21,
   "id": "dd9d5b76",
   "metadata": {},
   "outputs": [],
   "source": [
    "# features dataset\n",
    "df_train_user_features = df_features[df_features['id'].isin(train_ids)].compute()\n",
    "df_test_user_features = df_features[df_features['id'].isin(test_ids)].compute()"
   ]
  },
  {
   "cell_type": "code",
   "execution_count": 22,
   "id": "cb8804d0",
   "metadata": {},
   "outputs": [],
   "source": [
    "# train dataset\n",
    "df_train_extended = pd.merge_asof(\n",
    "    left=df_train.sort_values(by='buy_time'),\n",
    "    right=df_train_user_features.sort_values(by='buy_time'),\n",
    "    on='buy_time',\n",
    "    by='id',\n",
    "    direction='nearest'\n",
    ")"
   ]
  },
  {
   "cell_type": "code",
   "execution_count": 23,
   "id": "00ccaad7",
   "metadata": {},
   "outputs": [],
   "source": [
    "# test dataset\n",
    "df_test_extended = pd.merge_asof(\n",
    "    left=df_test.sort_values(by='buy_time'),\n",
    "    right=df_test_user_features.sort_values(by='buy_time'),\n",
    "    on='buy_time',\n",
    "    by='id',\n",
    "    direction='nearest'\n",
    ")"
   ]
  },
  {
   "cell_type": "markdown",
   "id": "91fed961",
   "metadata": {},
   "source": [
    "Обзор объединённых датасетов:"
   ]
  },
  {
   "cell_type": "code",
   "execution_count": 24,
   "id": "495eaaf3",
   "metadata": {},
   "outputs": [
    {
     "name": "stdout",
     "output_type": "stream",
     "text": [
      "<class 'pandas.core.frame.DataFrame'>\n",
      "Int64Index: 831653 entries, 0 to 831652\n",
      "Columns: 259 entries, Unnamed: 0_x to 252\n",
      "dtypes: float64(255), int64(4)\n",
      "memory usage: 1.6 GB\n"
     ]
    }
   ],
   "source": [
    "# train dataset\n",
    "df_train_extended.info(memory_usage='deep')"
   ]
  },
  {
   "cell_type": "code",
   "execution_count": 25,
   "id": "879e3d28",
   "metadata": {},
   "outputs": [
    {
     "name": "stdout",
     "output_type": "stream",
     "text": [
      "<class 'pandas.core.frame.DataFrame'>\n",
      "Int64Index: 71231 entries, 0 to 71230\n",
      "Columns: 258 entries, Unnamed: 0_x to 252\n",
      "dtypes: float64(254), int64(4)\n",
      "memory usage: 140.8 MB\n"
     ]
    }
   ],
   "source": [
    "# test dataset\n",
    "df_test_extended.info(memory_usage='deep')"
   ]
  },
  {
   "cell_type": "markdown",
   "id": "72347eb8",
   "metadata": {},
   "source": [
    "Поиск пропусков:"
   ]
  },
  {
   "cell_type": "code",
   "execution_count": 26,
   "id": "09a4505b",
   "metadata": {},
   "outputs": [
    {
     "data": {
      "text/html": [
       "<div>\n",
       "<style scoped>\n",
       "    .dataframe tbody tr th:only-of-type {\n",
       "        vertical-align: middle;\n",
       "    }\n",
       "\n",
       "    .dataframe tbody tr th {\n",
       "        vertical-align: top;\n",
       "    }\n",
       "\n",
       "    .dataframe thead th {\n",
       "        text-align: right;\n",
       "    }\n",
       "</style>\n",
       "<table border=\"1\" class=\"dataframe\">\n",
       "  <thead>\n",
       "    <tr style=\"text-align: right;\">\n",
       "      <th></th>\n",
       "      <th>Total</th>\n",
       "      <th>Percent</th>\n",
       "    </tr>\n",
       "  </thead>\n",
       "  <tbody>\n",
       "    <tr>\n",
       "      <th>Unnamed: 0_x</th>\n",
       "      <td>0</td>\n",
       "      <td>0.0</td>\n",
       "    </tr>\n",
       "    <tr>\n",
       "      <th>188</th>\n",
       "      <td>0</td>\n",
       "      <td>0.0</td>\n",
       "    </tr>\n",
       "    <tr>\n",
       "      <th>158</th>\n",
       "      <td>0</td>\n",
       "      <td>0.0</td>\n",
       "    </tr>\n",
       "    <tr>\n",
       "      <th>159</th>\n",
       "      <td>0</td>\n",
       "      <td>0.0</td>\n",
       "    </tr>\n",
       "    <tr>\n",
       "      <th>160</th>\n",
       "      <td>0</td>\n",
       "      <td>0.0</td>\n",
       "    </tr>\n",
       "    <tr>\n",
       "      <th>...</th>\n",
       "      <td>...</td>\n",
       "      <td>...</td>\n",
       "    </tr>\n",
       "    <tr>\n",
       "      <th>85</th>\n",
       "      <td>0</td>\n",
       "      <td>0.0</td>\n",
       "    </tr>\n",
       "    <tr>\n",
       "      <th>86</th>\n",
       "      <td>0</td>\n",
       "      <td>0.0</td>\n",
       "    </tr>\n",
       "    <tr>\n",
       "      <th>87</th>\n",
       "      <td>0</td>\n",
       "      <td>0.0</td>\n",
       "    </tr>\n",
       "    <tr>\n",
       "      <th>88</th>\n",
       "      <td>0</td>\n",
       "      <td>0.0</td>\n",
       "    </tr>\n",
       "    <tr>\n",
       "      <th>252</th>\n",
       "      <td>0</td>\n",
       "      <td>0.0</td>\n",
       "    </tr>\n",
       "  </tbody>\n",
       "</table>\n",
       "<p>259 rows × 2 columns</p>\n",
       "</div>"
      ],
      "text/plain": [
       "              Total  Percent\n",
       "Unnamed: 0_x      0      0.0\n",
       "188               0      0.0\n",
       "158               0      0.0\n",
       "159               0      0.0\n",
       "160               0      0.0\n",
       "...             ...      ...\n",
       "85                0      0.0\n",
       "86                0      0.0\n",
       "87                0      0.0\n",
       "88                0      0.0\n",
       "252               0      0.0\n",
       "\n",
       "[259 rows x 2 columns]"
      ]
     },
     "execution_count": 26,
     "metadata": {},
     "output_type": "execute_result"
    }
   ],
   "source": [
    "# train dataset\n",
    "data_frame_missing_values(df=df_train_extended)"
   ]
  },
  {
   "cell_type": "code",
   "execution_count": 27,
   "id": "71b50a6e",
   "metadata": {},
   "outputs": [
    {
     "data": {
      "text/plain": [
       "Index([], dtype='object')"
      ]
     },
     "execution_count": 27,
     "metadata": {},
     "output_type": "execute_result"
    }
   ],
   "source": [
    "# train dataset\n",
    "df_train_extended[df_train_extended.columns[df_train_extended.isnull().any()]].columns"
   ]
  },
  {
   "cell_type": "code",
   "execution_count": 28,
   "id": "2069d259",
   "metadata": {},
   "outputs": [
    {
     "data": {
      "text/html": [
       "<div>\n",
       "<style scoped>\n",
       "    .dataframe tbody tr th:only-of-type {\n",
       "        vertical-align: middle;\n",
       "    }\n",
       "\n",
       "    .dataframe tbody tr th {\n",
       "        vertical-align: top;\n",
       "    }\n",
       "\n",
       "    .dataframe thead th {\n",
       "        text-align: right;\n",
       "    }\n",
       "</style>\n",
       "<table border=\"1\" class=\"dataframe\">\n",
       "  <thead>\n",
       "    <tr style=\"text-align: right;\">\n",
       "      <th></th>\n",
       "      <th>Total</th>\n",
       "      <th>Percent</th>\n",
       "    </tr>\n",
       "  </thead>\n",
       "  <tbody>\n",
       "    <tr>\n",
       "      <th>Unnamed: 0_x</th>\n",
       "      <td>0</td>\n",
       "      <td>0.0</td>\n",
       "    </tr>\n",
       "    <tr>\n",
       "      <th>188</th>\n",
       "      <td>0</td>\n",
       "      <td>0.0</td>\n",
       "    </tr>\n",
       "    <tr>\n",
       "      <th>158</th>\n",
       "      <td>0</td>\n",
       "      <td>0.0</td>\n",
       "    </tr>\n",
       "    <tr>\n",
       "      <th>159</th>\n",
       "      <td>0</td>\n",
       "      <td>0.0</td>\n",
       "    </tr>\n",
       "    <tr>\n",
       "      <th>160</th>\n",
       "      <td>0</td>\n",
       "      <td>0.0</td>\n",
       "    </tr>\n",
       "    <tr>\n",
       "      <th>...</th>\n",
       "      <td>...</td>\n",
       "      <td>...</td>\n",
       "    </tr>\n",
       "    <tr>\n",
       "      <th>86</th>\n",
       "      <td>0</td>\n",
       "      <td>0.0</td>\n",
       "    </tr>\n",
       "    <tr>\n",
       "      <th>87</th>\n",
       "      <td>0</td>\n",
       "      <td>0.0</td>\n",
       "    </tr>\n",
       "    <tr>\n",
       "      <th>88</th>\n",
       "      <td>0</td>\n",
       "      <td>0.0</td>\n",
       "    </tr>\n",
       "    <tr>\n",
       "      <th>89</th>\n",
       "      <td>0</td>\n",
       "      <td>0.0</td>\n",
       "    </tr>\n",
       "    <tr>\n",
       "      <th>252</th>\n",
       "      <td>0</td>\n",
       "      <td>0.0</td>\n",
       "    </tr>\n",
       "  </tbody>\n",
       "</table>\n",
       "<p>258 rows × 2 columns</p>\n",
       "</div>"
      ],
      "text/plain": [
       "              Total  Percent\n",
       "Unnamed: 0_x      0      0.0\n",
       "188               0      0.0\n",
       "158               0      0.0\n",
       "159               0      0.0\n",
       "160               0      0.0\n",
       "...             ...      ...\n",
       "86                0      0.0\n",
       "87                0      0.0\n",
       "88                0      0.0\n",
       "89                0      0.0\n",
       "252               0      0.0\n",
       "\n",
       "[258 rows x 2 columns]"
      ]
     },
     "execution_count": 28,
     "metadata": {},
     "output_type": "execute_result"
    }
   ],
   "source": [
    "# test dataset\n",
    "data_frame_missing_values(df=df_test_extended)"
   ]
  },
  {
   "cell_type": "code",
   "execution_count": 29,
   "id": "c8c9fa3c",
   "metadata": {},
   "outputs": [
    {
     "data": {
      "text/plain": [
       "Index([], dtype='object')"
      ]
     },
     "execution_count": 29,
     "metadata": {},
     "output_type": "execute_result"
    }
   ],
   "source": [
    "# test dataset\n",
    "df_test_extended[df_test_extended.columns[df_test_extended.isnull().any()]].columns"
   ]
  },
  {
   "cell_type": "markdown",
   "id": "1e17227e",
   "metadata": {},
   "source": [
    "< Примечание > Пропуски не обнаружены."
   ]
  },
  {
   "cell_type": "markdown",
   "id": "1100af9a",
   "metadata": {},
   "source": [
    "Описательная статистика:"
   ]
  },
  {
   "cell_type": "code",
   "execution_count": 30,
   "id": "cefdaea6",
   "metadata": {},
   "outputs": [
    {
     "data": {
      "text/html": [
       "<div>\n",
       "<style scoped>\n",
       "    .dataframe tbody tr th:only-of-type {\n",
       "        vertical-align: middle;\n",
       "    }\n",
       "\n",
       "    .dataframe tbody tr th {\n",
       "        vertical-align: top;\n",
       "    }\n",
       "\n",
       "    .dataframe thead th {\n",
       "        text-align: right;\n",
       "    }\n",
       "</style>\n",
       "<table border=\"1\" class=\"dataframe\">\n",
       "  <thead>\n",
       "    <tr style=\"text-align: right;\">\n",
       "      <th></th>\n",
       "      <th>Unnamed: 0_x</th>\n",
       "      <th>id</th>\n",
       "      <th>vas_id</th>\n",
       "      <th>buy_time</th>\n",
       "      <th>target</th>\n",
       "      <th>Unnamed: 0_y</th>\n",
       "      <th>0</th>\n",
       "      <th>1</th>\n",
       "      <th>2</th>\n",
       "      <th>3</th>\n",
       "      <th>...</th>\n",
       "      <th>243</th>\n",
       "      <th>244</th>\n",
       "      <th>245</th>\n",
       "      <th>246</th>\n",
       "      <th>247</th>\n",
       "      <th>248</th>\n",
       "      <th>249</th>\n",
       "      <th>250</th>\n",
       "      <th>251</th>\n",
       "      <th>252</th>\n",
       "    </tr>\n",
       "  </thead>\n",
       "  <tbody>\n",
       "    <tr>\n",
       "      <th>count</th>\n",
       "      <td>831653.000000</td>\n",
       "      <td>8.316530e+05</td>\n",
       "      <td>831653.000000</td>\n",
       "      <td>8.316530e+05</td>\n",
       "      <td>831653.000000</td>\n",
       "      <td>8.316530e+05</td>\n",
       "      <td>831653.000000</td>\n",
       "      <td>831653.000000</td>\n",
       "      <td>831653.000000</td>\n",
       "      <td>831653.000000</td>\n",
       "      <td>...</td>\n",
       "      <td>831653.000000</td>\n",
       "      <td>831653.000000</td>\n",
       "      <td>831653.000000</td>\n",
       "      <td>831653.000000</td>\n",
       "      <td>831653.000000</td>\n",
       "      <td>831653.000000</td>\n",
       "      <td>831653.000000</td>\n",
       "      <td>831653.000000</td>\n",
       "      <td>831653.000000</td>\n",
       "      <td>831653.000000</td>\n",
       "    </tr>\n",
       "    <tr>\n",
       "      <th>mean</th>\n",
       "      <td>415826.000000</td>\n",
       "      <td>2.158304e+06</td>\n",
       "      <td>2.686185</td>\n",
       "      <td>1.538937e+09</td>\n",
       "      <td>0.072369</td>\n",
       "      <td>2.255068e+06</td>\n",
       "      <td>0.301305</td>\n",
       "      <td>1.801171</td>\n",
       "      <td>0.237122</td>\n",
       "      <td>2.066912</td>\n",
       "      <td>...</td>\n",
       "      <td>0.548224</td>\n",
       "      <td>0.861826</td>\n",
       "      <td>0.376413</td>\n",
       "      <td>-0.060829</td>\n",
       "      <td>-1.191119</td>\n",
       "      <td>0.017000</td>\n",
       "      <td>-0.032236</td>\n",
       "      <td>0.205423</td>\n",
       "      <td>0.006831</td>\n",
       "      <td>0.258348</td>\n",
       "    </tr>\n",
       "    <tr>\n",
       "      <th>std</th>\n",
       "      <td>240077.686049</td>\n",
       "      <td>1.257907e+06</td>\n",
       "      <td>1.952034</td>\n",
       "      <td>5.019053e+06</td>\n",
       "      <td>0.259098</td>\n",
       "      <td>1.303026e+06</td>\n",
       "      <td>299.521194</td>\n",
       "      <td>491.218561</td>\n",
       "      <td>306.206853</td>\n",
       "      <td>555.532880</td>\n",
       "      <td>...</td>\n",
       "      <td>3188.381159</td>\n",
       "      <td>2229.624662</td>\n",
       "      <td>1362.344980</td>\n",
       "      <td>300.972661</td>\n",
       "      <td>1293.871974</td>\n",
       "      <td>265.417080</td>\n",
       "      <td>7.032948</td>\n",
       "      <td>204.421027</td>\n",
       "      <td>11.730679</td>\n",
       "      <td>2.095543</td>\n",
       "    </tr>\n",
       "    <tr>\n",
       "      <th>min</th>\n",
       "      <td>0.000000</td>\n",
       "      <td>2.000000e+00</td>\n",
       "      <td>1.000000</td>\n",
       "      <td>1.531084e+09</td>\n",
       "      <td>0.000000</td>\n",
       "      <td>1.300000e+01</td>\n",
       "      <td>-1151.889971</td>\n",
       "      <td>-1594.119112</td>\n",
       "      <td>-2651.840786</td>\n",
       "      <td>-1634.436798</td>\n",
       "      <td>...</td>\n",
       "      <td>-977.373846</td>\n",
       "      <td>-613.770792</td>\n",
       "      <td>-25.996269</td>\n",
       "      <td>-37.630448</td>\n",
       "      <td>-306.747724</td>\n",
       "      <td>-25.832889</td>\n",
       "      <td>-0.694428</td>\n",
       "      <td>-12.175933</td>\n",
       "      <td>-0.456140</td>\n",
       "      <td>0.000000</td>\n",
       "    </tr>\n",
       "    <tr>\n",
       "      <th>25%</th>\n",
       "      <td>207913.000000</td>\n",
       "      <td>1.067319e+06</td>\n",
       "      <td>1.000000</td>\n",
       "      <td>1.534108e+09</td>\n",
       "      <td>0.000000</td>\n",
       "      <td>1.126068e+06</td>\n",
       "      <td>-96.799971</td>\n",
       "      <td>-208.339112</td>\n",
       "      <td>-110.740786</td>\n",
       "      <td>-242.146798</td>\n",
       "      <td>...</td>\n",
       "      <td>-977.373846</td>\n",
       "      <td>-613.770792</td>\n",
       "      <td>-25.996269</td>\n",
       "      <td>-37.630448</td>\n",
       "      <td>-305.747724</td>\n",
       "      <td>-25.832889</td>\n",
       "      <td>-0.694428</td>\n",
       "      <td>-12.175933</td>\n",
       "      <td>-0.456140</td>\n",
       "      <td>0.000000</td>\n",
       "    </tr>\n",
       "    <tr>\n",
       "      <th>50%</th>\n",
       "      <td>415826.000000</td>\n",
       "      <td>2.144574e+06</td>\n",
       "      <td>2.000000</td>\n",
       "      <td>1.538341e+09</td>\n",
       "      <td>0.000000</td>\n",
       "      <td>2.253818e+06</td>\n",
       "      <td>-84.939971</td>\n",
       "      <td>-59.029112</td>\n",
       "      <td>-85.300786</td>\n",
       "      <td>-77.866798</td>\n",
       "      <td>...</td>\n",
       "      <td>-958.373846</td>\n",
       "      <td>-613.770792</td>\n",
       "      <td>-25.996269</td>\n",
       "      <td>-37.630448</td>\n",
       "      <td>-239.747724</td>\n",
       "      <td>-23.832889</td>\n",
       "      <td>-0.694428</td>\n",
       "      <td>-12.175933</td>\n",
       "      <td>-0.456140</td>\n",
       "      <td>0.000000</td>\n",
       "    </tr>\n",
       "    <tr>\n",
       "      <th>75%</th>\n",
       "      <td>623739.000000</td>\n",
       "      <td>3.244254e+06</td>\n",
       "      <td>4.000000</td>\n",
       "      <td>1.544389e+09</td>\n",
       "      <td>0.000000</td>\n",
       "      <td>3.383252e+06</td>\n",
       "      <td>11.850029</td>\n",
       "      <td>120.620888</td>\n",
       "      <td>27.439214</td>\n",
       "      <td>128.733202</td>\n",
       "      <td>...</td>\n",
       "      <td>-482.373846</td>\n",
       "      <td>-405.770792</td>\n",
       "      <td>-24.996269</td>\n",
       "      <td>-32.630448</td>\n",
       "      <td>-77.747724</td>\n",
       "      <td>-10.832889</td>\n",
       "      <td>-0.694428</td>\n",
       "      <td>-9.175933</td>\n",
       "      <td>-0.456140</td>\n",
       "      <td>1.000000</td>\n",
       "    </tr>\n",
       "    <tr>\n",
       "      <th>max</th>\n",
       "      <td>831652.000000</td>\n",
       "      <td>4.362694e+06</td>\n",
       "      <td>9.000000</td>\n",
       "      <td>1.546204e+09</td>\n",
       "      <td>1.000000</td>\n",
       "      <td>4.512521e+06</td>\n",
       "      <td>211730.720029</td>\n",
       "      <td>212606.130888</td>\n",
       "      <td>211716.779214</td>\n",
       "      <td>213357.743202</td>\n",
       "      <td>...</td>\n",
       "      <td>173834.626154</td>\n",
       "      <td>145602.229208</td>\n",
       "      <td>980158.003731</td>\n",
       "      <td>47086.369552</td>\n",
       "      <td>185850.252276</td>\n",
       "      <td>138539.167111</td>\n",
       "      <td>2285.305572</td>\n",
       "      <td>138552.824067</td>\n",
       "      <td>9489.543860</td>\n",
       "      <td>1743.000000</td>\n",
       "    </tr>\n",
       "  </tbody>\n",
       "</table>\n",
       "<p>8 rows × 259 columns</p>\n",
       "</div>"
      ],
      "text/plain": [
       "        Unnamed: 0_x            id         vas_id      buy_time  \\\n",
       "count  831653.000000  8.316530e+05  831653.000000  8.316530e+05   \n",
       "mean   415826.000000  2.158304e+06       2.686185  1.538937e+09   \n",
       "std    240077.686049  1.257907e+06       1.952034  5.019053e+06   \n",
       "min         0.000000  2.000000e+00       1.000000  1.531084e+09   \n",
       "25%    207913.000000  1.067319e+06       1.000000  1.534108e+09   \n",
       "50%    415826.000000  2.144574e+06       2.000000  1.538341e+09   \n",
       "75%    623739.000000  3.244254e+06       4.000000  1.544389e+09   \n",
       "max    831652.000000  4.362694e+06       9.000000  1.546204e+09   \n",
       "\n",
       "              target  Unnamed: 0_y              0              1  \\\n",
       "count  831653.000000  8.316530e+05  831653.000000  831653.000000   \n",
       "mean        0.072369  2.255068e+06       0.301305       1.801171   \n",
       "std         0.259098  1.303026e+06     299.521194     491.218561   \n",
       "min         0.000000  1.300000e+01   -1151.889971   -1594.119112   \n",
       "25%         0.000000  1.126068e+06     -96.799971    -208.339112   \n",
       "50%         0.000000  2.253818e+06     -84.939971     -59.029112   \n",
       "75%         0.000000  3.383252e+06      11.850029     120.620888   \n",
       "max         1.000000  4.512521e+06  211730.720029  212606.130888   \n",
       "\n",
       "                   2              3  ...            243            244  \\\n",
       "count  831653.000000  831653.000000  ...  831653.000000  831653.000000   \n",
       "mean        0.237122       2.066912  ...       0.548224       0.861826   \n",
       "std       306.206853     555.532880  ...    3188.381159    2229.624662   \n",
       "min     -2651.840786   -1634.436798  ...    -977.373846    -613.770792   \n",
       "25%      -110.740786    -242.146798  ...    -977.373846    -613.770792   \n",
       "50%       -85.300786     -77.866798  ...    -958.373846    -613.770792   \n",
       "75%        27.439214     128.733202  ...    -482.373846    -405.770792   \n",
       "max    211716.779214  213357.743202  ...  173834.626154  145602.229208   \n",
       "\n",
       "                 245            246            247            248  \\\n",
       "count  831653.000000  831653.000000  831653.000000  831653.000000   \n",
       "mean        0.376413      -0.060829      -1.191119       0.017000   \n",
       "std      1362.344980     300.972661    1293.871974     265.417080   \n",
       "min       -25.996269     -37.630448    -306.747724     -25.832889   \n",
       "25%       -25.996269     -37.630448    -305.747724     -25.832889   \n",
       "50%       -25.996269     -37.630448    -239.747724     -23.832889   \n",
       "75%       -24.996269     -32.630448     -77.747724     -10.832889   \n",
       "max    980158.003731   47086.369552  185850.252276  138539.167111   \n",
       "\n",
       "                 249            250            251            252  \n",
       "count  831653.000000  831653.000000  831653.000000  831653.000000  \n",
       "mean       -0.032236       0.205423       0.006831       0.258348  \n",
       "std         7.032948     204.421027      11.730679       2.095543  \n",
       "min        -0.694428     -12.175933      -0.456140       0.000000  \n",
       "25%        -0.694428     -12.175933      -0.456140       0.000000  \n",
       "50%        -0.694428     -12.175933      -0.456140       0.000000  \n",
       "75%        -0.694428      -9.175933      -0.456140       1.000000  \n",
       "max      2285.305572  138552.824067    9489.543860    1743.000000  \n",
       "\n",
       "[8 rows x 259 columns]"
      ]
     },
     "execution_count": 30,
     "metadata": {},
     "output_type": "execute_result"
    }
   ],
   "source": [
    "# train dataset\n",
    "df_train_extended.describe()"
   ]
  },
  {
   "cell_type": "code",
   "execution_count": 31,
   "id": "0fad3705",
   "metadata": {},
   "outputs": [
    {
     "data": {
      "text/html": [
       "<div>\n",
       "<style scoped>\n",
       "    .dataframe tbody tr th:only-of-type {\n",
       "        vertical-align: middle;\n",
       "    }\n",
       "\n",
       "    .dataframe tbody tr th {\n",
       "        vertical-align: top;\n",
       "    }\n",
       "\n",
       "    .dataframe thead th {\n",
       "        text-align: right;\n",
       "    }\n",
       "</style>\n",
       "<table border=\"1\" class=\"dataframe\">\n",
       "  <thead>\n",
       "    <tr style=\"text-align: right;\">\n",
       "      <th></th>\n",
       "      <th>Unnamed: 0_x</th>\n",
       "      <th>id</th>\n",
       "      <th>vas_id</th>\n",
       "      <th>buy_time</th>\n",
       "      <th>Unnamed: 0_y</th>\n",
       "      <th>0</th>\n",
       "      <th>1</th>\n",
       "      <th>2</th>\n",
       "      <th>3</th>\n",
       "      <th>4</th>\n",
       "      <th>...</th>\n",
       "      <th>243</th>\n",
       "      <th>244</th>\n",
       "      <th>245</th>\n",
       "      <th>246</th>\n",
       "      <th>247</th>\n",
       "      <th>248</th>\n",
       "      <th>249</th>\n",
       "      <th>250</th>\n",
       "      <th>251</th>\n",
       "      <th>252</th>\n",
       "    </tr>\n",
       "  </thead>\n",
       "  <tbody>\n",
       "    <tr>\n",
       "      <th>count</th>\n",
       "      <td>71231.000000</td>\n",
       "      <td>7.123100e+04</td>\n",
       "      <td>71231.000000</td>\n",
       "      <td>7.123100e+04</td>\n",
       "      <td>7.123100e+04</td>\n",
       "      <td>71231.000000</td>\n",
       "      <td>71231.000000</td>\n",
       "      <td>71231.000000</td>\n",
       "      <td>71231.000000</td>\n",
       "      <td>71231.000000</td>\n",
       "      <td>...</td>\n",
       "      <td>71231.000000</td>\n",
       "      <td>71231.000000</td>\n",
       "      <td>71231.000000</td>\n",
       "      <td>71231.000000</td>\n",
       "      <td>71231.000000</td>\n",
       "      <td>71231.000000</td>\n",
       "      <td>71231.000000</td>\n",
       "      <td>71231.000000</td>\n",
       "      <td>71231.000000</td>\n",
       "      <td>71231.000000</td>\n",
       "    </tr>\n",
       "    <tr>\n",
       "      <th>mean</th>\n",
       "      <td>35615.000000</td>\n",
       "      <td>2.153308e+06</td>\n",
       "      <td>3.435793</td>\n",
       "      <td>1.547315e+09</td>\n",
       "      <td>2.255218e+06</td>\n",
       "      <td>0.585438</td>\n",
       "      <td>2.334213</td>\n",
       "      <td>0.121213</td>\n",
       "      <td>1.115571</td>\n",
       "      <td>0.162221</td>\n",
       "      <td>...</td>\n",
       "      <td>10.214648</td>\n",
       "      <td>21.596253</td>\n",
       "      <td>-2.163345</td>\n",
       "      <td>1.802650</td>\n",
       "      <td>4.096179</td>\n",
       "      <td>-0.424752</td>\n",
       "      <td>0.039157</td>\n",
       "      <td>0.143815</td>\n",
       "      <td>-0.013734</td>\n",
       "      <td>0.263916</td>\n",
       "    </tr>\n",
       "    <tr>\n",
       "      <th>std</th>\n",
       "      <td>20562.762849</td>\n",
       "      <td>1.261506e+06</td>\n",
       "      <td>1.974035</td>\n",
       "      <td>4.422569e+05</td>\n",
       "      <td>1.300973e+06</td>\n",
       "      <td>190.577265</td>\n",
       "      <td>394.287894</td>\n",
       "      <td>200.147881</td>\n",
       "      <td>447.733595</td>\n",
       "      <td>218.575453</td>\n",
       "      <td>...</td>\n",
       "      <td>3153.451148</td>\n",
       "      <td>2340.195175</td>\n",
       "      <td>798.593838</td>\n",
       "      <td>316.060558</td>\n",
       "      <td>1363.547905</td>\n",
       "      <td>179.815040</td>\n",
       "      <td>12.818944</td>\n",
       "      <td>128.695554</td>\n",
       "      <td>4.490484</td>\n",
       "      <td>1.882442</td>\n",
       "    </tr>\n",
       "    <tr>\n",
       "      <th>min</th>\n",
       "      <td>0.000000</td>\n",
       "      <td>5.500000e+01</td>\n",
       "      <td>1.000000</td>\n",
       "      <td>1.546808e+09</td>\n",
       "      <td>1.410000e+02</td>\n",
       "      <td>-622.229971</td>\n",
       "      <td>-745.049112</td>\n",
       "      <td>-633.630786</td>\n",
       "      <td>-793.416798</td>\n",
       "      <td>-639.048246</td>\n",
       "      <td>...</td>\n",
       "      <td>-977.373846</td>\n",
       "      <td>-613.770792</td>\n",
       "      <td>-25.996269</td>\n",
       "      <td>-37.630448</td>\n",
       "      <td>-306.747724</td>\n",
       "      <td>-25.832889</td>\n",
       "      <td>-0.694428</td>\n",
       "      <td>-12.175933</td>\n",
       "      <td>-0.456140</td>\n",
       "      <td>0.000000</td>\n",
       "    </tr>\n",
       "    <tr>\n",
       "      <th>25%</th>\n",
       "      <td>17807.500000</td>\n",
       "      <td>1.053974e+06</td>\n",
       "      <td>2.000000</td>\n",
       "      <td>1.546808e+09</td>\n",
       "      <td>1.125666e+06</td>\n",
       "      <td>-96.799971</td>\n",
       "      <td>-206.124112</td>\n",
       "      <td>-110.740786</td>\n",
       "      <td>-240.446798</td>\n",
       "      <td>-116.158246</td>\n",
       "      <td>...</td>\n",
       "      <td>-977.373846</td>\n",
       "      <td>-613.770792</td>\n",
       "      <td>-25.996269</td>\n",
       "      <td>-37.630448</td>\n",
       "      <td>-304.747724</td>\n",
       "      <td>-25.832889</td>\n",
       "      <td>-0.694428</td>\n",
       "      <td>-12.175933</td>\n",
       "      <td>-0.456140</td>\n",
       "      <td>0.000000</td>\n",
       "    </tr>\n",
       "    <tr>\n",
       "      <th>50%</th>\n",
       "      <td>35615.000000</td>\n",
       "      <td>2.135540e+06</td>\n",
       "      <td>2.000000</td>\n",
       "      <td>1.547413e+09</td>\n",
       "      <td>2.249225e+06</td>\n",
       "      <td>-85.189971</td>\n",
       "      <td>-60.719112</td>\n",
       "      <td>-85.320786</td>\n",
       "      <td>-78.716798</td>\n",
       "      <td>-88.198246</td>\n",
       "      <td>...</td>\n",
       "      <td>-957.373846</td>\n",
       "      <td>-613.770792</td>\n",
       "      <td>-25.996269</td>\n",
       "      <td>-37.630448</td>\n",
       "      <td>-238.747724</td>\n",
       "      <td>-23.832889</td>\n",
       "      <td>-0.694428</td>\n",
       "      <td>-12.175933</td>\n",
       "      <td>-0.456140</td>\n",
       "      <td>0.000000</td>\n",
       "    </tr>\n",
       "    <tr>\n",
       "      <th>75%</th>\n",
       "      <td>53422.500000</td>\n",
       "      <td>3.247490e+06</td>\n",
       "      <td>5.000000</td>\n",
       "      <td>1.547413e+09</td>\n",
       "      <td>3.382428e+06</td>\n",
       "      <td>12.960029</td>\n",
       "      <td>119.360888</td>\n",
       "      <td>26.979214</td>\n",
       "      <td>126.613202</td>\n",
       "      <td>27.921754</td>\n",
       "      <td>...</td>\n",
       "      <td>-470.373846</td>\n",
       "      <td>-397.770792</td>\n",
       "      <td>-24.996269</td>\n",
       "      <td>-33.630448</td>\n",
       "      <td>-72.747724</td>\n",
       "      <td>-9.832889</td>\n",
       "      <td>-0.694428</td>\n",
       "      <td>-9.175933</td>\n",
       "      <td>-0.456140</td>\n",
       "      <td>1.000000</td>\n",
       "    </tr>\n",
       "    <tr>\n",
       "      <th>max</th>\n",
       "      <td>71230.000000</td>\n",
       "      <td>4.362720e+06</td>\n",
       "      <td>9.000000</td>\n",
       "      <td>1.548018e+09</td>\n",
       "      <td>4.512503e+06</td>\n",
       "      <td>7811.250029</td>\n",
       "      <td>21708.500888</td>\n",
       "      <td>7797.309214</td>\n",
       "      <td>22189.713202</td>\n",
       "      <td>7791.891754</td>\n",
       "      <td>...</td>\n",
       "      <td>105508.626154</td>\n",
       "      <td>105849.229208</td>\n",
       "      <td>148861.003731</td>\n",
       "      <td>18889.369552</td>\n",
       "      <td>93539.252276</td>\n",
       "      <td>13352.167111</td>\n",
       "      <td>2853.305572</td>\n",
       "      <td>13197.824067</td>\n",
       "      <td>364.543860</td>\n",
       "      <td>446.000000</td>\n",
       "    </tr>\n",
       "  </tbody>\n",
       "</table>\n",
       "<p>8 rows × 258 columns</p>\n",
       "</div>"
      ],
      "text/plain": [
       "       Unnamed: 0_x            id        vas_id      buy_time  Unnamed: 0_y  \\\n",
       "count  71231.000000  7.123100e+04  71231.000000  7.123100e+04  7.123100e+04   \n",
       "mean   35615.000000  2.153308e+06      3.435793  1.547315e+09  2.255218e+06   \n",
       "std    20562.762849  1.261506e+06      1.974035  4.422569e+05  1.300973e+06   \n",
       "min        0.000000  5.500000e+01      1.000000  1.546808e+09  1.410000e+02   \n",
       "25%    17807.500000  1.053974e+06      2.000000  1.546808e+09  1.125666e+06   \n",
       "50%    35615.000000  2.135540e+06      2.000000  1.547413e+09  2.249225e+06   \n",
       "75%    53422.500000  3.247490e+06      5.000000  1.547413e+09  3.382428e+06   \n",
       "max    71230.000000  4.362720e+06      9.000000  1.548018e+09  4.512503e+06   \n",
       "\n",
       "                  0             1             2             3             4  \\\n",
       "count  71231.000000  71231.000000  71231.000000  71231.000000  71231.000000   \n",
       "mean       0.585438      2.334213      0.121213      1.115571      0.162221   \n",
       "std      190.577265    394.287894    200.147881    447.733595    218.575453   \n",
       "min     -622.229971   -745.049112   -633.630786   -793.416798   -639.048246   \n",
       "25%      -96.799971   -206.124112   -110.740786   -240.446798   -116.158246   \n",
       "50%      -85.189971    -60.719112    -85.320786    -78.716798    -88.198246   \n",
       "75%       12.960029    119.360888     26.979214    126.613202     27.921754   \n",
       "max     7811.250029  21708.500888   7797.309214  22189.713202   7791.891754   \n",
       "\n",
       "       ...            243            244            245           246  \\\n",
       "count  ...   71231.000000   71231.000000   71231.000000  71231.000000   \n",
       "mean   ...      10.214648      21.596253      -2.163345      1.802650   \n",
       "std    ...    3153.451148    2340.195175     798.593838    316.060558   \n",
       "min    ...    -977.373846    -613.770792     -25.996269    -37.630448   \n",
       "25%    ...    -977.373846    -613.770792     -25.996269    -37.630448   \n",
       "50%    ...    -957.373846    -613.770792     -25.996269    -37.630448   \n",
       "75%    ...    -470.373846    -397.770792     -24.996269    -33.630448   \n",
       "max    ...  105508.626154  105849.229208  148861.003731  18889.369552   \n",
       "\n",
       "                247           248           249           250           251  \\\n",
       "count  71231.000000  71231.000000  71231.000000  71231.000000  71231.000000   \n",
       "mean       4.096179     -0.424752      0.039157      0.143815     -0.013734   \n",
       "std     1363.547905    179.815040     12.818944    128.695554      4.490484   \n",
       "min     -306.747724    -25.832889     -0.694428    -12.175933     -0.456140   \n",
       "25%     -304.747724    -25.832889     -0.694428    -12.175933     -0.456140   \n",
       "50%     -238.747724    -23.832889     -0.694428    -12.175933     -0.456140   \n",
       "75%      -72.747724     -9.832889     -0.694428     -9.175933     -0.456140   \n",
       "max    93539.252276  13352.167111   2853.305572  13197.824067    364.543860   \n",
       "\n",
       "                252  \n",
       "count  71231.000000  \n",
       "mean       0.263916  \n",
       "std        1.882442  \n",
       "min        0.000000  \n",
       "25%        0.000000  \n",
       "50%        0.000000  \n",
       "75%        1.000000  \n",
       "max      446.000000  \n",
       "\n",
       "[8 rows x 258 columns]"
      ]
     },
     "execution_count": 31,
     "metadata": {},
     "output_type": "execute_result"
    }
   ],
   "source": [
    "# test dataset\n",
    "df_test_extended.describe()"
   ]
  },
  {
   "cell_type": "markdown",
   "id": "f9390501",
   "metadata": {},
   "source": [
    "< Примечание > Признаки 'Unnamed: 0_x' и 'Unnamed: 0_y', по всей видимости, являются порядковыми номерами экземпляров и не несут прогностического смысла, поэтому они предлагаются к исключению. Предполагается, что признак 'id' (идентификатор абонента) не несёт прогностического смысла и также предлагается к исключению.   "
   ]
  },
  {
   "cell_type": "code",
   "execution_count": 32,
   "id": "19f6835a",
   "metadata": {},
   "outputs": [],
   "source": [
    "features_to_drop = ['Unnamed: 0_x', 'Unnamed: 0_y', 'id']\n",
    "drop_list.update(features_to_drop)"
   ]
  },
  {
   "cell_type": "markdown",
   "id": "e8d1b920",
   "metadata": {},
   "source": [
    "Поиск признаков с единственным уникальным значением в тренировочном датасете:"
   ]
  },
  {
   "cell_type": "code",
   "execution_count": 33,
   "id": "1f885b07",
   "metadata": {},
   "outputs": [
    {
     "data": {
      "text/plain": [
       "{'139', '203', '75', '81', '85'}"
      ]
     },
     "execution_count": 33,
     "metadata": {},
     "output_type": "execute_result"
    }
   ],
   "source": [
    "# train dataset\n",
    "nunique_1 = set(df_train_extended.columns[df_train_extended.nunique() == 1])\n",
    "nunique_1"
   ]
  },
  {
   "cell_type": "markdown",
   "id": "1c4a49d4",
   "metadata": {},
   "source": [
    "< Примечние > Представленные выше признаки содержат единственные уникальные значения, поэтому не несут прогностического смысла. Данные признаки предлагаются к исключению."
   ]
  },
  {
   "cell_type": "code",
   "execution_count": 34,
   "id": "2e35abc0",
   "metadata": {},
   "outputs": [],
   "source": [
    "drop_list.update(nunique_1)"
   ]
  },
  {
   "cell_type": "markdown",
   "id": "46792b36",
   "metadata": {},
   "source": [
    "Поиск бинарных признаков в тренировочном датасете:"
   ]
  },
  {
   "cell_type": "code",
   "execution_count": 35,
   "id": "9fc5e1c2",
   "metadata": {},
   "outputs": [
    {
     "data": {
      "text/plain": [
       "{'132',\n",
       " '192',\n",
       " '194',\n",
       " '195',\n",
       " '196',\n",
       " '197',\n",
       " '198',\n",
       " '199',\n",
       " '200',\n",
       " '201',\n",
       " '202',\n",
       " '204',\n",
       " '205',\n",
       " '206',\n",
       " '26',\n",
       " '27',\n",
       " '31',\n",
       " '32',\n",
       " '33',\n",
       " '57',\n",
       " 'target'}"
      ]
     },
     "execution_count": 35,
     "metadata": {},
     "output_type": "execute_result"
    }
   ],
   "source": [
    "# train dataset\n",
    "nunique_2 = set(df_train_extended.columns[df_train_extended.nunique() == 2])\n",
    "nunique_2"
   ]
  },
  {
   "cell_type": "markdown",
   "id": "45bf2f20",
   "metadata": {},
   "source": [
    "< Примечние > Представленные выше признаки являются бинарными. Данные признаки подлежат кодированию методом label encoding для повышения эффективности последующей предобработки данных и моделирования."
   ]
  },
  {
   "cell_type": "markdown",
   "id": "7d7f994b",
   "metadata": {},
   "source": [
    "Поиск дубликатов в тренировочном датасете:"
   ]
  },
  {
   "cell_type": "code",
   "execution_count": 36,
   "id": "bfc8dfd1",
   "metadata": {},
   "outputs": [],
   "source": [
    "# train dataset\n",
    "duplicates = df_train_extended.duplicated()"
   ]
  },
  {
   "cell_type": "code",
   "execution_count": 37,
   "id": "fad498d7",
   "metadata": {},
   "outputs": [
    {
     "data": {
      "text/plain": [
       "False"
      ]
     },
     "execution_count": 37,
     "metadata": {},
     "output_type": "execute_result"
    }
   ],
   "source": [
    "# train dataset\n",
    "duplicates.any()"
   ]
  },
  {
   "cell_type": "code",
   "execution_count": 38,
   "id": "490ab958",
   "metadata": {},
   "outputs": [
    {
     "data": {
      "text/html": [
       "<div>\n",
       "<style scoped>\n",
       "    .dataframe tbody tr th:only-of-type {\n",
       "        vertical-align: middle;\n",
       "    }\n",
       "\n",
       "    .dataframe tbody tr th {\n",
       "        vertical-align: top;\n",
       "    }\n",
       "\n",
       "    .dataframe thead th {\n",
       "        text-align: right;\n",
       "    }\n",
       "</style>\n",
       "<table border=\"1\" class=\"dataframe\">\n",
       "  <thead>\n",
       "    <tr style=\"text-align: right;\">\n",
       "      <th></th>\n",
       "      <th>Unnamed: 0_x</th>\n",
       "      <th>id</th>\n",
       "      <th>vas_id</th>\n",
       "      <th>buy_time</th>\n",
       "      <th>target</th>\n",
       "      <th>Unnamed: 0_y</th>\n",
       "      <th>0</th>\n",
       "      <th>1</th>\n",
       "      <th>2</th>\n",
       "      <th>3</th>\n",
       "      <th>...</th>\n",
       "      <th>243</th>\n",
       "      <th>244</th>\n",
       "      <th>245</th>\n",
       "      <th>246</th>\n",
       "      <th>247</th>\n",
       "      <th>248</th>\n",
       "      <th>249</th>\n",
       "      <th>250</th>\n",
       "      <th>251</th>\n",
       "      <th>252</th>\n",
       "    </tr>\n",
       "  </thead>\n",
       "  <tbody>\n",
       "  </tbody>\n",
       "</table>\n",
       "<p>0 rows × 259 columns</p>\n",
       "</div>"
      ],
      "text/plain": [
       "Empty DataFrame\n",
       "Columns: [Unnamed: 0_x, id, vas_id, buy_time, target, Unnamed: 0_y, 0, 1, 2, 3, 4, 5, 6, 7, 8, 9, 10, 11, 12, 13, 14, 15, 16, 17, 18, 19, 20, 21, 22, 23, 24, 25, 26, 27, 28, 29, 30, 31, 32, 33, 34, 35, 36, 37, 38, 39, 40, 41, 42, 43, 44, 45, 46, 47, 48, 49, 50, 51, 52, 53, 54, 55, 56, 57, 58, 59, 60, 61, 62, 63, 64, 65, 66, 67, 68, 69, 70, 71, 72, 73, 74, 75, 76, 77, 78, 79, 80, 81, 82, 83, 84, 85, 86, 87, 88, 89, 90, 91, 92, 93, ...]\n",
       "Index: []\n",
       "\n",
       "[0 rows x 259 columns]"
      ]
     },
     "execution_count": 38,
     "metadata": {},
     "output_type": "execute_result"
    }
   ],
   "source": [
    "# train dataset\n",
    "df_train_extended[duplicates]"
   ]
  },
  {
   "cell_type": "markdown",
   "id": "0f708287",
   "metadata": {},
   "source": [
    "< Примечание > Дубликаты не обнаружены."
   ]
  },
  {
   "cell_type": "markdown",
   "id": "0cf57930",
   "metadata": {},
   "source": [
    "Поиск абонентов, которым делалось предложение более одного раза:"
   ]
  },
  {
   "cell_type": "code",
   "execution_count": 39,
   "id": "cb346545",
   "metadata": {},
   "outputs": [
    {
     "data": {
      "text/plain": [
       "0    806613\n",
       "1     25040\n",
       "dtype: int64"
      ]
     },
     "execution_count": 39,
     "metadata": {},
     "output_type": "execute_result"
    }
   ],
   "source": [
    "df_train_extended.duplicated('id').astype(int).value_counts()"
   ]
  },
  {
   "cell_type": "markdown",
   "id": "499fc228",
   "metadata": {},
   "source": [
    "< Примечание > Некоторым из абонентов делалось предложение более одного раза. Предлагается рассмотреть целесообразность создания для последующего применения соотвествующего нового признака 'not_first_offer' (бинарный признак: 0 - первое предложение, 1 - не первое предложение).  "
   ]
  },
  {
   "cell_type": "markdown",
   "id": "42657861",
   "metadata": {},
   "source": [
    "### Создание и анализ признака 'not_first_offer'"
   ]
  },
  {
   "cell_type": "markdown",
   "id": "8cbb8f22",
   "metadata": {},
   "source": [
    "__Создание признака__"
   ]
  },
  {
   "cell_type": "code",
   "execution_count": 40,
   "id": "4bef3c35",
   "metadata": {},
   "outputs": [],
   "source": [
    "not_first_offer_train = df_train_extended.duplicated('id').astype(int)\n",
    "df_train_extended.insert(loc=0, column='not_first_offer', value=not_first_offer_train)"
   ]
  },
  {
   "cell_type": "markdown",
   "id": "c732fc97",
   "metadata": {},
   "source": [
    "__Анализ признака__"
   ]
  },
  {
   "cell_type": "markdown",
   "id": "33f6007c",
   "metadata": {},
   "source": [
    "Обзор распределения признака:"
   ]
  },
  {
   "cell_type": "code",
   "execution_count": 41,
   "id": "c8380537",
   "metadata": {},
   "outputs": [
    {
     "data": {
      "image/png": "[encoded data removed]",
      "text/plain": [
       "<Figure size 1200x800 with 1 Axes>"
      ]
     },
     "metadata": {},
     "output_type": "display_data"
    }
   ],
   "source": [
    "# диаграмма распределения\n",
    "distribution_diagram(\n",
    "    data=df_train_extended,\n",
    "    feature_name='not_first_offer',\n",
    "    hue='target',\n",
    "    is_log=False,\n",
    "    is_label=True\n",
    ")"
   ]
  },
  {
   "cell_type": "code",
   "execution_count": 42,
   "id": "5407a16d",
   "metadata": {},
   "outputs": [
    {
     "data": {
      "text/html": [
       "<div>\n",
       "<style scoped>\n",
       "    .dataframe tbody tr th:only-of-type {\n",
       "        vertical-align: middle;\n",
       "    }\n",
       "\n",
       "    .dataframe tbody tr th {\n",
       "        vertical-align: top;\n",
       "    }\n",
       "\n",
       "    .dataframe thead tr th {\n",
       "        text-align: left;\n",
       "    }\n",
       "\n",
       "    .dataframe thead tr:last-of-type th {\n",
       "        text-align: right;\n",
       "    }\n",
       "</style>\n",
       "<table border=\"1\" class=\"dataframe\">\n",
       "  <thead>\n",
       "    <tr>\n",
       "      <th></th>\n",
       "      <th colspan=\"2\" halign=\"left\">target</th>\n",
       "      <th>sum</th>\n",
       "    </tr>\n",
       "    <tr>\n",
       "      <th>target</th>\n",
       "      <th>0.0</th>\n",
       "      <th>1.0</th>\n",
       "      <th></th>\n",
       "    </tr>\n",
       "    <tr>\n",
       "      <th>not_first_offer</th>\n",
       "      <th></th>\n",
       "      <th></th>\n",
       "      <th></th>\n",
       "    </tr>\n",
       "  </thead>\n",
       "  <tbody>\n",
       "    <tr>\n",
       "      <th>0</th>\n",
       "      <td>761950</td>\n",
       "      <td>44663</td>\n",
       "      <td>806613</td>\n",
       "    </tr>\n",
       "    <tr>\n",
       "      <th>1</th>\n",
       "      <td>9517</td>\n",
       "      <td>15523</td>\n",
       "      <td>25040</td>\n",
       "    </tr>\n",
       "    <tr>\n",
       "      <th>sum</th>\n",
       "      <td>771467</td>\n",
       "      <td>60186</td>\n",
       "      <td>831653</td>\n",
       "    </tr>\n",
       "  </tbody>\n",
       "</table>\n",
       "</div>"
      ],
      "text/plain": [
       "                 target            sum\n",
       "target              0.0    1.0        \n",
       "not_first_offer                       \n",
       "0                761950  44663  806613\n",
       "1                  9517  15523   25040\n",
       "sum              771467  60186  831653"
      ]
     },
     "execution_count": 42,
     "metadata": {},
     "output_type": "execute_result"
    }
   ],
   "source": [
    "# таблица распределения частот\n",
    "count_table(\n",
    "    df=df_train_extended,\n",
    "    feature='not_first_offer',\n",
    "    target='target'\n",
    ")"
   ]
  },
  {
   "cell_type": "code",
   "execution_count": 43,
   "id": "86bc9abf",
   "metadata": {},
   "outputs": [
    {
     "data": {
      "text/html": [
       "<div>\n",
       "<style scoped>\n",
       "    .dataframe tbody tr th:only-of-type {\n",
       "        vertical-align: middle;\n",
       "    }\n",
       "\n",
       "    .dataframe tbody tr th {\n",
       "        vertical-align: top;\n",
       "    }\n",
       "\n",
       "    .dataframe thead tr th {\n",
       "        text-align: left;\n",
       "    }\n",
       "\n",
       "    .dataframe thead tr:last-of-type th {\n",
       "        text-align: right;\n",
       "    }\n",
       "</style>\n",
       "<table border=\"1\" class=\"dataframe\">\n",
       "  <thead>\n",
       "    <tr>\n",
       "      <th></th>\n",
       "      <th colspan=\"2\" halign=\"left\">target</th>\n",
       "      <th>sum</th>\n",
       "    </tr>\n",
       "    <tr>\n",
       "      <th>target</th>\n",
       "      <th>0.0</th>\n",
       "      <th>1.0</th>\n",
       "      <th></th>\n",
       "    </tr>\n",
       "    <tr>\n",
       "      <th>not_first_offer</th>\n",
       "      <th></th>\n",
       "      <th></th>\n",
       "      <th></th>\n",
       "    </tr>\n",
       "  </thead>\n",
       "  <tbody>\n",
       "    <tr>\n",
       "      <th>0</th>\n",
       "      <td>0.944629</td>\n",
       "      <td>0.055371</td>\n",
       "      <td>1</td>\n",
       "    </tr>\n",
       "    <tr>\n",
       "      <th>1</th>\n",
       "      <td>0.380072</td>\n",
       "      <td>0.619928</td>\n",
       "      <td>1</td>\n",
       "    </tr>\n",
       "  </tbody>\n",
       "</table>\n",
       "</div>"
      ],
      "text/plain": [
       "                   target           sum\n",
       "target                0.0       1.0    \n",
       "not_first_offer                        \n",
       "0                0.944629  0.055371   1\n",
       "1                0.380072  0.619928   1"
      ]
     },
     "execution_count": 43,
     "metadata": {},
     "output_type": "execute_result"
    }
   ],
   "source": [
    "# таблица распределения относительных частот\n",
    "spec_count_table(\n",
    "    df=df_train_extended,\n",
    "    feature='not_first_offer',\n",
    "    target='target'\n",
    ")"
   ]
  },
  {
   "attachments": {},
   "cell_type": "markdown",
   "id": "0c7c65c6",
   "metadata": {},
   "source": [
    "< Примечание > Как видно из представленных данных, доля абонентов, совершивших покупку при первом предложении, гораздо меньше, чем доля абонентов, которым было осуществлено большее количество предложений (относительные частоты 0.06 и 0.62 соответственно). При этом, общее количество повторных предложений сделано очень мало (всего 25040 при общем количестве предложений 831653). В качестве возможной рекомендации предлагается увеличить количество повторных предложений услуг."
   ]
  },
  {
   "cell_type": "markdown",
   "id": "9d60ddb2",
   "metadata": {},
   "source": [
    "Исследование связи признака 'vas_id' с признаком 'not_first_offer':"
   ]
  },
  {
   "cell_type": "code",
   "execution_count": 44,
   "id": "5dd604b8",
   "metadata": {},
   "outputs": [
    {
     "data": {
      "image/png": "[encoded data removed]",
      "text/plain": [
       "<Figure size 1200x800 with 1 Axes>"
      ]
     },
     "metadata": {},
     "output_type": "display_data"
    }
   ],
   "source": [
    "# диаграмма распределения\n",
    "distribution_diagram(\n",
    "    data=df_train_extended,\n",
    "    feature_name='vas_id',\n",
    "    hue='not_first_offer',\n",
    "    is_log=True,\n",
    "    is_label=False\n",
    ")"
   ]
  },
  {
   "attachments": {},
   "cell_type": "markdown",
   "id": "a646d96b",
   "metadata": {},
   "source": [
    "< Примечание > Как видно из представленных данных, повторное предложение услуг 7 и 8 осуществлялось гораздо реже остальных. В качестве возможной рекомендации предлагается для данных услуг в первую очередь увеличить количество повторных предложений."
   ]
  },
  {
   "cell_type": "markdown",
   "id": "4d52d343",
   "metadata": {},
   "source": [
    "< Примечание > Признак 'not_first_offer' является бинарно-количественным с высокой несбалансированностью (количество значений 0 многократно привышает количество значений 1). Данный признак подлежит включению в список бинарных признаков."
   ]
  },
  {
   "cell_type": "code",
   "execution_count": 45,
   "id": "2095b48d",
   "metadata": {},
   "outputs": [],
   "source": [
    "nunique_2.update(['not_first_offer'])"
   ]
  },
  {
   "cell_type": "markdown",
   "id": "9bf70b6d",
   "metadata": {},
   "source": [
    "### Анализ и предобработка признака 'vas_id'"
   ]
  },
  {
   "cell_type": "markdown",
   "id": "95089a2b",
   "metadata": {},
   "source": [
    "__Анализ признака__"
   ]
  },
  {
   "cell_type": "markdown",
   "id": "e265d5b9",
   "metadata": {},
   "source": [
    "Обзор распределения признака:"
   ]
  },
  {
   "cell_type": "code",
   "execution_count": 46,
   "id": "d110cc6d",
   "metadata": {},
   "outputs": [
    {
     "data": {
      "image/png": "[encoded data removed]",
      "text/plain": [
       "<Figure size 1200x800 with 1 Axes>"
      ]
     },
     "metadata": {},
     "output_type": "display_data"
    }
   ],
   "source": [
    "# диаграмма распределения\n",
    "distribution_diagram(\n",
    "    data=df_train_extended,\n",
    "    feature_name='vas_id',\n",
    "    hue='target',\n",
    "    is_log=False,\n",
    "    is_label=False\n",
    ")"
   ]
  },
  {
   "cell_type": "code",
   "execution_count": 47,
   "id": "4503167a",
   "metadata": {},
   "outputs": [
    {
     "data": {
      "text/html": [
       "<div>\n",
       "<style scoped>\n",
       "    .dataframe tbody tr th:only-of-type {\n",
       "        vertical-align: middle;\n",
       "    }\n",
       "\n",
       "    .dataframe tbody tr th {\n",
       "        vertical-align: top;\n",
       "    }\n",
       "\n",
       "    .dataframe thead tr th {\n",
       "        text-align: left;\n",
       "    }\n",
       "\n",
       "    .dataframe thead tr:last-of-type th {\n",
       "        text-align: right;\n",
       "    }\n",
       "</style>\n",
       "<table border=\"1\" class=\"dataframe\">\n",
       "  <thead>\n",
       "    <tr>\n",
       "      <th></th>\n",
       "      <th colspan=\"2\" halign=\"left\">target</th>\n",
       "      <th>sum</th>\n",
       "    </tr>\n",
       "    <tr>\n",
       "      <th>target</th>\n",
       "      <th>0.0</th>\n",
       "      <th>1.0</th>\n",
       "      <th></th>\n",
       "    </tr>\n",
       "    <tr>\n",
       "      <th>vas_id</th>\n",
       "      <th></th>\n",
       "      <th></th>\n",
       "      <th></th>\n",
       "    </tr>\n",
       "  </thead>\n",
       "  <tbody>\n",
       "    <tr>\n",
       "      <th>1.0</th>\n",
       "      <td>304511</td>\n",
       "      <td>5664</td>\n",
       "      <td>310175</td>\n",
       "    </tr>\n",
       "    <tr>\n",
       "      <th>2.0</th>\n",
       "      <td>244708</td>\n",
       "      <td>4797</td>\n",
       "      <td>249505</td>\n",
       "    </tr>\n",
       "    <tr>\n",
       "      <th>4.0</th>\n",
       "      <td>63991</td>\n",
       "      <td>21765</td>\n",
       "      <td>85756</td>\n",
       "    </tr>\n",
       "    <tr>\n",
       "      <th>5.0</th>\n",
       "      <td>92393</td>\n",
       "      <td>1692</td>\n",
       "      <td>94085</td>\n",
       "    </tr>\n",
       "    <tr>\n",
       "      <th>6.0</th>\n",
       "      <td>33174</td>\n",
       "      <td>24704</td>\n",
       "      <td>57878</td>\n",
       "    </tr>\n",
       "    <tr>\n",
       "      <th>7.0</th>\n",
       "      <td>15219</td>\n",
       "      <td>213</td>\n",
       "      <td>15432</td>\n",
       "    </tr>\n",
       "    <tr>\n",
       "      <th>8.0</th>\n",
       "      <td>13003</td>\n",
       "      <td>347</td>\n",
       "      <td>13350</td>\n",
       "    </tr>\n",
       "    <tr>\n",
       "      <th>9.0</th>\n",
       "      <td>4468</td>\n",
       "      <td>1004</td>\n",
       "      <td>5472</td>\n",
       "    </tr>\n",
       "    <tr>\n",
       "      <th>sum</th>\n",
       "      <td>771467</td>\n",
       "      <td>60186</td>\n",
       "      <td>831653</td>\n",
       "    </tr>\n",
       "  </tbody>\n",
       "</table>\n",
       "</div>"
      ],
      "text/plain": [
       "        target            sum\n",
       "target     0.0    1.0        \n",
       "vas_id                       \n",
       "1.0     304511   5664  310175\n",
       "2.0     244708   4797  249505\n",
       "4.0      63991  21765   85756\n",
       "5.0      92393   1692   94085\n",
       "6.0      33174  24704   57878\n",
       "7.0      15219    213   15432\n",
       "8.0      13003    347   13350\n",
       "9.0       4468   1004    5472\n",
       "sum     771467  60186  831653"
      ]
     },
     "execution_count": 47,
     "metadata": {},
     "output_type": "execute_result"
    }
   ],
   "source": [
    "# таблица распределения частот\n",
    "count_table(\n",
    "    df=df_train_extended,\n",
    "    feature='vas_id',\n",
    "    target='target'\n",
    ")"
   ]
  },
  {
   "cell_type": "code",
   "execution_count": 48,
   "id": "903b72b6",
   "metadata": {},
   "outputs": [
    {
     "data": {
      "text/html": [
       "<div>\n",
       "<style scoped>\n",
       "    .dataframe tbody tr th:only-of-type {\n",
       "        vertical-align: middle;\n",
       "    }\n",
       "\n",
       "    .dataframe tbody tr th {\n",
       "        vertical-align: top;\n",
       "    }\n",
       "\n",
       "    .dataframe thead tr th {\n",
       "        text-align: left;\n",
       "    }\n",
       "\n",
       "    .dataframe thead tr:last-of-type th {\n",
       "        text-align: right;\n",
       "    }\n",
       "</style>\n",
       "<table border=\"1\" class=\"dataframe\">\n",
       "  <thead>\n",
       "    <tr>\n",
       "      <th></th>\n",
       "      <th colspan=\"2\" halign=\"left\">target</th>\n",
       "      <th>sum</th>\n",
       "    </tr>\n",
       "    <tr>\n",
       "      <th>target</th>\n",
       "      <th>0.0</th>\n",
       "      <th>1.0</th>\n",
       "      <th></th>\n",
       "    </tr>\n",
       "    <tr>\n",
       "      <th>vas_id</th>\n",
       "      <th></th>\n",
       "      <th></th>\n",
       "      <th></th>\n",
       "    </tr>\n",
       "  </thead>\n",
       "  <tbody>\n",
       "    <tr>\n",
       "      <th>1.0</th>\n",
       "      <td>0.981739</td>\n",
       "      <td>0.018261</td>\n",
       "      <td>1</td>\n",
       "    </tr>\n",
       "    <tr>\n",
       "      <th>2.0</th>\n",
       "      <td>0.980774</td>\n",
       "      <td>0.019226</td>\n",
       "      <td>1</td>\n",
       "    </tr>\n",
       "    <tr>\n",
       "      <th>4.0</th>\n",
       "      <td>0.746199</td>\n",
       "      <td>0.253801</td>\n",
       "      <td>1</td>\n",
       "    </tr>\n",
       "    <tr>\n",
       "      <th>5.0</th>\n",
       "      <td>0.982016</td>\n",
       "      <td>0.017984</td>\n",
       "      <td>1</td>\n",
       "    </tr>\n",
       "    <tr>\n",
       "      <th>6.0</th>\n",
       "      <td>0.573171</td>\n",
       "      <td>0.426829</td>\n",
       "      <td>1</td>\n",
       "    </tr>\n",
       "    <tr>\n",
       "      <th>7.0</th>\n",
       "      <td>0.986198</td>\n",
       "      <td>0.013802</td>\n",
       "      <td>1</td>\n",
       "    </tr>\n",
       "    <tr>\n",
       "      <th>8.0</th>\n",
       "      <td>0.974007</td>\n",
       "      <td>0.025993</td>\n",
       "      <td>1</td>\n",
       "    </tr>\n",
       "    <tr>\n",
       "      <th>9.0</th>\n",
       "      <td>0.816520</td>\n",
       "      <td>0.183480</td>\n",
       "      <td>1</td>\n",
       "    </tr>\n",
       "  </tbody>\n",
       "</table>\n",
       "</div>"
      ],
      "text/plain": [
       "          target           sum\n",
       "target       0.0       1.0    \n",
       "vas_id                        \n",
       "1.0     0.981739  0.018261   1\n",
       "2.0     0.980774  0.019226   1\n",
       "4.0     0.746199  0.253801   1\n",
       "5.0     0.982016  0.017984   1\n",
       "6.0     0.573171  0.426829   1\n",
       "7.0     0.986198  0.013802   1\n",
       "8.0     0.974007  0.025993   1\n",
       "9.0     0.816520  0.183480   1"
      ]
     },
     "execution_count": 48,
     "metadata": {},
     "output_type": "execute_result"
    }
   ],
   "source": [
    "# таблица распределения относительных частот\n",
    "spec_count_table(\n",
    "    df=df_train_extended,\n",
    "    feature='vas_id',\n",
    "    target='target'\n",
    ")"
   ]
  },
  {
   "attachments": {},
   "cell_type": "markdown",
   "id": "f103ee91",
   "metadata": {},
   "source": [
    "< Примечание > Как видно из представленных данных, услуги 4, 6 и 9 пользовались относительно большим успехом у абонентов, т.к. они чаще всего подключались (относительные частоты 0.25, 0.43 и 0.18 соответственно). При этом, в сравнении с услугами 4 и 6, услуга 9 гораздо реже предлагалась абонентам - всего 5472 раз, в то время как услуги 4 и 6 - 85756 и 57878 соответственно. Услуги 1 и 2 чаще остальных предлагались абонентам, однако, они не пользовались успехом (относительные частоты составили менее 0.02). В качестве возможной рекомендации предлагается увеличить количество предложений по услугам 4, 6 и 9, а по услугам 1 и 2 - повысить качество предложений."
   ]
  },
  {
   "cell_type": "markdown",
   "id": "7cc4f7fc",
   "metadata": {},
   "source": [
    "< Примечание > Признак 'vas_id' является дискретно-количественным. Рекомендуется осуществить кодирование данного признака."
   ]
  },
  {
   "cell_type": "markdown",
   "id": "3c368656",
   "metadata": {},
   "source": [
    "__Кодирование__"
   ]
  },
  {
   "cell_type": "markdown",
   "id": "021b769b",
   "metadata": {},
   "source": [
    "Трансформер кодирования методом One Hot Encoding:"
   ]
  },
  {
   "cell_type": "code",
   "execution_count": 49,
   "id": "cb8e213c",
   "metadata": {},
   "outputs": [],
   "source": [
    "vas_id_OHE = OneHotEncoder(handle_unknown='ignore', sparse=False)"
   ]
  },
  {
   "cell_type": "markdown",
   "id": "b82b0e02",
   "metadata": {},
   "source": [
    "Трансформация:"
   ]
  },
  {
   "cell_type": "code",
   "execution_count": 50,
   "id": "d3b2dee8",
   "metadata": {},
   "outputs": [],
   "source": [
    "df_train_extended = feature_transformer(\n",
    "    dataset=df_train_extended,\n",
    "    source_list=['vas_id'],\n",
    "    feature_name='vas_id',\n",
    "    transformer=vas_id_OHE,\n",
    "    prefitting=True\n",
    ")"
   ]
  },
  {
   "cell_type": "markdown",
   "id": "f74353cb",
   "metadata": {},
   "source": [
    "### Анализ признака 'buy_time'"
   ]
  },
  {
   "cell_type": "markdown",
   "id": "4a396108",
   "metadata": {},
   "source": [
    "__Анализ признака__"
   ]
  },
  {
   "cell_type": "markdown",
   "id": "b6ba4c3f",
   "metadata": {},
   "source": [
    "< Примечание > Приедполагается, что первоначальный признак 'buy_time' не имеет явной логической связи с целевой переменной и поэтому не принимается для моделирования. Данный признак исключается из датасетов. При этом из экземпляров признака 'buy_time' могут быть извлечены данные, которые можно использовать для создания новых признаков: год ('buy_year'), месяц ('buy_month'), день недели ('buy_isoweekday') и час ('buy_hour') совершения покупки."
   ]
  },
  {
   "cell_type": "code",
   "execution_count": 51,
   "id": "20d184e6",
   "metadata": {},
   "outputs": [],
   "source": [
    "features_to_drop = ['buy_time']\n",
    "drop_list.update(features_to_drop)"
   ]
  },
  {
   "cell_type": "markdown",
   "id": "f1be4531",
   "metadata": {},
   "source": [
    "### Создание, анализ и предобработка признака 'buy_year'"
   ]
  },
  {
   "cell_type": "markdown",
   "id": "d04582b0",
   "metadata": {},
   "source": [
    "__Создание признака__"
   ]
  },
  {
   "cell_type": "code",
   "execution_count": 52,
   "id": "f34434b7",
   "metadata": {},
   "outputs": [],
   "source": [
    "buy_year_train = pd.to_datetime(df_train_extended['buy_time'], unit='s').dt.year\n",
    "df_train_extended.insert(loc=0, column='buy_year', value=buy_year_train)"
   ]
  },
  {
   "cell_type": "markdown",
   "id": "d4beea8f",
   "metadata": {},
   "source": [
    "__Анализ признака__"
   ]
  },
  {
   "cell_type": "markdown",
   "id": "2ebf8532",
   "metadata": {},
   "source": [
    "Обзор распределения признака:"
   ]
  },
  {
   "cell_type": "code",
   "execution_count": 53,
   "id": "29a3a01c",
   "metadata": {},
   "outputs": [
    {
     "data": {
      "image/png": "[encoded data removed]",
      "text/plain": [
       "<Figure size 1200x800 with 1 Axes>"
      ]
     },
     "metadata": {},
     "output_type": "display_data"
    }
   ],
   "source": [
    "# диаграмма распределения\n",
    "distribution_diagram(\n",
    "    data=df_train_extended,\n",
    "    feature_name='buy_year',\n",
    "    hue='target',\n",
    "    is_log=False,\n",
    "    is_label=True\n",
    ")"
   ]
  },
  {
   "cell_type": "markdown",
   "id": "9e6bf7ea",
   "metadata": {},
   "source": [
    "< Примечние > Признак 'buy_year' содержит единственное уникальное значение - все данные тренировочного датасета относятся только к 2018 году, поэтому данный признак не обладает прогностической ценостью и предлагается к исключению."
   ]
  },
  {
   "cell_type": "code",
   "execution_count": 54,
   "id": "c66b6a08",
   "metadata": {},
   "outputs": [],
   "source": [
    "features_to_drop = ['buy_year']\n",
    "drop_list.update(features_to_drop)"
   ]
  },
  {
   "cell_type": "markdown",
   "id": "9b73e0c5",
   "metadata": {},
   "source": [
    "### Создание, анализ и предобработка признака 'buy_month'"
   ]
  },
  {
   "cell_type": "markdown",
   "id": "6a21a859",
   "metadata": {},
   "source": [
    "__Создание признака__"
   ]
  },
  {
   "cell_type": "code",
   "execution_count": 55,
   "id": "b1ad906b",
   "metadata": {},
   "outputs": [],
   "source": [
    "buy_month_train = pd.to_datetime(df_train_extended['buy_time'], unit='s').dt.month\n",
    "df_train_extended.insert(loc=0, column='buy_month', value=buy_month_train)"
   ]
  },
  {
   "cell_type": "markdown",
   "id": "dc9f9ed6",
   "metadata": {},
   "source": [
    "__Анализ признака__"
   ]
  },
  {
   "cell_type": "markdown",
   "id": "624d0e9e",
   "metadata": {},
   "source": [
    "Обзор распределения признака:"
   ]
  },
  {
   "cell_type": "code",
   "execution_count": 56,
   "id": "93a6a7e5",
   "metadata": {},
   "outputs": [
    {
     "data": {
      "image/png": "[encoded data removed]",
      "text/plain": [
       "<Figure size 1200x800 with 1 Axes>"
      ]
     },
     "metadata": {},
     "output_type": "display_data"
    }
   ],
   "source": [
    "# диаграмма распределения\n",
    "distribution_diagram(\n",
    "    data=df_train_extended,\n",
    "    feature_name='buy_month',\n",
    "    hue='target',\n",
    "    is_log=False,\n",
    "    is_label=True\n",
    ")"
   ]
  },
  {
   "cell_type": "code",
   "execution_count": 57,
   "id": "33ffc8fb",
   "metadata": {},
   "outputs": [
    {
     "data": {
      "text/html": [
       "<div>\n",
       "<style scoped>\n",
       "    .dataframe tbody tr th:only-of-type {\n",
       "        vertical-align: middle;\n",
       "    }\n",
       "\n",
       "    .dataframe tbody tr th {\n",
       "        vertical-align: top;\n",
       "    }\n",
       "\n",
       "    .dataframe thead tr th {\n",
       "        text-align: left;\n",
       "    }\n",
       "\n",
       "    .dataframe thead tr:last-of-type th {\n",
       "        text-align: right;\n",
       "    }\n",
       "</style>\n",
       "<table border=\"1\" class=\"dataframe\">\n",
       "  <thead>\n",
       "    <tr>\n",
       "      <th></th>\n",
       "      <th colspan=\"2\" halign=\"left\">target</th>\n",
       "      <th>sum</th>\n",
       "    </tr>\n",
       "    <tr>\n",
       "      <th>target</th>\n",
       "      <th>0.0</th>\n",
       "      <th>1.0</th>\n",
       "      <th></th>\n",
       "    </tr>\n",
       "    <tr>\n",
       "      <th>buy_month</th>\n",
       "      <th></th>\n",
       "      <th></th>\n",
       "      <th></th>\n",
       "    </tr>\n",
       "  </thead>\n",
       "  <tbody>\n",
       "    <tr>\n",
       "      <th>7</th>\n",
       "      <td>132019</td>\n",
       "      <td>4660</td>\n",
       "      <td>136679</td>\n",
       "    </tr>\n",
       "    <tr>\n",
       "      <th>8</th>\n",
       "      <td>142686</td>\n",
       "      <td>4118</td>\n",
       "      <td>146804</td>\n",
       "    </tr>\n",
       "    <tr>\n",
       "      <th>9</th>\n",
       "      <td>133953</td>\n",
       "      <td>4285</td>\n",
       "      <td>138238</td>\n",
       "    </tr>\n",
       "    <tr>\n",
       "      <th>10</th>\n",
       "      <td>84395</td>\n",
       "      <td>4437</td>\n",
       "      <td>88832</td>\n",
       "    </tr>\n",
       "    <tr>\n",
       "      <th>11</th>\n",
       "      <td>53036</td>\n",
       "      <td>20484</td>\n",
       "      <td>73520</td>\n",
       "    </tr>\n",
       "    <tr>\n",
       "      <th>12</th>\n",
       "      <td>225378</td>\n",
       "      <td>22202</td>\n",
       "      <td>247580</td>\n",
       "    </tr>\n",
       "    <tr>\n",
       "      <th>sum</th>\n",
       "      <td>771467</td>\n",
       "      <td>60186</td>\n",
       "      <td>831653</td>\n",
       "    </tr>\n",
       "  </tbody>\n",
       "</table>\n",
       "</div>"
      ],
      "text/plain": [
       "           target            sum\n",
       "target        0.0    1.0        \n",
       "buy_month                       \n",
       "7          132019   4660  136679\n",
       "8          142686   4118  146804\n",
       "9          133953   4285  138238\n",
       "10          84395   4437   88832\n",
       "11          53036  20484   73520\n",
       "12         225378  22202  247580\n",
       "sum        771467  60186  831653"
      ]
     },
     "execution_count": 57,
     "metadata": {},
     "output_type": "execute_result"
    }
   ],
   "source": [
    "# таблица распределения частот\n",
    "count_table(\n",
    "    df=df_train_extended,\n",
    "    feature='buy_month',\n",
    "    target='target'\n",
    ")"
   ]
  },
  {
   "cell_type": "code",
   "execution_count": 58,
   "id": "6afc4228",
   "metadata": {},
   "outputs": [
    {
     "data": {
      "text/html": [
       "<div>\n",
       "<style scoped>\n",
       "    .dataframe tbody tr th:only-of-type {\n",
       "        vertical-align: middle;\n",
       "    }\n",
       "\n",
       "    .dataframe tbody tr th {\n",
       "        vertical-align: top;\n",
       "    }\n",
       "\n",
       "    .dataframe thead tr th {\n",
       "        text-align: left;\n",
       "    }\n",
       "\n",
       "    .dataframe thead tr:last-of-type th {\n",
       "        text-align: right;\n",
       "    }\n",
       "</style>\n",
       "<table border=\"1\" class=\"dataframe\">\n",
       "  <thead>\n",
       "    <tr>\n",
       "      <th></th>\n",
       "      <th colspan=\"2\" halign=\"left\">target</th>\n",
       "      <th>sum</th>\n",
       "    </tr>\n",
       "    <tr>\n",
       "      <th>target</th>\n",
       "      <th>0.0</th>\n",
       "      <th>1.0</th>\n",
       "      <th></th>\n",
       "    </tr>\n",
       "    <tr>\n",
       "      <th>buy_month</th>\n",
       "      <th></th>\n",
       "      <th></th>\n",
       "      <th></th>\n",
       "    </tr>\n",
       "  </thead>\n",
       "  <tbody>\n",
       "    <tr>\n",
       "      <th>7</th>\n",
       "      <td>0.965906</td>\n",
       "      <td>0.034094</td>\n",
       "      <td>1</td>\n",
       "    </tr>\n",
       "    <tr>\n",
       "      <th>8</th>\n",
       "      <td>0.971949</td>\n",
       "      <td>0.028051</td>\n",
       "      <td>1</td>\n",
       "    </tr>\n",
       "    <tr>\n",
       "      <th>9</th>\n",
       "      <td>0.969003</td>\n",
       "      <td>0.030997</td>\n",
       "      <td>1</td>\n",
       "    </tr>\n",
       "    <tr>\n",
       "      <th>10</th>\n",
       "      <td>0.950052</td>\n",
       "      <td>0.049948</td>\n",
       "      <td>1</td>\n",
       "    </tr>\n",
       "    <tr>\n",
       "      <th>11</th>\n",
       "      <td>0.721382</td>\n",
       "      <td>0.278618</td>\n",
       "      <td>1</td>\n",
       "    </tr>\n",
       "    <tr>\n",
       "      <th>12</th>\n",
       "      <td>0.910324</td>\n",
       "      <td>0.089676</td>\n",
       "      <td>1</td>\n",
       "    </tr>\n",
       "  </tbody>\n",
       "</table>\n",
       "</div>"
      ],
      "text/plain": [
       "             target           sum\n",
       "target          0.0       1.0    \n",
       "buy_month                        \n",
       "7          0.965906  0.034094   1\n",
       "8          0.971949  0.028051   1\n",
       "9          0.969003  0.030997   1\n",
       "10         0.950052  0.049948   1\n",
       "11         0.721382  0.278618   1\n",
       "12         0.910324  0.089676   1"
      ]
     },
     "execution_count": 58,
     "metadata": {},
     "output_type": "execute_result"
    }
   ],
   "source": [
    "# таблица распределения относительных частот\n",
    "spec_count_table(\n",
    "    df=df_train_extended,\n",
    "    feature='buy_month',\n",
    "    target='target'\n",
    ")"
   ]
  },
  {
   "attachments": {},
   "cell_type": "markdown",
   "id": "19804e2a",
   "metadata": {},
   "source": [
    "< Примечание > Как видно из представленных данных, ноябрь ('buy_month' = 11) отличается гораздо большей относительной частотой подключения  - 0.28, в то время, как относительные частоты подключения в другие месяцы не превышали 0.09. При этом, количество предложений в ноябре оказалось самым низким. Поскольку отсутствуют данные за другие годы, то не представляется возможность сделать выводы о наличии месячной закономерности. В качестве возможной рекомендации предлагается увеличить количество предложений в ноябре."
   ]
  },
  {
   "cell_type": "markdown",
   "id": "055c0806",
   "metadata": {},
   "source": [
    "< Примечание > Признак 'buy_month' является дискретно-количественным. Рекомендуется осуществить кодирование данного признака."
   ]
  },
  {
   "cell_type": "markdown",
   "id": "2ec75131",
   "metadata": {},
   "source": [
    "__Кодирование__"
   ]
  },
  {
   "cell_type": "markdown",
   "id": "bca69712",
   "metadata": {},
   "source": [
    "Трансформер кодирования методом One Hot Encoding:"
   ]
  },
  {
   "cell_type": "code",
   "execution_count": 59,
   "id": "c2a9bda3",
   "metadata": {},
   "outputs": [],
   "source": [
    "buy_month_OHE = OneHotEncoder(handle_unknown='ignore', sparse=False)"
   ]
  },
  {
   "cell_type": "markdown",
   "id": "82c79aa9",
   "metadata": {},
   "source": [
    "Трансформация:"
   ]
  },
  {
   "cell_type": "code",
   "execution_count": 60,
   "id": "918b041f",
   "metadata": {},
   "outputs": [],
   "source": [
    "df_train_extended = feature_transformer(\n",
    "    dataset=df_train_extended,\n",
    "    source_list=['buy_month'],\n",
    "    feature_name='buy_month',\n",
    "    transformer=buy_month_OHE,\n",
    "    prefitting=True\n",
    ")"
   ]
  },
  {
   "cell_type": "markdown",
   "id": "79ea2672",
   "metadata": {},
   "source": [
    "### Создание, анализ и предобработка признака 'buy_weekday'"
   ]
  },
  {
   "cell_type": "markdown",
   "id": "2eca5f0e",
   "metadata": {},
   "source": [
    "__Создание признака__"
   ]
  },
  {
   "cell_type": "code",
   "execution_count": 61,
   "id": "8bd98ab4",
   "metadata": {},
   "outputs": [],
   "source": [
    "buy_weekday_train = pd.to_datetime(df_train_extended['buy_time'], unit='s').dt.weekday\n",
    "df_train_extended.insert(loc=0, column='buy_weekday', value=buy_weekday_train)"
   ]
  },
  {
   "cell_type": "markdown",
   "id": "e90a5430",
   "metadata": {},
   "source": [
    "__Анализ признака__"
   ]
  },
  {
   "cell_type": "markdown",
   "id": "1ecf25f1",
   "metadata": {},
   "source": [
    "Обзор распределения признака:"
   ]
  },
  {
   "cell_type": "code",
   "execution_count": 62,
   "id": "88b734bd",
   "metadata": {},
   "outputs": [
    {
     "data": {
      "image/png": "[encoded data removed]",
      "text/plain": [
       "<Figure size 1200x800 with 1 Axes>"
      ]
     },
     "metadata": {},
     "output_type": "display_data"
    }
   ],
   "source": [
    "# диаграмма распределения\n",
    "distribution_diagram(\n",
    "    data=df_train_extended,\n",
    "    feature_name='buy_weekday',\n",
    "    hue='target',\n",
    "    is_log=False,\n",
    "    is_label=True\n",
    ")"
   ]
  },
  {
   "cell_type": "markdown",
   "id": "731c907e",
   "metadata": {},
   "source": [
    "< Примечние > Признак 'buy_weekday' содержит единственное уникальное значение - все данные тренировочного датасета относятся только к воскресенью (значение 6), поэтому данный признак не обладает прогностической ценостью и предлагается к исключению."
   ]
  },
  {
   "cell_type": "code",
   "execution_count": 63,
   "id": "1c024d55",
   "metadata": {},
   "outputs": [],
   "source": [
    "features_to_drop = ['buy_weekday']\n",
    "drop_list.update(features_to_drop)"
   ]
  },
  {
   "cell_type": "markdown",
   "id": "749412ae",
   "metadata": {},
   "source": [
    "### Создание, анализ и предобработка признака 'buy_hour'"
   ]
  },
  {
   "cell_type": "markdown",
   "id": "f1a0a837",
   "metadata": {},
   "source": [
    "__Создание признака__"
   ]
  },
  {
   "cell_type": "code",
   "execution_count": 64,
   "id": "53012ee7",
   "metadata": {},
   "outputs": [],
   "source": [
    "buy_hour_train = pd.to_datetime(df_train_extended['buy_time'], unit='s').dt.hour\n",
    "df_train_extended.insert(loc=0, column='buy_hour', value=buy_hour_train)"
   ]
  },
  {
   "cell_type": "markdown",
   "id": "3911de53",
   "metadata": {},
   "source": [
    "__Анализ признака__"
   ]
  },
  {
   "cell_type": "markdown",
   "id": "98ac849e",
   "metadata": {},
   "source": [
    "Обзор распределения признака:"
   ]
  },
  {
   "cell_type": "code",
   "execution_count": 65,
   "id": "b27e4e30",
   "metadata": {},
   "outputs": [
    {
     "data": {
      "image/png": "[encoded data removed]",
      "text/plain": [
       "<Figure size 1200x800 with 1 Axes>"
      ]
     },
     "metadata": {},
     "output_type": "display_data"
    }
   ],
   "source": [
    "# диаграмма распределения\n",
    "distribution_diagram(\n",
    "    data=df_train_extended,\n",
    "    feature_name='buy_hour',\n",
    "    hue='target',\n",
    "    is_log=False,\n",
    "    is_label=False\n",
    ")"
   ]
  },
  {
   "cell_type": "markdown",
   "id": "216249bb",
   "metadata": {},
   "source": [
    "< Примечние > Признак 'buy_hour' содержит единственное уникальное значение - все данные тренировочного датасета относятся только к 21 часу, поэтому данный признак не обладает прогностической ценостью и предлагается к исключению."
   ]
  },
  {
   "cell_type": "code",
   "execution_count": 66,
   "id": "7a52e7c4",
   "metadata": {},
   "outputs": [],
   "source": [
    "features_to_drop = ['buy_hour']\n",
    "drop_list.update(features_to_drop)"
   ]
  },
  {
   "cell_type": "markdown",
   "id": "ad060a9e",
   "metadata": {},
   "source": [
    "### Анализ признака 'target' (целевая переменная)"
   ]
  },
  {
   "cell_type": "markdown",
   "id": "99d530b2",
   "metadata": {},
   "source": [
    "Обзор распределения признака:"
   ]
  },
  {
   "cell_type": "code",
   "execution_count": 67,
   "id": "9a88c9d8",
   "metadata": {},
   "outputs": [
    {
     "data": {
      "image/png": "[encoded data removed]",
      "text/plain": [
       "<Figure size 1200x800 with 1 Axes>"
      ]
     },
     "metadata": {},
     "output_type": "display_data"
    }
   ],
   "source": [
    "# диаграмма распределения\n",
    "distribution_diagram(\n",
    "    data=df_train_extended,\n",
    "    feature_name='target',\n",
    "    hue=False,\n",
    "    is_log=False,\n",
    "    is_label=True\n",
    ")"
   ]
  },
  {
   "cell_type": "code",
   "execution_count": 68,
   "id": "58315fe3",
   "metadata": {},
   "outputs": [
    {
     "data": {
      "text/html": [
       "<div>\n",
       "<style scoped>\n",
       "    .dataframe tbody tr th:only-of-type {\n",
       "        vertical-align: middle;\n",
       "    }\n",
       "\n",
       "    .dataframe tbody tr th {\n",
       "        vertical-align: top;\n",
       "    }\n",
       "\n",
       "    .dataframe thead th {\n",
       "        text-align: right;\n",
       "    }\n",
       "</style>\n",
       "<table border=\"1\" class=\"dataframe\">\n",
       "  <thead>\n",
       "    <tr style=\"text-align: right;\">\n",
       "      <th></th>\n",
       "      <th>count</th>\n",
       "    </tr>\n",
       "    <tr>\n",
       "      <th>target</th>\n",
       "      <th></th>\n",
       "    </tr>\n",
       "  </thead>\n",
       "  <tbody>\n",
       "    <tr>\n",
       "      <th>0</th>\n",
       "      <td>771467</td>\n",
       "    </tr>\n",
       "    <tr>\n",
       "      <th>1</th>\n",
       "      <td>60186</td>\n",
       "    </tr>\n",
       "    <tr>\n",
       "      <th>sum</th>\n",
       "      <td>831653</td>\n",
       "    </tr>\n",
       "  </tbody>\n",
       "</table>\n",
       "</div>"
      ],
      "text/plain": [
       "         count\n",
       "target        \n",
       "0       771467\n",
       "1        60186\n",
       "sum     831653"
      ]
     },
     "execution_count": 68,
     "metadata": {},
     "output_type": "execute_result"
    }
   ],
   "source": [
    "# таблица распределения частот\n",
    "count_table(\n",
    "    df=df_train_extended,\n",
    "    feature='target',\n",
    "    target='target'\n",
    ")"
   ]
  },
  {
   "cell_type": "code",
   "execution_count": 69,
   "id": "5aa1ac0a",
   "metadata": {},
   "outputs": [
    {
     "data": {
      "text/html": [
       "<div>\n",
       "<style scoped>\n",
       "    .dataframe tbody tr th:only-of-type {\n",
       "        vertical-align: middle;\n",
       "    }\n",
       "\n",
       "    .dataframe tbody tr th {\n",
       "        vertical-align: top;\n",
       "    }\n",
       "\n",
       "    .dataframe thead th {\n",
       "        text-align: right;\n",
       "    }\n",
       "</style>\n",
       "<table border=\"1\" class=\"dataframe\">\n",
       "  <thead>\n",
       "    <tr style=\"text-align: right;\">\n",
       "      <th></th>\n",
       "      <th>fraction</th>\n",
       "    </tr>\n",
       "    <tr>\n",
       "      <th>target</th>\n",
       "      <th></th>\n",
       "    </tr>\n",
       "  </thead>\n",
       "  <tbody>\n",
       "    <tr>\n",
       "      <th>0</th>\n",
       "      <td>0.927631</td>\n",
       "    </tr>\n",
       "    <tr>\n",
       "      <th>1</th>\n",
       "      <td>0.072369</td>\n",
       "    </tr>\n",
       "    <tr>\n",
       "      <th>sum</th>\n",
       "      <td>1.000000</td>\n",
       "    </tr>\n",
       "  </tbody>\n",
       "</table>\n",
       "</div>"
      ],
      "text/plain": [
       "        fraction\n",
       "target          \n",
       "0       0.927631\n",
       "1       0.072369\n",
       "sum     1.000000"
      ]
     },
     "execution_count": 69,
     "metadata": {},
     "output_type": "execute_result"
    }
   ],
   "source": [
    "# таблица распределения относительных частот\n",
    "spec_count_table(\n",
    "    df=df_train_extended,\n",
    "    feature='target',\n",
    "    target='target'\n",
    ")"
   ]
  },
  {
   "cell_type": "markdown",
   "id": "d27ef66b",
   "metadata": {},
   "source": [
    "< Примечание > Целевая переменная 'target' является бинарно-количественным признаком с высокой несбалансированностью (количество значений 0 многократно привышает количество значений 1). Для обеспечения лучшей сбалансированности при валидации моделей предлагается использовать использовать стратиграфированные валидационные выборки (например, метод \"Repeated Stratified KFold\"). "
   ]
  },
  {
   "cell_type": "markdown",
   "id": "0c1ee1ee",
   "metadata": {},
   "source": [
    "### Кодирование бинарных признаков"
   ]
  },
  {
   "cell_type": "markdown",
   "id": "87d1c545",
   "metadata": {},
   "source": [
    "Список бинарных признаков:"
   ]
  },
  {
   "cell_type": "code",
   "execution_count": 70,
   "id": "460000a9",
   "metadata": {},
   "outputs": [
    {
     "data": {
      "text/plain": [
       "['132',\n",
       " '195',\n",
       " '33',\n",
       " '26',\n",
       " '57',\n",
       " '27',\n",
       " '192',\n",
       " '206',\n",
       " '32',\n",
       " '196',\n",
       " '204',\n",
       " '197',\n",
       " '200',\n",
       " 'target',\n",
       " '198',\n",
       " 'not_first_offer',\n",
       " '194',\n",
       " '201',\n",
       " '205',\n",
       " '202',\n",
       " '31',\n",
       " '199']"
      ]
     },
     "execution_count": 70,
     "metadata": {},
     "output_type": "execute_result"
    }
   ],
   "source": [
    "nunique_2 = list(nunique_2)\n",
    "nunique_2"
   ]
  },
  {
   "cell_type": "markdown",
   "id": "ffd99819",
   "metadata": {},
   "source": [
    "Сериализация списка бинарных признаков:"
   ]
  },
  {
   "cell_type": "code",
   "execution_count": 71,
   "id": "5aa53cb6",
   "metadata": {},
   "outputs": [],
   "source": [
    "with open(r'tools/nunique_2.pickle', 'wb') as f:\n",
    "    pickle.dump(nunique_2, f, protocol=pickle.HIGHEST_PROTOCOL)"
   ]
  },
  {
   "cell_type": "markdown",
   "id": "90f25927",
   "metadata": {},
   "source": [
    "Трансформер кодирования методом Ordinal Encoding:"
   ]
  },
  {
   "cell_type": "code",
   "execution_count": 72,
   "id": "56135c6c",
   "metadata": {},
   "outputs": [],
   "source": [
    "nunique_2_OE = OrdinalEncoder()"
   ]
  },
  {
   "cell_type": "markdown",
   "id": "c18e6d19",
   "metadata": {},
   "source": [
    "Трансформация:"
   ]
  },
  {
   "cell_type": "code",
   "execution_count": 73,
   "id": "fa9d2e0e",
   "metadata": {},
   "outputs": [],
   "source": [
    "df_train_extended[nunique_2] = nunique_2_OE.fit_transform(X=df_train_extended[nunique_2])"
   ]
  },
  {
   "cell_type": "markdown",
   "id": "fe5806e0",
   "metadata": {},
   "source": [
    "## 6 Подготовка матрицы признаков и вектора целевой переменной к моделированию"
   ]
  },
  {
   "cell_type": "markdown",
   "id": "a3628f83",
   "metadata": {},
   "source": [
    "Матрица признаков:"
   ]
  },
  {
   "cell_type": "code",
   "execution_count": 74,
   "id": "4129ce40",
   "metadata": {},
   "outputs": [],
   "source": [
    "X_train = df_train_extended.copy()"
   ]
  },
  {
   "cell_type": "markdown",
   "id": "3a6ad284",
   "metadata": {},
   "source": [
    "Исключение признаков, подлежащих удалению:"
   ]
  },
  {
   "cell_type": "code",
   "execution_count": 75,
   "id": "f81c2851",
   "metadata": {},
   "outputs": [],
   "source": [
    "drop_list = list(drop_list)"
   ]
  },
  {
   "cell_type": "code",
   "execution_count": 76,
   "id": "cbc3a98c",
   "metadata": {},
   "outputs": [],
   "source": [
    "X_train.drop(labels=drop_list, axis=1, inplace=True, errors='ignore')"
   ]
  },
  {
   "cell_type": "markdown",
   "id": "5db6ef1b",
   "metadata": {},
   "source": [
    "Оптимизация типов данных в матрице признаков:"
   ]
  },
  {
   "cell_type": "code",
   "execution_count": 77,
   "id": "37a554ed",
   "metadata": {},
   "outputs": [
    {
     "name": "stdout",
     "output_type": "stream",
     "text": [
      "<class 'pandas.core.frame.DataFrame'>\n",
      "Int64Index: 831653 entries, 0 to 831652\n",
      "Columns: 264 entries, not_first_offer to buy_month_12\n",
      "dtypes: float64(264)\n",
      "memory usage: 1.6 GB\n"
     ]
    }
   ],
   "source": [
    "X_train.info(memory_usage='deep')"
   ]
  },
  {
   "cell_type": "markdown",
   "id": "eda5d1cd",
   "metadata": {},
   "source": [
    "< Примечание > Все признаки имеют тип float64. При этом значения некоторых бинарных признаков равны 0 или 1. Таким образом, тип данных признаков может быть преобразован в int8, который требует меньших ресурсов памяти."
   ]
  },
  {
   "cell_type": "code",
   "execution_count": 78,
   "id": "fffd9fc1",
   "metadata": {},
   "outputs": [],
   "source": [
    "X_train[list(nunique_2)] = X_train[list(nunique_2)].astype('int8')"
   ]
  },
  {
   "cell_type": "code",
   "execution_count": 79,
   "id": "db99d9db",
   "metadata": {},
   "outputs": [
    {
     "name": "stdout",
     "output_type": "stream",
     "text": [
      "<class 'pandas.core.frame.DataFrame'>\n",
      "Int64Index: 831653 entries, 0 to 831652\n",
      "Columns: 264 entries, not_first_offer to buy_month_12\n",
      "dtypes: float64(242), int8(22)\n",
      "memory usage: 1.5 GB\n"
     ]
    }
   ],
   "source": [
    "X_train.info(memory_usage='deep')"
   ]
  },
  {
   "cell_type": "markdown",
   "id": "eb754028",
   "metadata": {},
   "source": [
    "Созднание вектора целевой переменной (y):"
   ]
  },
  {
   "cell_type": "code",
   "execution_count": 80,
   "id": "ccbbc1c5",
   "metadata": {},
   "outputs": [],
   "source": [
    "y = X_train['target'].copy()"
   ]
  },
  {
   "cell_type": "markdown",
   "id": "45beaf72",
   "metadata": {},
   "source": [
    "Исключение целевой переменной из матрицы признаков:"
   ]
  },
  {
   "cell_type": "code",
   "execution_count": 81,
   "id": "c9ef3039",
   "metadata": {},
   "outputs": [],
   "source": [
    "X_train.drop(labels='target', axis=1, inplace=True, errors='ignore')"
   ]
  },
  {
   "cell_type": "markdown",
   "id": "ab333d32",
   "metadata": {},
   "source": [
    "Получение нормализованной матрицы признаков:"
   ]
  },
  {
   "cell_type": "code",
   "execution_count": 82,
   "id": "3fe6baec",
   "metadata": {},
   "outputs": [],
   "source": [
    "normalizer = MinMaxScaler(clip=True)"
   ]
  },
  {
   "cell_type": "code",
   "execution_count": 83,
   "id": "cab6dc83",
   "metadata": {},
   "outputs": [],
   "source": [
    "X_train_normalized = pd.DataFrame(\n",
    "    normalizer.fit_transform(X_train),\n",
    "    columns=X_train.columns,\n",
    "    index=X_train.index\n",
    ")"
   ]
  },
  {
   "cell_type": "markdown",
   "id": "9a6ec62f",
   "metadata": {},
   "source": [
    "## 7 Модельные исследования"
   ]
  },
  {
   "cell_type": "markdown",
   "id": "4df70507",
   "metadata": {},
   "source": [
    "### Вспомогательные структуры"
   ]
  },
  {
   "cell_type": "code",
   "execution_count": 84,
   "id": "acd175e6",
   "metadata": {},
   "outputs": [],
   "source": [
    "def roc_auc_plot(y, y_proba):\n",
    "    \"\"\"Построение ROC-кривой.\"\"\"\n",
    "\n",
    "    # рассчитываем ROC-кривую и её AUC\n",
    "    fpr, tpr, treshold = roc_curve(y, y_proba)\n",
    "    roc_auc = auc(fpr, tpr)\n",
    "    \n",
    "    # строим график\n",
    "    plt.plot(\n",
    "        fpr, tpr, color='darkorange',\n",
    "        label='ROC кривая (AUC = %0.2f)' % roc_auc\n",
    "    )\n",
    "    plt.plot(\n",
    "        [0, 1],\n",
    "        [0, 1],\n",
    "        color='navy',\n",
    "        linestyle='--'\n",
    "    )\n",
    "    plt.xlim(\n",
    "        [0.0, 1.0]\n",
    "    )\n",
    "    plt.ylim(\n",
    "        [0.0, 1.05]\n",
    "    )\n",
    "    plt.xlabel('False Positive Rate')\n",
    "    plt.ylabel('True Positive Rate')\n",
    "    plt.title('Кривая ROC и её AUC')\n",
    "    plt.legend(loc=\"lower right\")\n",
    "    plt.show()"
   ]
  },
  {
   "cell_type": "code",
   "execution_count": 85,
   "id": "a9020e19",
   "metadata": {},
   "outputs": [],
   "source": [
    "def pr_auc_plot(y, y_proba):\n",
    "    \"\"\"Построение PR-кривой.\"\"\"\n",
    "\n",
    "    # рассчитываем PR-кривую и её AUC\n",
    "    precision, recall, treshold = precision_recall_curve(y, y_proba)\n",
    "    pr_auc = auc(recall, precision)\n",
    "    \n",
    "    # строим график\n",
    "    plt.plot(\n",
    "        recall, precision, color='darkorange',\n",
    "        label='PR кривая (AUC = %0.2f)' % pr_auc\n",
    "    )\n",
    "    plt.xlim(\n",
    "        [0.0, 1.0]\n",
    "    )\n",
    "    plt.ylim(\n",
    "        [0.0, 1.05]\n",
    "    )\n",
    "    plt.xlabel('Recall')\n",
    "    plt.ylabel('Precision')\n",
    "    plt.title('Кривая PR и её AUC')\n",
    "    plt.legend(loc=\"lower right\")\n",
    "    plt.show()"
   ]
  },
  {
   "cell_type": "markdown",
   "id": "c205af72",
   "metadata": {},
   "source": [
    "### Метод валидации моделей"
   ]
  },
  {
   "cell_type": "code",
   "execution_count": 86,
   "id": "663a0921",
   "metadata": {},
   "outputs": [],
   "source": [
    "cv_rskf = RepeatedStratifiedKFold(\n",
    "    n_splits = 5,\n",
    "    n_repeats=3,\n",
    "    random_state=13\n",
    ")"
   ]
  },
  {
   "cell_type": "markdown",
   "id": "2a336d3b",
   "metadata": {},
   "source": [
    "### Logistic Regression"
   ]
  },
  {
   "cell_type": "markdown",
   "id": "5d4d1296",
   "metadata": {},
   "source": [
    "Инициализация модели:"
   ]
  },
  {
   "cell_type": "code",
   "execution_count": 87,
   "id": "cf91d02e",
   "metadata": {},
   "outputs": [],
   "source": [
    "lr = LogisticRegression(random_state=13, max_iter=1000000)"
   ]
  },
  {
   "cell_type": "markdown",
   "id": "1dfc00d4",
   "metadata": {},
   "source": [
    "< Примечание > Эффективность данной модели существенно снижается, если признаки тренировочного датасета имеют существенные различия в диапазонах значений, поэтому для её обучения будет использоваться нормализованный датасет."
   ]
  },
  {
   "cell_type": "markdown",
   "id": "23aebe0c",
   "metadata": {},
   "source": [
    "Установка грид-параметров модели:"
   ]
  },
  {
   "cell_type": "code",
   "execution_count": 88,
   "id": "3ecd8daf",
   "metadata": {},
   "outputs": [],
   "source": [
    "lr_param_grid = [\n",
    "    {\n",
    "        'penalty': [\n",
    "            'none'\n",
    "        ],\n",
    "        'solver': [\n",
    "            'lbfgs'\n",
    "        ],\n",
    "        'max_iter': [\n",
    "            1000000\n",
    "        ]\n",
    "    },\n",
    "    {\n",
    "        'penalty': [\n",
    "            'l2'\n",
    "        ],\n",
    "        'C': [\n",
    "            0.001,\n",
    "            0.01,\n",
    "            0.1,\n",
    "#             10,\n",
    "#             100\n",
    "        ],\n",
    "        'solver': [\n",
    "            'lbfgs'\n",
    "        ],\n",
    "        'max_iter': [\n",
    "            1000000\n",
    "        ]\n",
    "    },\n",
    "    {\n",
    "        'penalty': [\n",
    "            'l1',\n",
    "            'l2'\n",
    "        ],\n",
    "        'C': [\n",
    "            0.001,\n",
    "            0.01,\n",
    "            0.1,\n",
    "#             10,\n",
    "#             100\n",
    "        ],\n",
    "        'random_state': [\n",
    "            13\n",
    "        ],\n",
    "        'solver': [\n",
    "            'liblinear'\n",
    "        ],\n",
    "        'max_iter': [\n",
    "            1000000\n",
    "        ]\n",
    "    },\n",
    "]"
   ]
  },
  {
   "cell_type": "markdown",
   "id": "e5d1545b",
   "metadata": {},
   "source": [
    "Предварительный отбор признаков:"
   ]
  },
  {
   "cell_type": "code",
   "execution_count": 89,
   "id": "22ab0014",
   "metadata": {},
   "outputs": [
    {
     "data": {
      "text/html": [
       "<style>#sk-container-id-1 {color: black;background-color: white;}#sk-container-id-1 pre{padding: 0;}#sk-container-id-1 div.sk-toggleable {background-color: white;}#sk-container-id-1 label.sk-toggleable__label {cursor: pointer;display: block;width: 100%;margin-bottom: 0;padding: 0.3em;box-sizing: border-box;text-align: center;}#sk-container-id-1 label.sk-toggleable__label-arrow:before {content: \"▸\";float: left;margin-right: 0.25em;color: #696969;}#sk-container-id-1 label.sk-toggleable__label-arrow:hover:before {color: black;}#sk-container-id-1 div.sk-estimator:hover label.sk-toggleable__label-arrow:before {color: black;}#sk-container-id-1 div.sk-toggleable__content {max-height: 0;max-width: 0;overflow: hidden;text-align: left;background-color: #f0f8ff;}#sk-container-id-1 div.sk-toggleable__content pre {margin: 0.2em;color: black;border-radius: 0.25em;background-color: #f0f8ff;}#sk-container-id-1 input.sk-toggleable__control:checked~div.sk-toggleable__content {max-height: 200px;max-width: 100%;overflow: auto;}#sk-container-id-1 input.sk-toggleable__control:checked~label.sk-toggleable__label-arrow:before {content: \"▾\";}#sk-container-id-1 div.sk-estimator input.sk-toggleable__control:checked~label.sk-toggleable__label {background-color: #d4ebff;}#sk-container-id-1 div.sk-label input.sk-toggleable__control:checked~label.sk-toggleable__label {background-color: #d4ebff;}#sk-container-id-1 input.sk-hidden--visually {border: 0;clip: rect(1px 1px 1px 1px);clip: rect(1px, 1px, 1px, 1px);height: 1px;margin: -1px;overflow: hidden;padding: 0;position: absolute;width: 1px;}#sk-container-id-1 div.sk-estimator {font-family: monospace;background-color: #f0f8ff;border: 1px dotted black;border-radius: 0.25em;box-sizing: border-box;margin-bottom: 0.5em;}#sk-container-id-1 div.sk-estimator:hover {background-color: #d4ebff;}#sk-container-id-1 div.sk-parallel-item::after {content: \"\";width: 100%;border-bottom: 1px solid gray;flex-grow: 1;}#sk-container-id-1 div.sk-label:hover label.sk-toggleable__label {background-color: #d4ebff;}#sk-container-id-1 div.sk-serial::before {content: \"\";position: absolute;border-left: 1px solid gray;box-sizing: border-box;top: 0;bottom: 0;left: 50%;z-index: 0;}#sk-container-id-1 div.sk-serial {display: flex;flex-direction: column;align-items: center;background-color: white;padding-right: 0.2em;padding-left: 0.2em;position: relative;}#sk-container-id-1 div.sk-item {position: relative;z-index: 1;}#sk-container-id-1 div.sk-parallel {display: flex;align-items: stretch;justify-content: center;background-color: white;position: relative;}#sk-container-id-1 div.sk-item::before, #sk-container-id-1 div.sk-parallel-item::before {content: \"\";position: absolute;border-left: 1px solid gray;box-sizing: border-box;top: 0;bottom: 0;left: 50%;z-index: -1;}#sk-container-id-1 div.sk-parallel-item {display: flex;flex-direction: column;z-index: 1;position: relative;background-color: white;}#sk-container-id-1 div.sk-parallel-item:first-child::after {align-self: flex-end;width: 50%;}#sk-container-id-1 div.sk-parallel-item:last-child::after {align-self: flex-start;width: 50%;}#sk-container-id-1 div.sk-parallel-item:only-child::after {width: 0;}#sk-container-id-1 div.sk-dashed-wrapped {border: 1px dashed gray;margin: 0 0.4em 0.5em 0.4em;box-sizing: border-box;padding-bottom: 0.4em;background-color: white;}#sk-container-id-1 div.sk-label label {font-family: monospace;font-weight: bold;display: inline-block;line-height: 1.2em;}#sk-container-id-1 div.sk-label-container {text-align: center;}#sk-container-id-1 div.sk-container {/* jupyter's `normalize.less` sets `[hidden] { display: none; }` but bootstrap.min.css set `[hidden] { display: none !important; }` so we also need the `!important` here to be able to override the default hidden behavior on the sphinx rendered scikit-learn.org. See: https://github.com/scikit-learn/scikit-learn/issues/21755 */display: inline-block !important;position: relative;}#sk-container-id-1 div.sk-text-repr-fallback {display: none;}</style><div id=\"sk-container-id-1\" class=\"sk-top-container\"><div class=\"sk-text-repr-fallback\"><pre>LogisticRegression(max_iter=1000000, random_state=13)</pre><b>In a Jupyter environment, please rerun this cell to show the HTML representation or trust the notebook. <br />On GitHub, the HTML representation is unable to render, please try loading this page with nbviewer.org.</b></div><div class=\"sk-container\" hidden><div class=\"sk-item\"><div class=\"sk-estimator sk-toggleable\"><input class=\"sk-toggleable__control sk-hidden--visually\" id=\"sk-estimator-id-1\" type=\"checkbox\" checked><label for=\"sk-estimator-id-1\" class=\"sk-toggleable__label sk-toggleable__label-arrow\">LogisticRegression</label><div class=\"sk-toggleable__content\"><pre>LogisticRegression(max_iter=1000000, random_state=13)</pre></div></div></div></div></div>"
      ],
      "text/plain": [
       "LogisticRegression(max_iter=1000000, random_state=13)"
      ]
     },
     "execution_count": 89,
     "metadata": {},
     "output_type": "execute_result"
    }
   ],
   "source": [
    "# обучение модели\n",
    "lr.fit(X=X_train_normalized, y=y)"
   ]
  },
  {
   "cell_type": "code",
   "execution_count": 90,
   "id": "6118c967",
   "metadata": {},
   "outputs": [
    {
     "data": {
      "text/html": [
       "<div>\n",
       "<style scoped>\n",
       "    .dataframe tbody tr th:only-of-type {\n",
       "        vertical-align: middle;\n",
       "    }\n",
       "\n",
       "    .dataframe tbody tr th {\n",
       "        vertical-align: top;\n",
       "    }\n",
       "\n",
       "    .dataframe thead th {\n",
       "        text-align: right;\n",
       "    }\n",
       "</style>\n",
       "<table border=\"1\" class=\"dataframe\">\n",
       "  <thead>\n",
       "    <tr style=\"text-align: right;\">\n",
       "      <th></th>\n",
       "      <th>feature</th>\n",
       "      <th>importance</th>\n",
       "    </tr>\n",
       "  </thead>\n",
       "  <tbody>\n",
       "    <tr>\n",
       "      <th>0</th>\n",
       "      <td>vas_id_6.0</td>\n",
       "      <td>2.990380</td>\n",
       "    </tr>\n",
       "    <tr>\n",
       "      <th>1</th>\n",
       "      <td>not_first_offer</td>\n",
       "      <td>2.955544</td>\n",
       "    </tr>\n",
       "    <tr>\n",
       "      <th>2</th>\n",
       "      <td>vas_id_4.0</td>\n",
       "      <td>1.564073</td>\n",
       "    </tr>\n",
       "    <tr>\n",
       "      <th>3</th>\n",
       "      <td>241</td>\n",
       "      <td>1.493063</td>\n",
       "    </tr>\n",
       "    <tr>\n",
       "      <th>4</th>\n",
       "      <td>buy_month_11</td>\n",
       "      <td>1.378185</td>\n",
       "    </tr>\n",
       "    <tr>\n",
       "      <th>5</th>\n",
       "      <td>vas_id_7.0</td>\n",
       "      <td>1.342443</td>\n",
       "    </tr>\n",
       "    <tr>\n",
       "      <th>6</th>\n",
       "      <td>68</td>\n",
       "      <td>1.268837</td>\n",
       "    </tr>\n",
       "    <tr>\n",
       "      <th>7</th>\n",
       "      <td>vas_id_5.0</td>\n",
       "      <td>1.180843</td>\n",
       "    </tr>\n",
       "    <tr>\n",
       "      <th>8</th>\n",
       "      <td>vas_id_1.0</td>\n",
       "      <td>1.032819</td>\n",
       "    </tr>\n",
       "    <tr>\n",
       "      <th>9</th>\n",
       "      <td>vas_id_2.0</td>\n",
       "      <td>0.996811</td>\n",
       "    </tr>\n",
       "    <tr>\n",
       "      <th>10</th>\n",
       "      <td>210</td>\n",
       "      <td>0.951777</td>\n",
       "    </tr>\n",
       "    <tr>\n",
       "      <th>11</th>\n",
       "      <td>vas_id_8.0</td>\n",
       "      <td>0.893664</td>\n",
       "    </tr>\n",
       "    <tr>\n",
       "      <th>12</th>\n",
       "      <td>144</td>\n",
       "      <td>0.824512</td>\n",
       "    </tr>\n",
       "    <tr>\n",
       "      <th>13</th>\n",
       "      <td>245</td>\n",
       "      <td>0.786755</td>\n",
       "    </tr>\n",
       "    <tr>\n",
       "      <th>14</th>\n",
       "      <td>168</td>\n",
       "      <td>0.703699</td>\n",
       "    </tr>\n",
       "    <tr>\n",
       "      <th>15</th>\n",
       "      <td>187</td>\n",
       "      <td>0.689211</td>\n",
       "    </tr>\n",
       "    <tr>\n",
       "      <th>16</th>\n",
       "      <td>185</td>\n",
       "      <td>0.679877</td>\n",
       "    </tr>\n",
       "    <tr>\n",
       "      <th>17</th>\n",
       "      <td>22</td>\n",
       "      <td>0.658679</td>\n",
       "    </tr>\n",
       "    <tr>\n",
       "      <th>18</th>\n",
       "      <td>229</td>\n",
       "      <td>0.629565</td>\n",
       "    </tr>\n",
       "    <tr>\n",
       "      <th>19</th>\n",
       "      <td>65</td>\n",
       "      <td>0.617963</td>\n",
       "    </tr>\n",
       "    <tr>\n",
       "      <th>20</th>\n",
       "      <td>140</td>\n",
       "      <td>0.606959</td>\n",
       "    </tr>\n",
       "    <tr>\n",
       "      <th>21</th>\n",
       "      <td>246</td>\n",
       "      <td>0.596084</td>\n",
       "    </tr>\n",
       "    <tr>\n",
       "      <th>22</th>\n",
       "      <td>69</td>\n",
       "      <td>0.577869</td>\n",
       "    </tr>\n",
       "    <tr>\n",
       "      <th>23</th>\n",
       "      <td>135</td>\n",
       "      <td>0.563727</td>\n",
       "    </tr>\n",
       "    <tr>\n",
       "      <th>24</th>\n",
       "      <td>189</td>\n",
       "      <td>0.562742</td>\n",
       "    </tr>\n",
       "    <tr>\n",
       "      <th>25</th>\n",
       "      <td>vas_id_9.0</td>\n",
       "      <td>0.551316</td>\n",
       "    </tr>\n",
       "    <tr>\n",
       "      <th>26</th>\n",
       "      <td>130</td>\n",
       "      <td>0.536716</td>\n",
       "    </tr>\n",
       "    <tr>\n",
       "      <th>27</th>\n",
       "      <td>188</td>\n",
       "      <td>0.533937</td>\n",
       "    </tr>\n",
       "    <tr>\n",
       "      <th>28</th>\n",
       "      <td>153</td>\n",
       "      <td>0.526220</td>\n",
       "    </tr>\n",
       "    <tr>\n",
       "      <th>29</th>\n",
       "      <td>146</td>\n",
       "      <td>0.520853</td>\n",
       "    </tr>\n",
       "  </tbody>\n",
       "</table>\n",
       "</div>"
      ],
      "text/plain": [
       "            feature  importance\n",
       "0        vas_id_6.0    2.990380\n",
       "1   not_first_offer    2.955544\n",
       "2        vas_id_4.0    1.564073\n",
       "3               241    1.493063\n",
       "4      buy_month_11    1.378185\n",
       "5        vas_id_7.0    1.342443\n",
       "6                68    1.268837\n",
       "7        vas_id_5.0    1.180843\n",
       "8        vas_id_1.0    1.032819\n",
       "9        vas_id_2.0    0.996811\n",
       "10              210    0.951777\n",
       "11       vas_id_8.0    0.893664\n",
       "12              144    0.824512\n",
       "13              245    0.786755\n",
       "14              168    0.703699\n",
       "15              187    0.689211\n",
       "16              185    0.679877\n",
       "17               22    0.658679\n",
       "18              229    0.629565\n",
       "19               65    0.617963\n",
       "20              140    0.606959\n",
       "21              246    0.596084\n",
       "22               69    0.577869\n",
       "23              135    0.563727\n",
       "24              189    0.562742\n",
       "25       vas_id_9.0    0.551316\n",
       "26              130    0.536716\n",
       "27              188    0.533937\n",
       "28              153    0.526220\n",
       "29              146    0.520853"
      ]
     },
     "execution_count": 90,
     "metadata": {},
     "output_type": "execute_result"
    }
   ],
   "source": [
    "# выборка 30 наиболее значимых признаков\n",
    "importance = abs(lr.coef_[0])\n",
    "feature_names = X_train_normalized.columns\n",
    "pd.DataFrame(\n",
    "    data={\n",
    "        'feature': feature_names,\n",
    "        'importance': importance\n",
    "    }\n",
    ").sort_values(\n",
    "    by='importance',\n",
    "    ascending=False\n",
    ").reset_index(\n",
    "    drop=True\n",
    ").head(\n",
    "    n=30\n",
    ")"
   ]
  },
  {
   "cell_type": "code",
   "execution_count": 91,
   "id": "10b0f42b",
   "metadata": {},
   "outputs": [],
   "source": [
    "# экспертная оценка уровня значимости\n",
    "threshold = 0.617962"
   ]
  },
  {
   "cell_type": "code",
   "execution_count": 92,
   "id": "d2a82c2d",
   "metadata": {},
   "outputs": [
    {
     "name": "stdout",
     "output_type": "stream",
     "text": [
      "<class 'pandas.core.frame.DataFrame'>\n",
      "Int64Index: 831653 entries, 0 to 831652\n",
      "Data columns (total 20 columns):\n",
      " #   Column           Non-Null Count   Dtype  \n",
      "---  ------           --------------   -----  \n",
      " 0   not_first_offer  831653 non-null  float64\n",
      " 1   22               831653 non-null  float64\n",
      " 2   65               831653 non-null  float64\n",
      " 3   68               831653 non-null  float64\n",
      " 4   144              831653 non-null  float64\n",
      " 5   168              831653 non-null  float64\n",
      " 6   185              831653 non-null  float64\n",
      " 7   187              831653 non-null  float64\n",
      " 8   210              831653 non-null  float64\n",
      " 9   229              831653 non-null  float64\n",
      " 10  241              831653 non-null  float64\n",
      " 11  245              831653 non-null  float64\n",
      " 12  vas_id_1.0       831653 non-null  float64\n",
      " 13  vas_id_2.0       831653 non-null  float64\n",
      " 14  vas_id_4.0       831653 non-null  float64\n",
      " 15  vas_id_5.0       831653 non-null  float64\n",
      " 16  vas_id_6.0       831653 non-null  float64\n",
      " 17  vas_id_7.0       831653 non-null  float64\n",
      " 18  vas_id_8.0       831653 non-null  float64\n",
      " 19  buy_month_11     831653 non-null  float64\n",
      "dtypes: float64(20)\n",
      "memory usage: 133.2 MB\n"
     ]
    }
   ],
   "source": [
    "# удаление лишних признаков из тренировочного датасета\n",
    "lr_sfm = SelectFromModel(estimator=lr, threshold=threshold).fit(X=X_train_normalized, y=y)\n",
    "indices_lr_sfm = lr_sfm.get_support(indices=True)\n",
    "X_train_normalized_lr_sfm  = X_train_normalized.iloc[:, indices_lr_sfm]\n",
    "X_train_normalized_lr_sfm.info(memory_usage='deep')"
   ]
  },
  {
   "cell_type": "markdown",
   "id": "2e2145ac",
   "metadata": {},
   "source": [
    "Настройка модели:"
   ]
  },
  {
   "cell_type": "code",
   "execution_count": 93,
   "id": "70372ef2",
   "metadata": {},
   "outputs": [],
   "source": [
    "lr_gscv = GridSearchCV(\n",
    "    estimator=lr,\n",
    "    param_grid=lr_param_grid,\n",
    "    scoring='f1_macro',\n",
    "    n_jobs=-1,\n",
    "    cv=cv_rskf,\n",
    "    verbose=1\n",
    ")"
   ]
  },
  {
   "cell_type": "code",
   "execution_count": 94,
   "id": "6b7391c9",
   "metadata": {},
   "outputs": [
    {
     "name": "stdout",
     "output_type": "stream",
     "text": [
      "Fitting 15 folds for each of 10 candidates, totalling 150 fits\n",
      "CPU times: total: 9.03 s\n",
      "Wall time: 5min 30s\n"
     ]
    },
    {
     "data": {
      "text/html": [
       "<style>#sk-container-id-2 {color: black;background-color: white;}#sk-container-id-2 pre{padding: 0;}#sk-container-id-2 div.sk-toggleable {background-color: white;}#sk-container-id-2 label.sk-toggleable__label {cursor: pointer;display: block;width: 100%;margin-bottom: 0;padding: 0.3em;box-sizing: border-box;text-align: center;}#sk-container-id-2 label.sk-toggleable__label-arrow:before {content: \"▸\";float: left;margin-right: 0.25em;color: #696969;}#sk-container-id-2 label.sk-toggleable__label-arrow:hover:before {color: black;}#sk-container-id-2 div.sk-estimator:hover label.sk-toggleable__label-arrow:before {color: black;}#sk-container-id-2 div.sk-toggleable__content {max-height: 0;max-width: 0;overflow: hidden;text-align: left;background-color: #f0f8ff;}#sk-container-id-2 div.sk-toggleable__content pre {margin: 0.2em;color: black;border-radius: 0.25em;background-color: #f0f8ff;}#sk-container-id-2 input.sk-toggleable__control:checked~div.sk-toggleable__content {max-height: 200px;max-width: 100%;overflow: auto;}#sk-container-id-2 input.sk-toggleable__control:checked~label.sk-toggleable__label-arrow:before {content: \"▾\";}#sk-container-id-2 div.sk-estimator input.sk-toggleable__control:checked~label.sk-toggleable__label {background-color: #d4ebff;}#sk-container-id-2 div.sk-label input.sk-toggleable__control:checked~label.sk-toggleable__label {background-color: #d4ebff;}#sk-container-id-2 input.sk-hidden--visually {border: 0;clip: rect(1px 1px 1px 1px);clip: rect(1px, 1px, 1px, 1px);height: 1px;margin: -1px;overflow: hidden;padding: 0;position: absolute;width: 1px;}#sk-container-id-2 div.sk-estimator {font-family: monospace;background-color: #f0f8ff;border: 1px dotted black;border-radius: 0.25em;box-sizing: border-box;margin-bottom: 0.5em;}#sk-container-id-2 div.sk-estimator:hover {background-color: #d4ebff;}#sk-container-id-2 div.sk-parallel-item::after {content: \"\";width: 100%;border-bottom: 1px solid gray;flex-grow: 1;}#sk-container-id-2 div.sk-label:hover label.sk-toggleable__label {background-color: #d4ebff;}#sk-container-id-2 div.sk-serial::before {content: \"\";position: absolute;border-left: 1px solid gray;box-sizing: border-box;top: 0;bottom: 0;left: 50%;z-index: 0;}#sk-container-id-2 div.sk-serial {display: flex;flex-direction: column;align-items: center;background-color: white;padding-right: 0.2em;padding-left: 0.2em;position: relative;}#sk-container-id-2 div.sk-item {position: relative;z-index: 1;}#sk-container-id-2 div.sk-parallel {display: flex;align-items: stretch;justify-content: center;background-color: white;position: relative;}#sk-container-id-2 div.sk-item::before, #sk-container-id-2 div.sk-parallel-item::before {content: \"\";position: absolute;border-left: 1px solid gray;box-sizing: border-box;top: 0;bottom: 0;left: 50%;z-index: -1;}#sk-container-id-2 div.sk-parallel-item {display: flex;flex-direction: column;z-index: 1;position: relative;background-color: white;}#sk-container-id-2 div.sk-parallel-item:first-child::after {align-self: flex-end;width: 50%;}#sk-container-id-2 div.sk-parallel-item:last-child::after {align-self: flex-start;width: 50%;}#sk-container-id-2 div.sk-parallel-item:only-child::after {width: 0;}#sk-container-id-2 div.sk-dashed-wrapped {border: 1px dashed gray;margin: 0 0.4em 0.5em 0.4em;box-sizing: border-box;padding-bottom: 0.4em;background-color: white;}#sk-container-id-2 div.sk-label label {font-family: monospace;font-weight: bold;display: inline-block;line-height: 1.2em;}#sk-container-id-2 div.sk-label-container {text-align: center;}#sk-container-id-2 div.sk-container {/* jupyter's `normalize.less` sets `[hidden] { display: none; }` but bootstrap.min.css set `[hidden] { display: none !important; }` so we also need the `!important` here to be able to override the default hidden behavior on the sphinx rendered scikit-learn.org. See: https://github.com/scikit-learn/scikit-learn/issues/21755 */display: inline-block !important;position: relative;}#sk-container-id-2 div.sk-text-repr-fallback {display: none;}</style><div id=\"sk-container-id-2\" class=\"sk-top-container\"><div class=\"sk-text-repr-fallback\"><pre>GridSearchCV(cv=RepeatedStratifiedKFold(n_repeats=3, n_splits=5, random_state=13),\n",
       "             estimator=LogisticRegression(max_iter=1000000, random_state=13),\n",
       "             n_jobs=-1,\n",
       "             param_grid=[{&#x27;max_iter&#x27;: [1000000], &#x27;penalty&#x27;: [&#x27;none&#x27;],\n",
       "                          &#x27;solver&#x27;: [&#x27;lbfgs&#x27;]},\n",
       "                         {&#x27;C&#x27;: [0.001, 0.01, 0.1], &#x27;max_iter&#x27;: [1000000],\n",
       "                          &#x27;penalty&#x27;: [&#x27;l2&#x27;], &#x27;solver&#x27;: [&#x27;lbfgs&#x27;]},\n",
       "                         {&#x27;C&#x27;: [0.001, 0.01, 0.1], &#x27;max_iter&#x27;: [1000000],\n",
       "                          &#x27;penalty&#x27;: [&#x27;l1&#x27;, &#x27;l2&#x27;], &#x27;random_state&#x27;: [13],\n",
       "                          &#x27;solver&#x27;: [&#x27;liblinear&#x27;]}],\n",
       "             scoring=&#x27;f1_macro&#x27;, verbose=1)</pre><b>In a Jupyter environment, please rerun this cell to show the HTML representation or trust the notebook. <br />On GitHub, the HTML representation is unable to render, please try loading this page with nbviewer.org.</b></div><div class=\"sk-container\" hidden><div class=\"sk-item sk-dashed-wrapped\"><div class=\"sk-label-container\"><div class=\"sk-label sk-toggleable\"><input class=\"sk-toggleable__control sk-hidden--visually\" id=\"sk-estimator-id-2\" type=\"checkbox\" ><label for=\"sk-estimator-id-2\" class=\"sk-toggleable__label sk-toggleable__label-arrow\">GridSearchCV</label><div class=\"sk-toggleable__content\"><pre>GridSearchCV(cv=RepeatedStratifiedKFold(n_repeats=3, n_splits=5, random_state=13),\n",
       "             estimator=LogisticRegression(max_iter=1000000, random_state=13),\n",
       "             n_jobs=-1,\n",
       "             param_grid=[{&#x27;max_iter&#x27;: [1000000], &#x27;penalty&#x27;: [&#x27;none&#x27;],\n",
       "                          &#x27;solver&#x27;: [&#x27;lbfgs&#x27;]},\n",
       "                         {&#x27;C&#x27;: [0.001, 0.01, 0.1], &#x27;max_iter&#x27;: [1000000],\n",
       "                          &#x27;penalty&#x27;: [&#x27;l2&#x27;], &#x27;solver&#x27;: [&#x27;lbfgs&#x27;]},\n",
       "                         {&#x27;C&#x27;: [0.001, 0.01, 0.1], &#x27;max_iter&#x27;: [1000000],\n",
       "                          &#x27;penalty&#x27;: [&#x27;l1&#x27;, &#x27;l2&#x27;], &#x27;random_state&#x27;: [13],\n",
       "                          &#x27;solver&#x27;: [&#x27;liblinear&#x27;]}],\n",
       "             scoring=&#x27;f1_macro&#x27;, verbose=1)</pre></div></div></div><div class=\"sk-parallel\"><div class=\"sk-parallel-item\"><div class=\"sk-item\"><div class=\"sk-label-container\"><div class=\"sk-label sk-toggleable\"><input class=\"sk-toggleable__control sk-hidden--visually\" id=\"sk-estimator-id-3\" type=\"checkbox\" ><label for=\"sk-estimator-id-3\" class=\"sk-toggleable__label sk-toggleable__label-arrow\">estimator: LogisticRegression</label><div class=\"sk-toggleable__content\"><pre>LogisticRegression(max_iter=1000000, random_state=13)</pre></div></div></div><div class=\"sk-serial\"><div class=\"sk-item\"><div class=\"sk-estimator sk-toggleable\"><input class=\"sk-toggleable__control sk-hidden--visually\" id=\"sk-estimator-id-4\" type=\"checkbox\" ><label for=\"sk-estimator-id-4\" class=\"sk-toggleable__label sk-toggleable__label-arrow\">LogisticRegression</label><div class=\"sk-toggleable__content\"><pre>LogisticRegression(max_iter=1000000, random_state=13)</pre></div></div></div></div></div></div></div></div></div></div>"
      ],
      "text/plain": [
       "GridSearchCV(cv=RepeatedStratifiedKFold(n_repeats=3, n_splits=5, random_state=13),\n",
       "             estimator=LogisticRegression(max_iter=1000000, random_state=13),\n",
       "             n_jobs=-1,\n",
       "             param_grid=[{'max_iter': [1000000], 'penalty': ['none'],\n",
       "                          'solver': ['lbfgs']},\n",
       "                         {'C': [0.001, 0.01, 0.1], 'max_iter': [1000000],\n",
       "                          'penalty': ['l2'], 'solver': ['lbfgs']},\n",
       "                         {'C': [0.001, 0.01, 0.1], 'max_iter': [1000000],\n",
       "                          'penalty': ['l1', 'l2'], 'random_state': [13],\n",
       "                          'solver': ['liblinear']}],\n",
       "             scoring='f1_macro', verbose=1)"
      ]
     },
     "execution_count": 94,
     "metadata": {},
     "output_type": "execute_result"
    }
   ],
   "source": [
    "%%time\n",
    "lr_gscv.fit(X=X_train_normalized_lr_sfm, y=y)"
   ]
  },
  {
   "cell_type": "markdown",
   "id": "86554bbc",
   "metadata": {},
   "source": [
    "Анализ модели:"
   ]
  },
  {
   "cell_type": "code",
   "execution_count": 95,
   "id": "2d116d85",
   "metadata": {},
   "outputs": [
    {
     "data": {
      "text/plain": [
       "0.6849596866110068"
      ]
     },
     "execution_count": 95,
     "metadata": {},
     "output_type": "execute_result"
    }
   ],
   "source": [
    "lr_gscv.best_score_"
   ]
  },
  {
   "cell_type": "code",
   "execution_count": 96,
   "id": "ca4c0ed4",
   "metadata": {},
   "outputs": [
    {
     "data": {
      "text/plain": [
       "{'C': 0.01,\n",
       " 'max_iter': 1000000,\n",
       " 'penalty': 'l1',\n",
       " 'random_state': 13,\n",
       " 'solver': 'liblinear'}"
      ]
     },
     "execution_count": 96,
     "metadata": {},
     "output_type": "execute_result"
    }
   ],
   "source": [
    "lr_gscv.best_params_"
   ]
  },
  {
   "cell_type": "code",
   "execution_count": 97,
   "id": "ba1c5965",
   "metadata": {},
   "outputs": [],
   "source": [
    "lr_tuned = lr_gscv.best_estimator_"
   ]
  },
  {
   "cell_type": "code",
   "execution_count": 98,
   "id": "031782f8",
   "metadata": {},
   "outputs": [],
   "source": [
    "lr_tuned.fit(X=X_train_normalized_lr_sfm, y=y)\n",
    "y_lr_tuned = lr_tuned.predict(X=X_train_normalized_lr_sfm)\n",
    "y_lr_tuned_proba = lr_tuned.predict_proba(X=X_train_normalized_lr_sfm)[:, 1]"
   ]
  },
  {
   "cell_type": "code",
   "execution_count": 99,
   "id": "e8709827",
   "metadata": {},
   "outputs": [
    {
     "data": {
      "image/png": "[encoded data removed]",
      "text/plain": [
       "<Figure size 640x480 with 2 Axes>"
      ]
     },
     "metadata": {},
     "output_type": "display_data"
    }
   ],
   "source": [
    "disp = ConfusionMatrixDisplay(confusion_matrix(y_true=y, y_pred=y_lr_tuned))\n",
    "disp.plot();"
   ]
  },
  {
   "cell_type": "code",
   "execution_count": 100,
   "id": "8a5a9d09",
   "metadata": {},
   "outputs": [
    {
     "name": "stdout",
     "output_type": "stream",
     "text": [
      "              precision    recall  f1-score   support\n",
      "\n",
      "           0       0.95      0.99      0.97    771467\n",
      "           1       0.76      0.26      0.39     60186\n",
      "\n",
      "    accuracy                           0.94    831653\n",
      "   macro avg       0.85      0.63      0.68    831653\n",
      "weighted avg       0.93      0.94      0.93    831653\n",
      "\n"
     ]
    }
   ],
   "source": [
    "print(classification_report(y_true=y, y_pred=y_lr_tuned))"
   ]
  },
  {
   "cell_type": "code",
   "execution_count": 101,
   "id": "b25dd406",
   "metadata": {},
   "outputs": [
    {
     "data": {
      "image/png": "[encoded data removed]",
      "text/plain": [
       "<Figure size 640x480 with 1 Axes>"
      ]
     },
     "metadata": {},
     "output_type": "display_data"
    }
   ],
   "source": [
    "roc_auc_plot(y=y, y_proba=y_lr_tuned_proba)"
   ]
  },
  {
   "cell_type": "code",
   "execution_count": 102,
   "id": "4099953b",
   "metadata": {},
   "outputs": [
    {
     "data": {
      "image/png": "[encoded data removed]",
      "text/plain": [
       "<Figure size 640x480 with 1 Axes>"
      ]
     },
     "metadata": {},
     "output_type": "display_data"
    }
   ],
   "source": [
    "pr_auc_plot(y=y, y_proba=y_lr_tuned_proba)"
   ]
  },
  {
   "cell_type": "markdown",
   "id": "8f67c18a",
   "metadata": {},
   "source": [
    "### Decision Tree Classifier"
   ]
  },
  {
   "cell_type": "markdown",
   "id": "33c6ae16",
   "metadata": {},
   "source": [
    "Инициализация модели:"
   ]
  },
  {
   "cell_type": "code",
   "execution_count": 103,
   "id": "b0b7e051",
   "metadata": {},
   "outputs": [],
   "source": [
    "dtc = DecisionTreeClassifier(random_state=13)"
   ]
  },
  {
   "cell_type": "markdown",
   "id": "a530e9fb",
   "metadata": {},
   "source": [
    "< Примечание > Эффективность данной модели существенно не снижается, если признаки тренировочного датасета имеют существенные различия в диапазонах значений, поэтому для её обучения будет использоваться ненормализованный датасет."
   ]
  },
  {
   "cell_type": "markdown",
   "id": "8e168f1d",
   "metadata": {},
   "source": [
    "Установка грид-параметров модели:"
   ]
  },
  {
   "cell_type": "code",
   "execution_count": 104,
   "id": "3ef02813",
   "metadata": {},
   "outputs": [],
   "source": [
    "dtc_param_grid = {\n",
    "    'criterion': [\n",
    "        'gini',  # default\n",
    "        'entropy',\n",
    "#         'log_loss'\n",
    "    ],\n",
    "    'splitter': [\n",
    "        'best',  # default\n",
    "        'random'\n",
    "    ],\n",
    "    'max_depth': [\n",
    "      None,  # default\n",
    "        2,\n",
    "        3,\n",
    "#         4,\n",
    "#         5,\n",
    "#         6\n",
    "    ],\n",
    "    'max_features': [\n",
    "        None,  # default\n",
    "        'sqrt',\n",
    "        'log2'\n",
    "    ],\n",
    "    'random_state': [\n",
    "        13\n",
    "    ]\n",
    "}"
   ]
  },
  {
   "cell_type": "markdown",
   "id": "0d2ed72c",
   "metadata": {},
   "source": [
    "Предварительный отбор признаков:"
   ]
  },
  {
   "cell_type": "code",
   "execution_count": 105,
   "id": "67e8c00e",
   "metadata": {},
   "outputs": [
    {
     "data": {
      "text/html": [
       "<style>#sk-container-id-3 {color: black;background-color: white;}#sk-container-id-3 pre{padding: 0;}#sk-container-id-3 div.sk-toggleable {background-color: white;}#sk-container-id-3 label.sk-toggleable__label {cursor: pointer;display: block;width: 100%;margin-bottom: 0;padding: 0.3em;box-sizing: border-box;text-align: center;}#sk-container-id-3 label.sk-toggleable__label-arrow:before {content: \"▸\";float: left;margin-right: 0.25em;color: #696969;}#sk-container-id-3 label.sk-toggleable__label-arrow:hover:before {color: black;}#sk-container-id-3 div.sk-estimator:hover label.sk-toggleable__label-arrow:before {color: black;}#sk-container-id-3 div.sk-toggleable__content {max-height: 0;max-width: 0;overflow: hidden;text-align: left;background-color: #f0f8ff;}#sk-container-id-3 div.sk-toggleable__content pre {margin: 0.2em;color: black;border-radius: 0.25em;background-color: #f0f8ff;}#sk-container-id-3 input.sk-toggleable__control:checked~div.sk-toggleable__content {max-height: 200px;max-width: 100%;overflow: auto;}#sk-container-id-3 input.sk-toggleable__control:checked~label.sk-toggleable__label-arrow:before {content: \"▾\";}#sk-container-id-3 div.sk-estimator input.sk-toggleable__control:checked~label.sk-toggleable__label {background-color: #d4ebff;}#sk-container-id-3 div.sk-label input.sk-toggleable__control:checked~label.sk-toggleable__label {background-color: #d4ebff;}#sk-container-id-3 input.sk-hidden--visually {border: 0;clip: rect(1px 1px 1px 1px);clip: rect(1px, 1px, 1px, 1px);height: 1px;margin: -1px;overflow: hidden;padding: 0;position: absolute;width: 1px;}#sk-container-id-3 div.sk-estimator {font-family: monospace;background-color: #f0f8ff;border: 1px dotted black;border-radius: 0.25em;box-sizing: border-box;margin-bottom: 0.5em;}#sk-container-id-3 div.sk-estimator:hover {background-color: #d4ebff;}#sk-container-id-3 div.sk-parallel-item::after {content: \"\";width: 100%;border-bottom: 1px solid gray;flex-grow: 1;}#sk-container-id-3 div.sk-label:hover label.sk-toggleable__label {background-color: #d4ebff;}#sk-container-id-3 div.sk-serial::before {content: \"\";position: absolute;border-left: 1px solid gray;box-sizing: border-box;top: 0;bottom: 0;left: 50%;z-index: 0;}#sk-container-id-3 div.sk-serial {display: flex;flex-direction: column;align-items: center;background-color: white;padding-right: 0.2em;padding-left: 0.2em;position: relative;}#sk-container-id-3 div.sk-item {position: relative;z-index: 1;}#sk-container-id-3 div.sk-parallel {display: flex;align-items: stretch;justify-content: center;background-color: white;position: relative;}#sk-container-id-3 div.sk-item::before, #sk-container-id-3 div.sk-parallel-item::before {content: \"\";position: absolute;border-left: 1px solid gray;box-sizing: border-box;top: 0;bottom: 0;left: 50%;z-index: -1;}#sk-container-id-3 div.sk-parallel-item {display: flex;flex-direction: column;z-index: 1;position: relative;background-color: white;}#sk-container-id-3 div.sk-parallel-item:first-child::after {align-self: flex-end;width: 50%;}#sk-container-id-3 div.sk-parallel-item:last-child::after {align-self: flex-start;width: 50%;}#sk-container-id-3 div.sk-parallel-item:only-child::after {width: 0;}#sk-container-id-3 div.sk-dashed-wrapped {border: 1px dashed gray;margin: 0 0.4em 0.5em 0.4em;box-sizing: border-box;padding-bottom: 0.4em;background-color: white;}#sk-container-id-3 div.sk-label label {font-family: monospace;font-weight: bold;display: inline-block;line-height: 1.2em;}#sk-container-id-3 div.sk-label-container {text-align: center;}#sk-container-id-3 div.sk-container {/* jupyter's `normalize.less` sets `[hidden] { display: none; }` but bootstrap.min.css set `[hidden] { display: none !important; }` so we also need the `!important` here to be able to override the default hidden behavior on the sphinx rendered scikit-learn.org. See: https://github.com/scikit-learn/scikit-learn/issues/21755 */display: inline-block !important;position: relative;}#sk-container-id-3 div.sk-text-repr-fallback {display: none;}</style><div id=\"sk-container-id-3\" class=\"sk-top-container\"><div class=\"sk-text-repr-fallback\"><pre>DecisionTreeClassifier(random_state=13)</pre><b>In a Jupyter environment, please rerun this cell to show the HTML representation or trust the notebook. <br />On GitHub, the HTML representation is unable to render, please try loading this page with nbviewer.org.</b></div><div class=\"sk-container\" hidden><div class=\"sk-item\"><div class=\"sk-estimator sk-toggleable\"><input class=\"sk-toggleable__control sk-hidden--visually\" id=\"sk-estimator-id-5\" type=\"checkbox\" checked><label for=\"sk-estimator-id-5\" class=\"sk-toggleable__label sk-toggleable__label-arrow\">DecisionTreeClassifier</label><div class=\"sk-toggleable__content\"><pre>DecisionTreeClassifier(random_state=13)</pre></div></div></div></div></div>"
      ],
      "text/plain": [
       "DecisionTreeClassifier(random_state=13)"
      ]
     },
     "execution_count": 105,
     "metadata": {},
     "output_type": "execute_result"
    }
   ],
   "source": [
    "# обучение модели\n",
    "dtc.fit(X=X_train, y=y)"
   ]
  },
  {
   "cell_type": "code",
   "execution_count": 106,
   "id": "6ad55cee",
   "metadata": {},
   "outputs": [
    {
     "data": {
      "text/html": [
       "<div>\n",
       "<style scoped>\n",
       "    .dataframe tbody tr th:only-of-type {\n",
       "        vertical-align: middle;\n",
       "    }\n",
       "\n",
       "    .dataframe tbody tr th {\n",
       "        vertical-align: top;\n",
       "    }\n",
       "\n",
       "    .dataframe thead th {\n",
       "        text-align: right;\n",
       "    }\n",
       "</style>\n",
       "<table border=\"1\" class=\"dataframe\">\n",
       "  <thead>\n",
       "    <tr style=\"text-align: right;\">\n",
       "      <th></th>\n",
       "      <th>feature</th>\n",
       "      <th>importance</th>\n",
       "    </tr>\n",
       "  </thead>\n",
       "  <tbody>\n",
       "    <tr>\n",
       "      <th>0</th>\n",
       "      <td>vas_id_6.0</td>\n",
       "      <td>0.140065</td>\n",
       "    </tr>\n",
       "    <tr>\n",
       "      <th>1</th>\n",
       "      <td>not_first_offer</td>\n",
       "      <td>0.117280</td>\n",
       "    </tr>\n",
       "    <tr>\n",
       "      <th>2</th>\n",
       "      <td>vas_id_4.0</td>\n",
       "      <td>0.052028</td>\n",
       "    </tr>\n",
       "    <tr>\n",
       "      <th>3</th>\n",
       "      <td>buy_month_11</td>\n",
       "      <td>0.045803</td>\n",
       "    </tr>\n",
       "    <tr>\n",
       "      <th>4</th>\n",
       "      <td>226</td>\n",
       "      <td>0.016690</td>\n",
       "    </tr>\n",
       "    <tr>\n",
       "      <th>5</th>\n",
       "      <td>207</td>\n",
       "      <td>0.011475</td>\n",
       "    </tr>\n",
       "    <tr>\n",
       "      <th>6</th>\n",
       "      <td>52</td>\n",
       "      <td>0.011333</td>\n",
       "    </tr>\n",
       "    <tr>\n",
       "      <th>7</th>\n",
       "      <td>164</td>\n",
       "      <td>0.011239</td>\n",
       "    </tr>\n",
       "    <tr>\n",
       "      <th>8</th>\n",
       "      <td>144</td>\n",
       "      <td>0.009921</td>\n",
       "    </tr>\n",
       "    <tr>\n",
       "      <th>9</th>\n",
       "      <td>58</td>\n",
       "      <td>0.009398</td>\n",
       "    </tr>\n",
       "    <tr>\n",
       "      <th>10</th>\n",
       "      <td>53</td>\n",
       "      <td>0.009215</td>\n",
       "    </tr>\n",
       "    <tr>\n",
       "      <th>11</th>\n",
       "      <td>1</td>\n",
       "      <td>0.009105</td>\n",
       "    </tr>\n",
       "    <tr>\n",
       "      <th>12</th>\n",
       "      <td>145</td>\n",
       "      <td>0.009042</td>\n",
       "    </tr>\n",
       "    <tr>\n",
       "      <th>13</th>\n",
       "      <td>115</td>\n",
       "      <td>0.008631</td>\n",
       "    </tr>\n",
       "    <tr>\n",
       "      <th>14</th>\n",
       "      <td>128</td>\n",
       "      <td>0.008424</td>\n",
       "    </tr>\n",
       "    <tr>\n",
       "      <th>15</th>\n",
       "      <td>114</td>\n",
       "      <td>0.008323</td>\n",
       "    </tr>\n",
       "    <tr>\n",
       "      <th>16</th>\n",
       "      <td>61</td>\n",
       "      <td>0.008301</td>\n",
       "    </tr>\n",
       "    <tr>\n",
       "      <th>17</th>\n",
       "      <td>64</td>\n",
       "      <td>0.008296</td>\n",
       "    </tr>\n",
       "    <tr>\n",
       "      <th>18</th>\n",
       "      <td>5</td>\n",
       "      <td>0.008083</td>\n",
       "    </tr>\n",
       "    <tr>\n",
       "      <th>19</th>\n",
       "      <td>229</td>\n",
       "      <td>0.007932</td>\n",
       "    </tr>\n",
       "    <tr>\n",
       "      <th>20</th>\n",
       "      <td>172</td>\n",
       "      <td>0.007098</td>\n",
       "    </tr>\n",
       "    <tr>\n",
       "      <th>21</th>\n",
       "      <td>3</td>\n",
       "      <td>0.007015</td>\n",
       "    </tr>\n",
       "    <tr>\n",
       "      <th>22</th>\n",
       "      <td>143</td>\n",
       "      <td>0.006693</td>\n",
       "    </tr>\n",
       "    <tr>\n",
       "      <th>23</th>\n",
       "      <td>247</td>\n",
       "      <td>0.006647</td>\n",
       "    </tr>\n",
       "    <tr>\n",
       "      <th>24</th>\n",
       "      <td>62</td>\n",
       "      <td>0.006517</td>\n",
       "    </tr>\n",
       "    <tr>\n",
       "      <th>25</th>\n",
       "      <td>191</td>\n",
       "      <td>0.006372</td>\n",
       "    </tr>\n",
       "    <tr>\n",
       "      <th>26</th>\n",
       "      <td>43</td>\n",
       "      <td>0.006320</td>\n",
       "    </tr>\n",
       "    <tr>\n",
       "      <th>27</th>\n",
       "      <td>188</td>\n",
       "      <td>0.006240</td>\n",
       "    </tr>\n",
       "    <tr>\n",
       "      <th>28</th>\n",
       "      <td>236</td>\n",
       "      <td>0.006079</td>\n",
       "    </tr>\n",
       "    <tr>\n",
       "      <th>29</th>\n",
       "      <td>55</td>\n",
       "      <td>0.006023</td>\n",
       "    </tr>\n",
       "  </tbody>\n",
       "</table>\n",
       "</div>"
      ],
      "text/plain": [
       "            feature  importance\n",
       "0        vas_id_6.0    0.140065\n",
       "1   not_first_offer    0.117280\n",
       "2        vas_id_4.0    0.052028\n",
       "3      buy_month_11    0.045803\n",
       "4               226    0.016690\n",
       "5               207    0.011475\n",
       "6                52    0.011333\n",
       "7               164    0.011239\n",
       "8               144    0.009921\n",
       "9                58    0.009398\n",
       "10               53    0.009215\n",
       "11                1    0.009105\n",
       "12              145    0.009042\n",
       "13              115    0.008631\n",
       "14              128    0.008424\n",
       "15              114    0.008323\n",
       "16               61    0.008301\n",
       "17               64    0.008296\n",
       "18                5    0.008083\n",
       "19              229    0.007932\n",
       "20              172    0.007098\n",
       "21                3    0.007015\n",
       "22              143    0.006693\n",
       "23              247    0.006647\n",
       "24               62    0.006517\n",
       "25              191    0.006372\n",
       "26               43    0.006320\n",
       "27              188    0.006240\n",
       "28              236    0.006079\n",
       "29               55    0.006023"
      ]
     },
     "execution_count": 106,
     "metadata": {},
     "output_type": "execute_result"
    }
   ],
   "source": [
    "# выборка 30 наиболее значимых признаков\n",
    "importance = abs(dtc.feature_importances_)\n",
    "feature_names = X_train.columns\n",
    "pd.DataFrame(\n",
    "    data={\n",
    "        'feature': feature_names,\n",
    "        'importance': importance\n",
    "    }\n",
    ").sort_values(\n",
    "    by='importance',\n",
    "    ascending=False\n",
    ").reset_index(\n",
    "    drop=True\n",
    ").head(\n",
    "    n=30\n",
    ")"
   ]
  },
  {
   "cell_type": "code",
   "execution_count": 137,
   "id": "fcababc2",
   "metadata": {},
   "outputs": [],
   "source": [
    "# экспертная оценка уровня значимости\n",
    "threshold = 0.007931"
   ]
  },
  {
   "cell_type": "code",
   "execution_count": 138,
   "id": "cbb78803",
   "metadata": {},
   "outputs": [
    {
     "name": "stdout",
     "output_type": "stream",
     "text": [
      "<class 'pandas.core.frame.DataFrame'>\n",
      "Int64Index: 831653 entries, 0 to 831652\n",
      "Data columns (total 20 columns):\n",
      " #   Column           Non-Null Count   Dtype  \n",
      "---  ------           --------------   -----  \n",
      " 0   not_first_offer  831653 non-null  int8   \n",
      " 1   1                831653 non-null  float64\n",
      " 2   5                831653 non-null  float64\n",
      " 3   52               831653 non-null  float64\n",
      " 4   53               831653 non-null  float64\n",
      " 5   58               831653 non-null  float64\n",
      " 6   61               831653 non-null  float64\n",
      " 7   64               831653 non-null  float64\n",
      " 8   114              831653 non-null  float64\n",
      " 9   115              831653 non-null  float64\n",
      " 10  128              831653 non-null  float64\n",
      " 11  144              831653 non-null  float64\n",
      " 12  145              831653 non-null  float64\n",
      " 13  164              831653 non-null  float64\n",
      " 14  207              831653 non-null  float64\n",
      " 15  226              831653 non-null  float64\n",
      " 16  229              831653 non-null  float64\n",
      " 17  vas_id_4.0       831653 non-null  float64\n",
      " 18  vas_id_6.0       831653 non-null  float64\n",
      " 19  buy_month_11     831653 non-null  float64\n",
      "dtypes: float64(19), int8(1)\n",
      "memory usage: 127.7 MB\n"
     ]
    }
   ],
   "source": [
    "# удаление лишних признаков из тренировочного датасета\n",
    "dtc_sfm = SelectFromModel(estimator=dtc, threshold=threshold).fit(X=X_train, y=y)\n",
    "indices_dtc_sfm = dtc_sfm.get_support(indices=True)\n",
    "X_train_dtc_sfm  = X_train.iloc[:, indices_dtc_sfm]\n",
    "X_train_dtc_sfm.info(memory_usage='deep')"
   ]
  },
  {
   "cell_type": "markdown",
   "id": "d07b92c7",
   "metadata": {},
   "source": [
    "Настройка модели:"
   ]
  },
  {
   "cell_type": "code",
   "execution_count": 139,
   "id": "e0b983da",
   "metadata": {},
   "outputs": [],
   "source": [
    "dtc_gscv = GridSearchCV(\n",
    "    estimator=dtc,\n",
    "    param_grid=dtc_param_grid,\n",
    "    scoring='f1_macro',\n",
    "    n_jobs=-1,\n",
    "    cv=cv_rskf,\n",
    "    verbose=1\n",
    ")"
   ]
  },
  {
   "cell_type": "code",
   "execution_count": 140,
   "id": "3e0337b6",
   "metadata": {},
   "outputs": [
    {
     "name": "stdout",
     "output_type": "stream",
     "text": [
      "Fitting 15 folds for each of 36 candidates, totalling 540 fits\n",
      "CPU times: total: 35.7 s\n",
      "Wall time: 5min 58s\n"
     ]
    },
    {
     "data": {
      "text/html": [
       "<style>#sk-container-id-7 {color: black;background-color: white;}#sk-container-id-7 pre{padding: 0;}#sk-container-id-7 div.sk-toggleable {background-color: white;}#sk-container-id-7 label.sk-toggleable__label {cursor: pointer;display: block;width: 100%;margin-bottom: 0;padding: 0.3em;box-sizing: border-box;text-align: center;}#sk-container-id-7 label.sk-toggleable__label-arrow:before {content: \"▸\";float: left;margin-right: 0.25em;color: #696969;}#sk-container-id-7 label.sk-toggleable__label-arrow:hover:before {color: black;}#sk-container-id-7 div.sk-estimator:hover label.sk-toggleable__label-arrow:before {color: black;}#sk-container-id-7 div.sk-toggleable__content {max-height: 0;max-width: 0;overflow: hidden;text-align: left;background-color: #f0f8ff;}#sk-container-id-7 div.sk-toggleable__content pre {margin: 0.2em;color: black;border-radius: 0.25em;background-color: #f0f8ff;}#sk-container-id-7 input.sk-toggleable__control:checked~div.sk-toggleable__content {max-height: 200px;max-width: 100%;overflow: auto;}#sk-container-id-7 input.sk-toggleable__control:checked~label.sk-toggleable__label-arrow:before {content: \"▾\";}#sk-container-id-7 div.sk-estimator input.sk-toggleable__control:checked~label.sk-toggleable__label {background-color: #d4ebff;}#sk-container-id-7 div.sk-label input.sk-toggleable__control:checked~label.sk-toggleable__label {background-color: #d4ebff;}#sk-container-id-7 input.sk-hidden--visually {border: 0;clip: rect(1px 1px 1px 1px);clip: rect(1px, 1px, 1px, 1px);height: 1px;margin: -1px;overflow: hidden;padding: 0;position: absolute;width: 1px;}#sk-container-id-7 div.sk-estimator {font-family: monospace;background-color: #f0f8ff;border: 1px dotted black;border-radius: 0.25em;box-sizing: border-box;margin-bottom: 0.5em;}#sk-container-id-7 div.sk-estimator:hover {background-color: #d4ebff;}#sk-container-id-7 div.sk-parallel-item::after {content: \"\";width: 100%;border-bottom: 1px solid gray;flex-grow: 1;}#sk-container-id-7 div.sk-label:hover label.sk-toggleable__label {background-color: #d4ebff;}#sk-container-id-7 div.sk-serial::before {content: \"\";position: absolute;border-left: 1px solid gray;box-sizing: border-box;top: 0;bottom: 0;left: 50%;z-index: 0;}#sk-container-id-7 div.sk-serial {display: flex;flex-direction: column;align-items: center;background-color: white;padding-right: 0.2em;padding-left: 0.2em;position: relative;}#sk-container-id-7 div.sk-item {position: relative;z-index: 1;}#sk-container-id-7 div.sk-parallel {display: flex;align-items: stretch;justify-content: center;background-color: white;position: relative;}#sk-container-id-7 div.sk-item::before, #sk-container-id-7 div.sk-parallel-item::before {content: \"\";position: absolute;border-left: 1px solid gray;box-sizing: border-box;top: 0;bottom: 0;left: 50%;z-index: -1;}#sk-container-id-7 div.sk-parallel-item {display: flex;flex-direction: column;z-index: 1;position: relative;background-color: white;}#sk-container-id-7 div.sk-parallel-item:first-child::after {align-self: flex-end;width: 50%;}#sk-container-id-7 div.sk-parallel-item:last-child::after {align-self: flex-start;width: 50%;}#sk-container-id-7 div.sk-parallel-item:only-child::after {width: 0;}#sk-container-id-7 div.sk-dashed-wrapped {border: 1px dashed gray;margin: 0 0.4em 0.5em 0.4em;box-sizing: border-box;padding-bottom: 0.4em;background-color: white;}#sk-container-id-7 div.sk-label label {font-family: monospace;font-weight: bold;display: inline-block;line-height: 1.2em;}#sk-container-id-7 div.sk-label-container {text-align: center;}#sk-container-id-7 div.sk-container {/* jupyter's `normalize.less` sets `[hidden] { display: none; }` but bootstrap.min.css set `[hidden] { display: none !important; }` so we also need the `!important` here to be able to override the default hidden behavior on the sphinx rendered scikit-learn.org. See: https://github.com/scikit-learn/scikit-learn/issues/21755 */display: inline-block !important;position: relative;}#sk-container-id-7 div.sk-text-repr-fallback {display: none;}</style><div id=\"sk-container-id-7\" class=\"sk-top-container\"><div class=\"sk-text-repr-fallback\"><pre>GridSearchCV(cv=RepeatedStratifiedKFold(n_repeats=3, n_splits=5, random_state=13),\n",
       "             estimator=DecisionTreeClassifier(random_state=13), n_jobs=-1,\n",
       "             param_grid={&#x27;criterion&#x27;: [&#x27;gini&#x27;, &#x27;entropy&#x27;],\n",
       "                         &#x27;max_depth&#x27;: [None, 2, 3],\n",
       "                         &#x27;max_features&#x27;: [None, &#x27;sqrt&#x27;, &#x27;log2&#x27;],\n",
       "                         &#x27;random_state&#x27;: [13], &#x27;splitter&#x27;: [&#x27;best&#x27;, &#x27;random&#x27;]},\n",
       "             scoring=&#x27;f1_macro&#x27;, verbose=1)</pre><b>In a Jupyter environment, please rerun this cell to show the HTML representation or trust the notebook. <br />On GitHub, the HTML representation is unable to render, please try loading this page with nbviewer.org.</b></div><div class=\"sk-container\" hidden><div class=\"sk-item sk-dashed-wrapped\"><div class=\"sk-label-container\"><div class=\"sk-label sk-toggleable\"><input class=\"sk-toggleable__control sk-hidden--visually\" id=\"sk-estimator-id-13\" type=\"checkbox\" ><label for=\"sk-estimator-id-13\" class=\"sk-toggleable__label sk-toggleable__label-arrow\">GridSearchCV</label><div class=\"sk-toggleable__content\"><pre>GridSearchCV(cv=RepeatedStratifiedKFold(n_repeats=3, n_splits=5, random_state=13),\n",
       "             estimator=DecisionTreeClassifier(random_state=13), n_jobs=-1,\n",
       "             param_grid={&#x27;criterion&#x27;: [&#x27;gini&#x27;, &#x27;entropy&#x27;],\n",
       "                         &#x27;max_depth&#x27;: [None, 2, 3],\n",
       "                         &#x27;max_features&#x27;: [None, &#x27;sqrt&#x27;, &#x27;log2&#x27;],\n",
       "                         &#x27;random_state&#x27;: [13], &#x27;splitter&#x27;: [&#x27;best&#x27;, &#x27;random&#x27;]},\n",
       "             scoring=&#x27;f1_macro&#x27;, verbose=1)</pre></div></div></div><div class=\"sk-parallel\"><div class=\"sk-parallel-item\"><div class=\"sk-item\"><div class=\"sk-label-container\"><div class=\"sk-label sk-toggleable\"><input class=\"sk-toggleable__control sk-hidden--visually\" id=\"sk-estimator-id-14\" type=\"checkbox\" ><label for=\"sk-estimator-id-14\" class=\"sk-toggleable__label sk-toggleable__label-arrow\">estimator: DecisionTreeClassifier</label><div class=\"sk-toggleable__content\"><pre>DecisionTreeClassifier(random_state=13)</pre></div></div></div><div class=\"sk-serial\"><div class=\"sk-item\"><div class=\"sk-estimator sk-toggleable\"><input class=\"sk-toggleable__control sk-hidden--visually\" id=\"sk-estimator-id-15\" type=\"checkbox\" ><label for=\"sk-estimator-id-15\" class=\"sk-toggleable__label sk-toggleable__label-arrow\">DecisionTreeClassifier</label><div class=\"sk-toggleable__content\"><pre>DecisionTreeClassifier(random_state=13)</pre></div></div></div></div></div></div></div></div></div></div>"
      ],
      "text/plain": [
       "GridSearchCV(cv=RepeatedStratifiedKFold(n_repeats=3, n_splits=5, random_state=13),\n",
       "             estimator=DecisionTreeClassifier(random_state=13), n_jobs=-1,\n",
       "             param_grid={'criterion': ['gini', 'entropy'],\n",
       "                         'max_depth': [None, 2, 3],\n",
       "                         'max_features': [None, 'sqrt', 'log2'],\n",
       "                         'random_state': [13], 'splitter': ['best', 'random']},\n",
       "             scoring='f1_macro', verbose=1)"
      ]
     },
     "execution_count": 140,
     "metadata": {},
     "output_type": "execute_result"
    }
   ],
   "source": [
    "%%time\n",
    "dtc_gscv.fit(X=X_train_dtc_sfm, y=y)"
   ]
  },
  {
   "cell_type": "markdown",
   "id": "fae501b2",
   "metadata": {},
   "source": [
    "Анализ модели:"
   ]
  },
  {
   "cell_type": "code",
   "execution_count": 141,
   "id": "24bd314f",
   "metadata": {},
   "outputs": [
    {
     "data": {
      "text/plain": [
       "0.6743793576487231"
      ]
     },
     "execution_count": 141,
     "metadata": {},
     "output_type": "execute_result"
    }
   ],
   "source": [
    "dtc_gscv.best_score_"
   ]
  },
  {
   "cell_type": "code",
   "execution_count": 142,
   "id": "29e0c822",
   "metadata": {},
   "outputs": [
    {
     "data": {
      "text/plain": [
       "{'criterion': 'entropy',\n",
       " 'max_depth': None,\n",
       " 'max_features': None,\n",
       " 'random_state': 13,\n",
       " 'splitter': 'best'}"
      ]
     },
     "execution_count": 142,
     "metadata": {},
     "output_type": "execute_result"
    }
   ],
   "source": [
    "dtc_gscv.best_params_"
   ]
  },
  {
   "cell_type": "code",
   "execution_count": 143,
   "id": "5a3ed3f1",
   "metadata": {},
   "outputs": [],
   "source": [
    "dtc_tuned = dtc_gscv.best_estimator_"
   ]
  },
  {
   "cell_type": "code",
   "execution_count": 144,
   "id": "f6a218df",
   "metadata": {},
   "outputs": [],
   "source": [
    "dtc_tuned.fit(X=X_train_dtc_sfm, y=y)\n",
    "y_dtc_tuned = dtc_tuned.predict(X=X_train_dtc_sfm)\n",
    "y_dtc_tuned_proba = dtc_tuned.predict_proba(X=X_train_dtc_sfm)[:, 1]"
   ]
  },
  {
   "cell_type": "code",
   "execution_count": 145,
   "id": "9bd8e1ca",
   "metadata": {},
   "outputs": [
    {
     "data": {
      "image/png": "[encoded data removed]",
      "text/plain": [
       "<Figure size 640x480 with 2 Axes>"
      ]
     },
     "metadata": {},
     "output_type": "display_data"
    }
   ],
   "source": [
    "disp = ConfusionMatrixDisplay(confusion_matrix(y_true=y, y_pred=y_dtc_tuned))\n",
    "disp.plot();"
   ]
  },
  {
   "cell_type": "code",
   "execution_count": 146,
   "id": "40ec471f",
   "metadata": {},
   "outputs": [
    {
     "name": "stdout",
     "output_type": "stream",
     "text": [
      "              precision    recall  f1-score   support\n",
      "\n",
      "           0       1.00      1.00      1.00    771467\n",
      "           1       1.00      1.00      1.00     60186\n",
      "\n",
      "    accuracy                           1.00    831653\n",
      "   macro avg       1.00      1.00      1.00    831653\n",
      "weighted avg       1.00      1.00      1.00    831653\n",
      "\n"
     ]
    }
   ],
   "source": [
    "print(classification_report(y_true=y, y_pred=y_dtc_tuned))"
   ]
  },
  {
   "cell_type": "code",
   "execution_count": 147,
   "id": "8071c2ca",
   "metadata": {},
   "outputs": [
    {
     "data": {
      "image/png": "[encoded data removed]",
      "text/plain": [
       "<Figure size 640x480 with 1 Axes>"
      ]
     },
     "metadata": {},
     "output_type": "display_data"
    }
   ],
   "source": [
    "roc_auc_plot(y=y, y_proba=y_dtc_tuned_proba)"
   ]
  },
  {
   "cell_type": "code",
   "execution_count": 148,
   "id": "42acd87d",
   "metadata": {},
   "outputs": [
    {
     "data": {
      "image/png": "[encoded data removed]",
      "text/plain": [
       "<Figure size 640x480 with 1 Axes>"
      ]
     },
     "metadata": {},
     "output_type": "display_data"
    }
   ],
   "source": [
    "pr_auc_plot(y=y, y_proba=y_dtc_tuned_proba)"
   ]
  },
  {
   "cell_type": "markdown",
   "id": "d6a67693",
   "metadata": {},
   "source": [
    "### XGBoost Classifier"
   ]
  },
  {
   "cell_type": "markdown",
   "id": "b14af2ae",
   "metadata": {},
   "source": [
    "Инициализация модели:"
   ]
  },
  {
   "cell_type": "code",
   "execution_count": 119,
   "id": "ccba63bf",
   "metadata": {},
   "outputs": [],
   "source": [
    "xgbc = XGBClassifier(random_state=13, n_jobs=-1)"
   ]
  },
  {
   "cell_type": "markdown",
   "id": "1047927a",
   "metadata": {},
   "source": [
    "< Примечание > Эффективность данной модели существенно не снижается, если признаки тренировочного датасета имеют существенные различия в диапазонах значений, поэтому для её обучения будет использоваться ненормализованный датасет."
   ]
  },
  {
   "cell_type": "markdown",
   "id": "6f8247bc",
   "metadata": {},
   "source": [
    "Установка грид-параметров модели:"
   ]
  },
  {
   "cell_type": "code",
   "execution_count": 120,
   "id": "3b8fa65d",
   "metadata": {},
   "outputs": [],
   "source": [
    "xgbc_param_grid = {\n",
    "    'colsample_bytree': [\n",
    "        0.5,\n",
    "        1  # default\n",
    "    ],    \n",
    "    'learning_rate': [\n",
    "#         0.1,\n",
    "        0.3,  # default\n",
    "#         0.6,\n",
    "    ],   \n",
    "    'max_depth': [\n",
    "        3,\n",
    "        6,  # default\n",
    "#         9,\n",
    "#         12,\n",
    "#         15,\n",
    "#         18,\n",
    "#         21,\n",
    "#         24,\n",
    "#         27,\n",
    "#         30,\n",
    "#         33,\n",
    "#         None\n",
    "    ],\n",
    "    'n_estimators': [\n",
    "        50,\n",
    "        100,  # default\n",
    "#         200\n",
    "    ],\n",
    "    'n_jobs': [\n",
    "        -1\n",
    "    ],\n",
    "    'random_state': [\n",
    "        13\n",
    "    ],\n",
    "    'reg_alpha': [\n",
    "        0,  # default\n",
    "        0.5,\n",
    "#         1,\n",
    "    ],\n",
    "    'reg_lambda': [\n",
    "#         0,\n",
    "        0.5,\n",
    "        1 # default\n",
    "    ],\n",
    "    'subsample': [\n",
    "#         0.5,\n",
    "        1  # default\n",
    "    ],\n",
    "}"
   ]
  },
  {
   "cell_type": "markdown",
   "id": "570c4427",
   "metadata": {},
   "source": [
    "Предварительный отбор признаков:"
   ]
  },
  {
   "cell_type": "code",
   "execution_count": 121,
   "id": "46801df2",
   "metadata": {},
   "outputs": [
    {
     "data": {
      "text/html": [
       "<style>#sk-container-id-5 {color: black;background-color: white;}#sk-container-id-5 pre{padding: 0;}#sk-container-id-5 div.sk-toggleable {background-color: white;}#sk-container-id-5 label.sk-toggleable__label {cursor: pointer;display: block;width: 100%;margin-bottom: 0;padding: 0.3em;box-sizing: border-box;text-align: center;}#sk-container-id-5 label.sk-toggleable__label-arrow:before {content: \"▸\";float: left;margin-right: 0.25em;color: #696969;}#sk-container-id-5 label.sk-toggleable__label-arrow:hover:before {color: black;}#sk-container-id-5 div.sk-estimator:hover label.sk-toggleable__label-arrow:before {color: black;}#sk-container-id-5 div.sk-toggleable__content {max-height: 0;max-width: 0;overflow: hidden;text-align: left;background-color: #f0f8ff;}#sk-container-id-5 div.sk-toggleable__content pre {margin: 0.2em;color: black;border-radius: 0.25em;background-color: #f0f8ff;}#sk-container-id-5 input.sk-toggleable__control:checked~div.sk-toggleable__content {max-height: 200px;max-width: 100%;overflow: auto;}#sk-container-id-5 input.sk-toggleable__control:checked~label.sk-toggleable__label-arrow:before {content: \"▾\";}#sk-container-id-5 div.sk-estimator input.sk-toggleable__control:checked~label.sk-toggleable__label {background-color: #d4ebff;}#sk-container-id-5 div.sk-label input.sk-toggleable__control:checked~label.sk-toggleable__label {background-color: #d4ebff;}#sk-container-id-5 input.sk-hidden--visually {border: 0;clip: rect(1px 1px 1px 1px);clip: rect(1px, 1px, 1px, 1px);height: 1px;margin: -1px;overflow: hidden;padding: 0;position: absolute;width: 1px;}#sk-container-id-5 div.sk-estimator {font-family: monospace;background-color: #f0f8ff;border: 1px dotted black;border-radius: 0.25em;box-sizing: border-box;margin-bottom: 0.5em;}#sk-container-id-5 div.sk-estimator:hover {background-color: #d4ebff;}#sk-container-id-5 div.sk-parallel-item::after {content: \"\";width: 100%;border-bottom: 1px solid gray;flex-grow: 1;}#sk-container-id-5 div.sk-label:hover label.sk-toggleable__label {background-color: #d4ebff;}#sk-container-id-5 div.sk-serial::before {content: \"\";position: absolute;border-left: 1px solid gray;box-sizing: border-box;top: 0;bottom: 0;left: 50%;z-index: 0;}#sk-container-id-5 div.sk-serial {display: flex;flex-direction: column;align-items: center;background-color: white;padding-right: 0.2em;padding-left: 0.2em;position: relative;}#sk-container-id-5 div.sk-item {position: relative;z-index: 1;}#sk-container-id-5 div.sk-parallel {display: flex;align-items: stretch;justify-content: center;background-color: white;position: relative;}#sk-container-id-5 div.sk-item::before, #sk-container-id-5 div.sk-parallel-item::before {content: \"\";position: absolute;border-left: 1px solid gray;box-sizing: border-box;top: 0;bottom: 0;left: 50%;z-index: -1;}#sk-container-id-5 div.sk-parallel-item {display: flex;flex-direction: column;z-index: 1;position: relative;background-color: white;}#sk-container-id-5 div.sk-parallel-item:first-child::after {align-self: flex-end;width: 50%;}#sk-container-id-5 div.sk-parallel-item:last-child::after {align-self: flex-start;width: 50%;}#sk-container-id-5 div.sk-parallel-item:only-child::after {width: 0;}#sk-container-id-5 div.sk-dashed-wrapped {border: 1px dashed gray;margin: 0 0.4em 0.5em 0.4em;box-sizing: border-box;padding-bottom: 0.4em;background-color: white;}#sk-container-id-5 div.sk-label label {font-family: monospace;font-weight: bold;display: inline-block;line-height: 1.2em;}#sk-container-id-5 div.sk-label-container {text-align: center;}#sk-container-id-5 div.sk-container {/* jupyter's `normalize.less` sets `[hidden] { display: none; }` but bootstrap.min.css set `[hidden] { display: none !important; }` so we also need the `!important` here to be able to override the default hidden behavior on the sphinx rendered scikit-learn.org. See: https://github.com/scikit-learn/scikit-learn/issues/21755 */display: inline-block !important;position: relative;}#sk-container-id-5 div.sk-text-repr-fallback {display: none;}</style><div id=\"sk-container-id-5\" class=\"sk-top-container\"><div class=\"sk-text-repr-fallback\"><pre>XGBClassifier(base_score=0.5, booster=&#x27;gbtree&#x27;, callbacks=None,\n",
       "              colsample_bylevel=1, colsample_bynode=1, colsample_bytree=1,\n",
       "              early_stopping_rounds=None, enable_categorical=False,\n",
       "              eval_metric=None, feature_types=None, gamma=0, gpu_id=-1,\n",
       "              grow_policy=&#x27;depthwise&#x27;, importance_type=None,\n",
       "              interaction_constraints=&#x27;&#x27;, learning_rate=0.300000012,\n",
       "              max_bin=256, max_cat_threshold=64, max_cat_to_onehot=4,\n",
       "              max_delta_step=0, max_depth=6, max_leaves=0, min_child_weight=1,\n",
       "              missing=nan, monotone_constraints=&#x27;()&#x27;, n_estimators=100,\n",
       "              n_jobs=-1, num_parallel_tree=1, predictor=&#x27;auto&#x27;, random_state=13, ...)</pre><b>In a Jupyter environment, please rerun this cell to show the HTML representation or trust the notebook. <br />On GitHub, the HTML representation is unable to render, please try loading this page with nbviewer.org.</b></div><div class=\"sk-container\" hidden><div class=\"sk-item\"><div class=\"sk-estimator sk-toggleable\"><input class=\"sk-toggleable__control sk-hidden--visually\" id=\"sk-estimator-id-9\" type=\"checkbox\" checked><label for=\"sk-estimator-id-9\" class=\"sk-toggleable__label sk-toggleable__label-arrow\">XGBClassifier</label><div class=\"sk-toggleable__content\"><pre>XGBClassifier(base_score=0.5, booster=&#x27;gbtree&#x27;, callbacks=None,\n",
       "              colsample_bylevel=1, colsample_bynode=1, colsample_bytree=1,\n",
       "              early_stopping_rounds=None, enable_categorical=False,\n",
       "              eval_metric=None, feature_types=None, gamma=0, gpu_id=-1,\n",
       "              grow_policy=&#x27;depthwise&#x27;, importance_type=None,\n",
       "              interaction_constraints=&#x27;&#x27;, learning_rate=0.300000012,\n",
       "              max_bin=256, max_cat_threshold=64, max_cat_to_onehot=4,\n",
       "              max_delta_step=0, max_depth=6, max_leaves=0, min_child_weight=1,\n",
       "              missing=nan, monotone_constraints=&#x27;()&#x27;, n_estimators=100,\n",
       "              n_jobs=-1, num_parallel_tree=1, predictor=&#x27;auto&#x27;, random_state=13, ...)</pre></div></div></div></div></div>"
      ],
      "text/plain": [
       "XGBClassifier(base_score=0.5, booster='gbtree', callbacks=None,\n",
       "              colsample_bylevel=1, colsample_bynode=1, colsample_bytree=1,\n",
       "              early_stopping_rounds=None, enable_categorical=False,\n",
       "              eval_metric=None, feature_types=None, gamma=0, gpu_id=-1,\n",
       "              grow_policy='depthwise', importance_type=None,\n",
       "              interaction_constraints='', learning_rate=0.300000012,\n",
       "              max_bin=256, max_cat_threshold=64, max_cat_to_onehot=4,\n",
       "              max_delta_step=0, max_depth=6, max_leaves=0, min_child_weight=1,\n",
       "              missing=nan, monotone_constraints='()', n_estimators=100,\n",
       "              n_jobs=-1, num_parallel_tree=1, predictor='auto', random_state=13, ...)"
      ]
     },
     "execution_count": 121,
     "metadata": {},
     "output_type": "execute_result"
    }
   ],
   "source": [
    "# обучение модели\n",
    "xgbc.fit(X=X_train, y=y)"
   ]
  },
  {
   "cell_type": "code",
   "execution_count": 122,
   "id": "16bd59df",
   "metadata": {},
   "outputs": [
    {
     "data": {
      "text/html": [
       "<div>\n",
       "<style scoped>\n",
       "    .dataframe tbody tr th:only-of-type {\n",
       "        vertical-align: middle;\n",
       "    }\n",
       "\n",
       "    .dataframe tbody tr th {\n",
       "        vertical-align: top;\n",
       "    }\n",
       "\n",
       "    .dataframe thead th {\n",
       "        text-align: right;\n",
       "    }\n",
       "</style>\n",
       "<table border=\"1\" class=\"dataframe\">\n",
       "  <thead>\n",
       "    <tr style=\"text-align: right;\">\n",
       "      <th></th>\n",
       "      <th>feature</th>\n",
       "      <th>importance</th>\n",
       "    </tr>\n",
       "  </thead>\n",
       "  <tbody>\n",
       "    <tr>\n",
       "      <th>0</th>\n",
       "      <td>vas_id_6.0</td>\n",
       "      <td>0.361678</td>\n",
       "    </tr>\n",
       "    <tr>\n",
       "      <th>1</th>\n",
       "      <td>vas_id_4.0</td>\n",
       "      <td>0.304153</td>\n",
       "    </tr>\n",
       "    <tr>\n",
       "      <th>2</th>\n",
       "      <td>not_first_offer</td>\n",
       "      <td>0.057511</td>\n",
       "    </tr>\n",
       "    <tr>\n",
       "      <th>3</th>\n",
       "      <td>buy_month_11</td>\n",
       "      <td>0.050183</td>\n",
       "    </tr>\n",
       "    <tr>\n",
       "      <th>4</th>\n",
       "      <td>vas_id_2.0</td>\n",
       "      <td>0.023589</td>\n",
       "    </tr>\n",
       "    <tr>\n",
       "      <th>5</th>\n",
       "      <td>vas_id_5.0</td>\n",
       "      <td>0.019834</td>\n",
       "    </tr>\n",
       "    <tr>\n",
       "      <th>6</th>\n",
       "      <td>vas_id_1.0</td>\n",
       "      <td>0.011562</td>\n",
       "    </tr>\n",
       "    <tr>\n",
       "      <th>7</th>\n",
       "      <td>vas_id_7.0</td>\n",
       "      <td>0.006425</td>\n",
       "    </tr>\n",
       "    <tr>\n",
       "      <th>8</th>\n",
       "      <td>buy_month_12</td>\n",
       "      <td>0.005869</td>\n",
       "    </tr>\n",
       "    <tr>\n",
       "      <th>9</th>\n",
       "      <td>buy_month_10</td>\n",
       "      <td>0.004008</td>\n",
       "    </tr>\n",
       "    <tr>\n",
       "      <th>10</th>\n",
       "      <td>buy_month_7</td>\n",
       "      <td>0.003228</td>\n",
       "    </tr>\n",
       "    <tr>\n",
       "      <th>11</th>\n",
       "      <td>vas_id_8.0</td>\n",
       "      <td>0.003225</td>\n",
       "    </tr>\n",
       "    <tr>\n",
       "      <th>12</th>\n",
       "      <td>vas_id_9.0</td>\n",
       "      <td>0.002763</td>\n",
       "    </tr>\n",
       "    <tr>\n",
       "      <th>13</th>\n",
       "      <td>buy_month_9</td>\n",
       "      <td>0.001212</td>\n",
       "    </tr>\n",
       "    <tr>\n",
       "      <th>14</th>\n",
       "      <td>152</td>\n",
       "      <td>0.001196</td>\n",
       "    </tr>\n",
       "    <tr>\n",
       "      <th>15</th>\n",
       "      <td>buy_month_8</td>\n",
       "      <td>0.001146</td>\n",
       "    </tr>\n",
       "    <tr>\n",
       "      <th>16</th>\n",
       "      <td>93</td>\n",
       "      <td>0.001026</td>\n",
       "    </tr>\n",
       "    <tr>\n",
       "      <th>17</th>\n",
       "      <td>72</td>\n",
       "      <td>0.001017</td>\n",
       "    </tr>\n",
       "    <tr>\n",
       "      <th>18</th>\n",
       "      <td>150</td>\n",
       "      <td>0.001011</td>\n",
       "    </tr>\n",
       "    <tr>\n",
       "      <th>19</th>\n",
       "      <td>196</td>\n",
       "      <td>0.000950</td>\n",
       "    </tr>\n",
       "    <tr>\n",
       "      <th>20</th>\n",
       "      <td>206</td>\n",
       "      <td>0.000947</td>\n",
       "    </tr>\n",
       "    <tr>\n",
       "      <th>21</th>\n",
       "      <td>170</td>\n",
       "      <td>0.000919</td>\n",
       "    </tr>\n",
       "    <tr>\n",
       "      <th>22</th>\n",
       "      <td>116</td>\n",
       "      <td>0.000913</td>\n",
       "    </tr>\n",
       "    <tr>\n",
       "      <th>23</th>\n",
       "      <td>30</td>\n",
       "      <td>0.000901</td>\n",
       "    </tr>\n",
       "    <tr>\n",
       "      <th>24</th>\n",
       "      <td>232</td>\n",
       "      <td>0.000894</td>\n",
       "    </tr>\n",
       "    <tr>\n",
       "      <th>25</th>\n",
       "      <td>159</td>\n",
       "      <td>0.000887</td>\n",
       "    </tr>\n",
       "    <tr>\n",
       "      <th>26</th>\n",
       "      <td>107</td>\n",
       "      <td>0.000882</td>\n",
       "    </tr>\n",
       "    <tr>\n",
       "      <th>27</th>\n",
       "      <td>96</td>\n",
       "      <td>0.000874</td>\n",
       "    </tr>\n",
       "    <tr>\n",
       "      <th>28</th>\n",
       "      <td>138</td>\n",
       "      <td>0.000874</td>\n",
       "    </tr>\n",
       "    <tr>\n",
       "      <th>29</th>\n",
       "      <td>249</td>\n",
       "      <td>0.000869</td>\n",
       "    </tr>\n",
       "  </tbody>\n",
       "</table>\n",
       "</div>"
      ],
      "text/plain": [
       "            feature  importance\n",
       "0        vas_id_6.0    0.361678\n",
       "1        vas_id_4.0    0.304153\n",
       "2   not_first_offer    0.057511\n",
       "3      buy_month_11    0.050183\n",
       "4        vas_id_2.0    0.023589\n",
       "5        vas_id_5.0    0.019834\n",
       "6        vas_id_1.0    0.011562\n",
       "7        vas_id_7.0    0.006425\n",
       "8      buy_month_12    0.005869\n",
       "9      buy_month_10    0.004008\n",
       "10      buy_month_7    0.003228\n",
       "11       vas_id_8.0    0.003225\n",
       "12       vas_id_9.0    0.002763\n",
       "13      buy_month_9    0.001212\n",
       "14              152    0.001196\n",
       "15      buy_month_8    0.001146\n",
       "16               93    0.001026\n",
       "17               72    0.001017\n",
       "18              150    0.001011\n",
       "19              196    0.000950\n",
       "20              206    0.000947\n",
       "21              170    0.000919\n",
       "22              116    0.000913\n",
       "23               30    0.000901\n",
       "24              232    0.000894\n",
       "25              159    0.000887\n",
       "26              107    0.000882\n",
       "27               96    0.000874\n",
       "28              138    0.000874\n",
       "29              249    0.000869"
      ]
     },
     "execution_count": 122,
     "metadata": {},
     "output_type": "execute_result"
    }
   ],
   "source": [
    "# выборка 30 наиболее значимых признаков\n",
    "importance = abs(xgbc.feature_importances_)\n",
    "feature_names = X_train.columns\n",
    "pd.DataFrame(\n",
    "    data={\n",
    "        'feature': feature_names,\n",
    "        'importance': importance\n",
    "    }\n",
    ").sort_values(\n",
    "    by='importance',\n",
    "    ascending=False\n",
    ").reset_index(\n",
    "    drop=True\n",
    ").head(\n",
    "    n=30\n",
    ")"
   ]
  },
  {
   "cell_type": "code",
   "execution_count": 123,
   "id": "3d9ec26b",
   "metadata": {},
   "outputs": [],
   "source": [
    "# экспертная оценка уровня значимости\n",
    "threshold = 0.000949"
   ]
  },
  {
   "cell_type": "code",
   "execution_count": 124,
   "id": "01958420",
   "metadata": {},
   "outputs": [
    {
     "name": "stdout",
     "output_type": "stream",
     "text": [
      "<class 'pandas.core.frame.DataFrame'>\n",
      "Int64Index: 831653 entries, 0 to 831652\n",
      "Data columns (total 20 columns):\n",
      " #   Column           Non-Null Count   Dtype  \n",
      "---  ------           --------------   -----  \n",
      " 0   not_first_offer  831653 non-null  int8   \n",
      " 1   72               831653 non-null  float64\n",
      " 2   93               831653 non-null  float64\n",
      " 3   150              831653 non-null  float64\n",
      " 4   152              831653 non-null  float64\n",
      " 5   196              831653 non-null  int8   \n",
      " 6   vas_id_1.0       831653 non-null  float64\n",
      " 7   vas_id_2.0       831653 non-null  float64\n",
      " 8   vas_id_4.0       831653 non-null  float64\n",
      " 9   vas_id_5.0       831653 non-null  float64\n",
      " 10  vas_id_6.0       831653 non-null  float64\n",
      " 11  vas_id_7.0       831653 non-null  float64\n",
      " 12  vas_id_8.0       831653 non-null  float64\n",
      " 13  vas_id_9.0       831653 non-null  float64\n",
      " 14  buy_month_7      831653 non-null  float64\n",
      " 15  buy_month_8      831653 non-null  float64\n",
      " 16  buy_month_9      831653 non-null  float64\n",
      " 17  buy_month_10     831653 non-null  float64\n",
      " 18  buy_month_11     831653 non-null  float64\n",
      " 19  buy_month_12     831653 non-null  float64\n",
      "dtypes: float64(18), int8(2)\n",
      "memory usage: 122.1 MB\n"
     ]
    }
   ],
   "source": [
    "# удаление лишних признаков из тренировочного датасета\n",
    "xgbc_sfm = SelectFromModel(estimator=xgbc, threshold=threshold).fit(X=X_train, y=y)\n",
    "indices_xgbc_sfm = xgbc_sfm.get_support(indices=True)\n",
    "X_train_xgbc_sfm  = X_train.iloc[:, indices_xgbc_sfm]\n",
    "X_train_xgbc_sfm.info(memory_usage='deep')"
   ]
  },
  {
   "cell_type": "markdown",
   "id": "b7aa411d",
   "metadata": {},
   "source": [
    "Настройка модели:"
   ]
  },
  {
   "cell_type": "code",
   "execution_count": 125,
   "id": "76881091",
   "metadata": {},
   "outputs": [],
   "source": [
    "xgbc_gscv = GridSearchCV(\n",
    "    estimator=xgbc,\n",
    "    param_grid=xgbc_param_grid,\n",
    "    scoring='f1_macro',\n",
    "    n_jobs=-1,\n",
    "    cv=cv_rskf,\n",
    "    verbose=1\n",
    ")"
   ]
  },
  {
   "cell_type": "code",
   "execution_count": 126,
   "id": "81dc16fd",
   "metadata": {},
   "outputs": [
    {
     "name": "stdout",
     "output_type": "stream",
     "text": [
      "Fitting 15 folds for each of 32 candidates, totalling 480 fits\n",
      "CPU times: total: 2min 5s\n",
      "Wall time: 40min 11s\n"
     ]
    },
    {
     "data": {
      "text/html": [
       "<style>#sk-container-id-6 {color: black;background-color: white;}#sk-container-id-6 pre{padding: 0;}#sk-container-id-6 div.sk-toggleable {background-color: white;}#sk-container-id-6 label.sk-toggleable__label {cursor: pointer;display: block;width: 100%;margin-bottom: 0;padding: 0.3em;box-sizing: border-box;text-align: center;}#sk-container-id-6 label.sk-toggleable__label-arrow:before {content: \"▸\";float: left;margin-right: 0.25em;color: #696969;}#sk-container-id-6 label.sk-toggleable__label-arrow:hover:before {color: black;}#sk-container-id-6 div.sk-estimator:hover label.sk-toggleable__label-arrow:before {color: black;}#sk-container-id-6 div.sk-toggleable__content {max-height: 0;max-width: 0;overflow: hidden;text-align: left;background-color: #f0f8ff;}#sk-container-id-6 div.sk-toggleable__content pre {margin: 0.2em;color: black;border-radius: 0.25em;background-color: #f0f8ff;}#sk-container-id-6 input.sk-toggleable__control:checked~div.sk-toggleable__content {max-height: 200px;max-width: 100%;overflow: auto;}#sk-container-id-6 input.sk-toggleable__control:checked~label.sk-toggleable__label-arrow:before {content: \"▾\";}#sk-container-id-6 div.sk-estimator input.sk-toggleable__control:checked~label.sk-toggleable__label {background-color: #d4ebff;}#sk-container-id-6 div.sk-label input.sk-toggleable__control:checked~label.sk-toggleable__label {background-color: #d4ebff;}#sk-container-id-6 input.sk-hidden--visually {border: 0;clip: rect(1px 1px 1px 1px);clip: rect(1px, 1px, 1px, 1px);height: 1px;margin: -1px;overflow: hidden;padding: 0;position: absolute;width: 1px;}#sk-container-id-6 div.sk-estimator {font-family: monospace;background-color: #f0f8ff;border: 1px dotted black;border-radius: 0.25em;box-sizing: border-box;margin-bottom: 0.5em;}#sk-container-id-6 div.sk-estimator:hover {background-color: #d4ebff;}#sk-container-id-6 div.sk-parallel-item::after {content: \"\";width: 100%;border-bottom: 1px solid gray;flex-grow: 1;}#sk-container-id-6 div.sk-label:hover label.sk-toggleable__label {background-color: #d4ebff;}#sk-container-id-6 div.sk-serial::before {content: \"\";position: absolute;border-left: 1px solid gray;box-sizing: border-box;top: 0;bottom: 0;left: 50%;z-index: 0;}#sk-container-id-6 div.sk-serial {display: flex;flex-direction: column;align-items: center;background-color: white;padding-right: 0.2em;padding-left: 0.2em;position: relative;}#sk-container-id-6 div.sk-item {position: relative;z-index: 1;}#sk-container-id-6 div.sk-parallel {display: flex;align-items: stretch;justify-content: center;background-color: white;position: relative;}#sk-container-id-6 div.sk-item::before, #sk-container-id-6 div.sk-parallel-item::before {content: \"\";position: absolute;border-left: 1px solid gray;box-sizing: border-box;top: 0;bottom: 0;left: 50%;z-index: -1;}#sk-container-id-6 div.sk-parallel-item {display: flex;flex-direction: column;z-index: 1;position: relative;background-color: white;}#sk-container-id-6 div.sk-parallel-item:first-child::after {align-self: flex-end;width: 50%;}#sk-container-id-6 div.sk-parallel-item:last-child::after {align-self: flex-start;width: 50%;}#sk-container-id-6 div.sk-parallel-item:only-child::after {width: 0;}#sk-container-id-6 div.sk-dashed-wrapped {border: 1px dashed gray;margin: 0 0.4em 0.5em 0.4em;box-sizing: border-box;padding-bottom: 0.4em;background-color: white;}#sk-container-id-6 div.sk-label label {font-family: monospace;font-weight: bold;display: inline-block;line-height: 1.2em;}#sk-container-id-6 div.sk-label-container {text-align: center;}#sk-container-id-6 div.sk-container {/* jupyter's `normalize.less` sets `[hidden] { display: none; }` but bootstrap.min.css set `[hidden] { display: none !important; }` so we also need the `!important` here to be able to override the default hidden behavior on the sphinx rendered scikit-learn.org. See: https://github.com/scikit-learn/scikit-learn/issues/21755 */display: inline-block !important;position: relative;}#sk-container-id-6 div.sk-text-repr-fallback {display: none;}</style><div id=\"sk-container-id-6\" class=\"sk-top-container\"><div class=\"sk-text-repr-fallback\"><pre>GridSearchCV(cv=RepeatedStratifiedKFold(n_repeats=3, n_splits=5, random_state=13),\n",
       "             estimator=XGBClassifier(base_score=0.5, booster=&#x27;gbtree&#x27;,\n",
       "                                     callbacks=None, colsample_bylevel=1,\n",
       "                                     colsample_bynode=1, colsample_bytree=1,\n",
       "                                     early_stopping_rounds=None,\n",
       "                                     enable_categorical=False, eval_metric=None,\n",
       "                                     feature_types=None, gamma=0, gpu_id=-1,\n",
       "                                     grow_policy=&#x27;depthwise&#x27;,\n",
       "                                     importance_...\n",
       "                                     missing=nan, monotone_constraints=&#x27;()&#x27;,\n",
       "                                     n_estimators=100, n_jobs=-1,\n",
       "                                     num_parallel_tree=1, predictor=&#x27;auto&#x27;,\n",
       "                                     random_state=13, ...),\n",
       "             n_jobs=-1,\n",
       "             param_grid={&#x27;colsample_bytree&#x27;: [0.5, 1], &#x27;learning_rate&#x27;: [0.3],\n",
       "                         &#x27;max_depth&#x27;: [3, 6], &#x27;n_estimators&#x27;: [50, 100],\n",
       "                         &#x27;n_jobs&#x27;: [-1], &#x27;random_state&#x27;: [13],\n",
       "                         &#x27;reg_alpha&#x27;: [0, 0.5], &#x27;reg_lambda&#x27;: [0.5, 1],\n",
       "                         &#x27;subsample&#x27;: [1]},\n",
       "             scoring=&#x27;f1_macro&#x27;, verbose=1)</pre><b>In a Jupyter environment, please rerun this cell to show the HTML representation or trust the notebook. <br />On GitHub, the HTML representation is unable to render, please try loading this page with nbviewer.org.</b></div><div class=\"sk-container\" hidden><div class=\"sk-item sk-dashed-wrapped\"><div class=\"sk-label-container\"><div class=\"sk-label sk-toggleable\"><input class=\"sk-toggleable__control sk-hidden--visually\" id=\"sk-estimator-id-10\" type=\"checkbox\" ><label for=\"sk-estimator-id-10\" class=\"sk-toggleable__label sk-toggleable__label-arrow\">GridSearchCV</label><div class=\"sk-toggleable__content\"><pre>GridSearchCV(cv=RepeatedStratifiedKFold(n_repeats=3, n_splits=5, random_state=13),\n",
       "             estimator=XGBClassifier(base_score=0.5, booster=&#x27;gbtree&#x27;,\n",
       "                                     callbacks=None, colsample_bylevel=1,\n",
       "                                     colsample_bynode=1, colsample_bytree=1,\n",
       "                                     early_stopping_rounds=None,\n",
       "                                     enable_categorical=False, eval_metric=None,\n",
       "                                     feature_types=None, gamma=0, gpu_id=-1,\n",
       "                                     grow_policy=&#x27;depthwise&#x27;,\n",
       "                                     importance_...\n",
       "                                     missing=nan, monotone_constraints=&#x27;()&#x27;,\n",
       "                                     n_estimators=100, n_jobs=-1,\n",
       "                                     num_parallel_tree=1, predictor=&#x27;auto&#x27;,\n",
       "                                     random_state=13, ...),\n",
       "             n_jobs=-1,\n",
       "             param_grid={&#x27;colsample_bytree&#x27;: [0.5, 1], &#x27;learning_rate&#x27;: [0.3],\n",
       "                         &#x27;max_depth&#x27;: [3, 6], &#x27;n_estimators&#x27;: [50, 100],\n",
       "                         &#x27;n_jobs&#x27;: [-1], &#x27;random_state&#x27;: [13],\n",
       "                         &#x27;reg_alpha&#x27;: [0, 0.5], &#x27;reg_lambda&#x27;: [0.5, 1],\n",
       "                         &#x27;subsample&#x27;: [1]},\n",
       "             scoring=&#x27;f1_macro&#x27;, verbose=1)</pre></div></div></div><div class=\"sk-parallel\"><div class=\"sk-parallel-item\"><div class=\"sk-item\"><div class=\"sk-label-container\"><div class=\"sk-label sk-toggleable\"><input class=\"sk-toggleable__control sk-hidden--visually\" id=\"sk-estimator-id-11\" type=\"checkbox\" ><label for=\"sk-estimator-id-11\" class=\"sk-toggleable__label sk-toggleable__label-arrow\">estimator: XGBClassifier</label><div class=\"sk-toggleable__content\"><pre>XGBClassifier(base_score=0.5, booster=&#x27;gbtree&#x27;, callbacks=None,\n",
       "              colsample_bylevel=1, colsample_bynode=1, colsample_bytree=1,\n",
       "              early_stopping_rounds=None, enable_categorical=False,\n",
       "              eval_metric=None, feature_types=None, gamma=0, gpu_id=-1,\n",
       "              grow_policy=&#x27;depthwise&#x27;, importance_type=None,\n",
       "              interaction_constraints=&#x27;&#x27;, learning_rate=0.300000012,\n",
       "              max_bin=256, max_cat_threshold=64, max_cat_to_onehot=4,\n",
       "              max_delta_step=0, max_depth=6, max_leaves=0, min_child_weight=1,\n",
       "              missing=nan, monotone_constraints=&#x27;()&#x27;, n_estimators=100,\n",
       "              n_jobs=-1, num_parallel_tree=1, predictor=&#x27;auto&#x27;, random_state=13, ...)</pre></div></div></div><div class=\"sk-serial\"><div class=\"sk-item\"><div class=\"sk-estimator sk-toggleable\"><input class=\"sk-toggleable__control sk-hidden--visually\" id=\"sk-estimator-id-12\" type=\"checkbox\" ><label for=\"sk-estimator-id-12\" class=\"sk-toggleable__label sk-toggleable__label-arrow\">XGBClassifier</label><div class=\"sk-toggleable__content\"><pre>XGBClassifier(base_score=0.5, booster=&#x27;gbtree&#x27;, callbacks=None,\n",
       "              colsample_bylevel=1, colsample_bynode=1, colsample_bytree=1,\n",
       "              early_stopping_rounds=None, enable_categorical=False,\n",
       "              eval_metric=None, feature_types=None, gamma=0, gpu_id=-1,\n",
       "              grow_policy=&#x27;depthwise&#x27;, importance_type=None,\n",
       "              interaction_constraints=&#x27;&#x27;, learning_rate=0.300000012,\n",
       "              max_bin=256, max_cat_threshold=64, max_cat_to_onehot=4,\n",
       "              max_delta_step=0, max_depth=6, max_leaves=0, min_child_weight=1,\n",
       "              missing=nan, monotone_constraints=&#x27;()&#x27;, n_estimators=100,\n",
       "              n_jobs=-1, num_parallel_tree=1, predictor=&#x27;auto&#x27;, random_state=13, ...)</pre></div></div></div></div></div></div></div></div></div></div>"
      ],
      "text/plain": [
       "GridSearchCV(cv=RepeatedStratifiedKFold(n_repeats=3, n_splits=5, random_state=13),\n",
       "             estimator=XGBClassifier(base_score=0.5, booster='gbtree',\n",
       "                                     callbacks=None, colsample_bylevel=1,\n",
       "                                     colsample_bynode=1, colsample_bytree=1,\n",
       "                                     early_stopping_rounds=None,\n",
       "                                     enable_categorical=False, eval_metric=None,\n",
       "                                     feature_types=None, gamma=0, gpu_id=-1,\n",
       "                                     grow_policy='depthwise',\n",
       "                                     importance_...\n",
       "                                     missing=nan, monotone_constraints='()',\n",
       "                                     n_estimators=100, n_jobs=-1,\n",
       "                                     num_parallel_tree=1, predictor='auto',\n",
       "                                     random_state=13, ...),\n",
       "             n_jobs=-1,\n",
       "             param_grid={'colsample_bytree': [0.5, 1], 'learning_rate': [0.3],\n",
       "                         'max_depth': [3, 6], 'n_estimators': [50, 100],\n",
       "                         'n_jobs': [-1], 'random_state': [13],\n",
       "                         'reg_alpha': [0, 0.5], 'reg_lambda': [0.5, 1],\n",
       "                         'subsample': [1]},\n",
       "             scoring='f1_macro', verbose=1)"
      ]
     },
     "execution_count": 126,
     "metadata": {},
     "output_type": "execute_result"
    }
   ],
   "source": [
    "%%time\n",
    "xgbc_gscv.fit(X=X_train_xgbc_sfm, y=y)"
   ]
  },
  {
   "cell_type": "markdown",
   "id": "32e545ae",
   "metadata": {},
   "source": [
    "Анализ модели:"
   ]
  },
  {
   "cell_type": "code",
   "execution_count": 127,
   "id": "d0bb4f09",
   "metadata": {},
   "outputs": [
    {
     "data": {
      "text/plain": [
       "0.685645790195694"
      ]
     },
     "execution_count": 127,
     "metadata": {},
     "output_type": "execute_result"
    }
   ],
   "source": [
    "xgbc_gscv.best_score_"
   ]
  },
  {
   "cell_type": "code",
   "execution_count": 128,
   "id": "ec378846",
   "metadata": {},
   "outputs": [
    {
     "data": {
      "text/plain": [
       "{'colsample_bytree': 1,\n",
       " 'learning_rate': 0.3,\n",
       " 'max_depth': 6,\n",
       " 'n_estimators': 100,\n",
       " 'n_jobs': -1,\n",
       " 'random_state': 13,\n",
       " 'reg_alpha': 0.5,\n",
       " 'reg_lambda': 0.5,\n",
       " 'subsample': 1}"
      ]
     },
     "execution_count": 128,
     "metadata": {},
     "output_type": "execute_result"
    }
   ],
   "source": [
    "xgbc_gscv.best_params_"
   ]
  },
  {
   "cell_type": "code",
   "execution_count": 129,
   "id": "a92765f2",
   "metadata": {},
   "outputs": [],
   "source": [
    "xgbc_tuned = xgbc_gscv.best_estimator_"
   ]
  },
  {
   "cell_type": "code",
   "execution_count": 130,
   "id": "5c6c2681",
   "metadata": {},
   "outputs": [],
   "source": [
    "xgbc_tuned.fit(X=X_train_xgbc_sfm, y=y)\n",
    "y_xgbc_tuned = xgbc_tuned.predict(X=X_train_xgbc_sfm)\n",
    "y_xgbc_tuned_proba = xgbc_tuned.predict_proba(X=X_train_xgbc_sfm)[:, 1]"
   ]
  },
  {
   "cell_type": "code",
   "execution_count": 131,
   "id": "52474846",
   "metadata": {},
   "outputs": [
    {
     "data": {
      "image/png": "[encoded data removed]",
      "text/plain": [
       "<Figure size 640x480 with 2 Axes>"
      ]
     },
     "metadata": {},
     "output_type": "display_data"
    }
   ],
   "source": [
    "disp = ConfusionMatrixDisplay(confusion_matrix(y_true=y, y_pred=y_xgbc_tuned))\n",
    "disp.plot();"
   ]
  },
  {
   "cell_type": "code",
   "execution_count": 132,
   "id": "87fa13fa",
   "metadata": {},
   "outputs": [
    {
     "name": "stdout",
     "output_type": "stream",
     "text": [
      "              precision    recall  f1-score   support\n",
      "\n",
      "           0       0.95      0.99      0.97    771467\n",
      "           1       0.78      0.28      0.41     60186\n",
      "\n",
      "    accuracy                           0.94    831653\n",
      "   macro avg       0.86      0.64      0.69    831653\n",
      "weighted avg       0.93      0.94      0.93    831653\n",
      "\n"
     ]
    }
   ],
   "source": [
    "print(classification_report(y_true=y, y_pred=y_xgbc_tuned))"
   ]
  },
  {
   "cell_type": "code",
   "execution_count": 133,
   "id": "6b30e497",
   "metadata": {},
   "outputs": [
    {
     "data": {
      "image/png": "[encoded data removed]",
      "text/plain": [
       "<Figure size 640x480 with 1 Axes>"
      ]
     },
     "metadata": {},
     "output_type": "display_data"
    }
   ],
   "source": [
    "roc_auc_plot(y=y, y_proba=y_xgbc_tuned_proba)"
   ]
  },
  {
   "cell_type": "code",
   "execution_count": 134,
   "id": "ff069a28",
   "metadata": {},
   "outputs": [
    {
     "data": {
      "image/png": "[encoded data removed]",
      "text/plain": [
       "<Figure size 640x480 with 1 Axes>"
      ]
     },
     "metadata": {},
     "output_type": "display_data"
    }
   ],
   "source": [
    "pr_auc_plot(y=y, y_proba=y_xgbc_tuned_proba)"
   ]
  },
  {
   "cell_type": "markdown",
   "id": "1babd6ca",
   "metadata": {},
   "source": [
    "< Примечание > Исходя из полученных результатов, наилучей из исследованных моделей оказалась модель XGBoost Classifier, которая показала самую высокую метрику на кросс-валидации. Данная модель принята для осуществления предсказаний."
   ]
  },
  {
   "cell_type": "markdown",
   "id": "9a1faaf1",
   "metadata": {},
   "source": [
    "## 8 Получение финального результата"
   ]
  },
  {
   "cell_type": "markdown",
   "id": "5b0f51cc",
   "metadata": {},
   "source": [
    "Сериализация списка отобранных признаков принятой модели:"
   ]
  },
  {
   "cell_type": "code",
   "execution_count": 135,
   "id": "01c286d6",
   "metadata": {},
   "outputs": [],
   "source": [
    "selected_features = list(X_train_xgbc_sfm.columns)"
   ]
  },
  {
   "cell_type": "code",
   "execution_count": 136,
   "id": "64da6a9a",
   "metadata": {},
   "outputs": [],
   "source": [
    "with open(r'tools/selected_features.pickle', 'wb') as f:\n",
    "    pickle.dump(selected_features, f, protocol=pickle.HIGHEST_PROTOCOL)"
   ]
  },
  {
   "cell_type": "code",
   "execution_count": null,
   "id": "77213c43",
   "metadata": {},
   "outputs": [],
   "source": []
  },
  {
   "cell_type": "code",
   "execution_count": null,
   "id": "2f10f11a",
   "metadata": {},
   "outputs": [],
   "source": []
  }
 ],
 "metadata": {
  "kernelspec": {
   "display_name": "Python 3 (ipykernel)",
   "language": "python",
   "name": "python3"
  },
  "language_info": {
   "codemirror_mode": {
    "name": "ipython",
    "version": 3
   },
   "file_extension": ".py",
   "mimetype": "text/x-python",
   "name": "python",
   "nbconvert_exporter": "python",
   "pygments_lexer": "ipython3",
   "version": "3.9.15"
  }
 },
 "nbformat": 4,
 "nbformat_minor": 5
}
