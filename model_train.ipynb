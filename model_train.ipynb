{
 "cells": [
  {
   "cell_type": "markdown",
   "id": "eb54027d",
   "metadata": {},
   "source": [
    "# Mobile Service (model train)"
   ]
  },
  {
   "cell_type": "markdown",
   "id": "e9fd9830",
   "metadata": {},
   "source": [
    "## 1 Подключение и настройка внешних модулей"
   ]
  },
  {
   "cell_type": "code",
   "execution_count": 1,
   "id": "d17efd96",
   "metadata": {},
   "outputs": [],
   "source": [
    "# data processing\n",
    "import pandas as pd\n",
    "import numpy as np\n",
    "import dask.dataframe as dd\n",
    "import sklearn\n",
    "from sklearn.model_selection import RepeatedStratifiedKFold\n",
    "from sklearn.linear_model import LogisticRegression\n",
    "from sklearn.preprocessing import MinMaxScaler\n",
    "from sklearn.preprocessing import OneHotEncoder\n",
    "from sklearn.model_selection import GridSearchCV\n",
    "from sklearn.preprocessing import OrdinalEncoder\n",
    "from sklearn.feature_selection import SelectFromModel\n",
    "from sklearn.tree import DecisionTreeClassifier\n",
    "from sklearn.metrics import ConfusionMatrixDisplay\n",
    "from sklearn.metrics import confusion_matrix\n",
    "from sklearn.metrics import classification_report\n",
    "from sklearn.metrics import roc_curve\n",
    "from sklearn.metrics import precision_recall_curve\n",
    "from sklearn.metrics import auc\n",
    "from sklearn.ensemble import RandomForestClassifier\n",
    "from xgboost import XGBClassifier\n",
    "\n",
    "# visualization\n",
    "import matplotlib.pyplot as plt\n",
    "import seaborn as sns\n",
    "\n",
    "# отключение предупреждений\n",
    "import warnings\n",
    "warnings.filterwarnings('ignore')\n",
    "\n",
    "# сериализация объектов\n",
    "import pickle"
   ]
  },
  {
   "cell_type": "markdown",
   "id": "488b4327",
   "metadata": {},
   "source": [
    "## 2 Загрузка датасетов"
   ]
  },
  {
   "cell_type": "code",
   "execution_count": 2,
   "id": "64f4b1a4",
   "metadata": {},
   "outputs": [],
   "source": [
    "df_train = pd.read_csv(r'data/data_train.csv')\n",
    "df_features = dd.read_csv(r'data/features.csv', sep='\\t', engine='python')"
   ]
  },
  {
   "cell_type": "markdown",
   "id": "991e6a95",
   "metadata": {},
   "source": [
    "## 3 Предобработка данных"
   ]
  },
  {
   "cell_type": "markdown",
   "id": "57c56b2e",
   "metadata": {},
   "source": [
    "Вспомогательные структуры:"
   ]
  },
  {
   "cell_type": "code",
   "execution_count": 3,
   "id": "9164442f",
   "metadata": {},
   "outputs": [],
   "source": [
    "def feature_transformer(dataset, source_list, feature_name, transformer, prefitting=True):\n",
    "    \"\"\"Трансформация признаков.\"\"\"\n",
    "\n",
    "    # prefitting\n",
    "    if prefitting:\n",
    "        transformer.fit(dataset[source_list])\n",
    "\n",
    "    # transforming\n",
    "    if type(transformer) == sklearn.preprocessing._encoders.OneHotEncoder:\n",
    "\n",
    "        df_OHE = pd.DataFrame(\n",
    "            transformer.transform(dataset[source_list]),\n",
    "            columns = transformer.get_feature_names_out()\n",
    "        )\n",
    "        dataset = pd.concat([dataset, df_OHE], axis=1).drop(source_list, axis=1)\n",
    "\n",
    "    else:\n",
    "        dataset[feature_name] = transformer.transform(dataset[source_list])\n",
    "    \n",
    "    # returning\n",
    "    return dataset"
   ]
  },
  {
   "cell_type": "code",
   "execution_count": 4,
   "id": "b0d2fd41",
   "metadata": {},
   "outputs": [],
   "source": [
    "def preprocess_train_dataset(df_train, df_features):\n",
    "    \"Предобработка тренировочного датасета.\"\n",
    "    \n",
    "    # хранилище трансформеров\n",
    "    transformers = {}\n",
    "\n",
    "    # объединение датасетов\n",
    "    train_ids = df_train['id']\n",
    "    df_train_user_features = df_features[df_features['id'].isin(train_ids)].compute()\n",
    "    df_train_extended = pd.merge_asof(\n",
    "        left=df_train.sort_values(by='buy_time'),\n",
    "        right=df_train_user_features.sort_values(by='buy_time'),\n",
    "        on='buy_time',\n",
    "        by='id',\n",
    "        direction='nearest'\n",
    "    )\n",
    "\n",
    "    # создание признака 'not_first_offer'\n",
    "    not_first_offer_train = df_train_extended.duplicated('id').astype(int)\n",
    "    df_train_extended.insert(loc=0, column='not_first_offer', value=not_first_offer_train)\n",
    "\n",
    "    # создание признака 'buy_month'\n",
    "    buy_month_train = pd.to_datetime(df_train_extended['buy_time'], unit='s').dt.month\n",
    "    df_train_extended.insert(loc=0, column='buy_month', value=buy_month_train)\n",
    "\n",
    "    # предобработка признака 'vas_id'\n",
    "    vas_id_OHE = OneHotEncoder(handle_unknown='ignore', sparse=False)\n",
    "    df_train_extended = feature_transformer(\n",
    "        dataset=df_train_extended,\n",
    "        source_list=['vas_id'],\n",
    "        feature_name='vas_id',\n",
    "        transformer=vas_id_OHE,\n",
    "        prefitting=True\n",
    "    )\n",
    "    transformers['vas_id_OHE'] = vas_id_OHE\n",
    "\n",
    "    # предобработка признака 'buy_month'\n",
    "    buy_month_OHE = OneHotEncoder(handle_unknown='ignore', sparse=False)\n",
    "    df_train_extended = feature_transformer(\n",
    "        dataset=df_train_extended,\n",
    "        source_list=['buy_month'],\n",
    "        feature_name='buy_month',\n",
    "        transformer=buy_month_OHE,\n",
    "        prefitting=True\n",
    "    )\n",
    "    transformers['buy_month_OHE'] = buy_month_OHE\n",
    "\n",
    "    # кодирование бинарных признаков\n",
    "    with open(r'tools/nunique_2.pickle', 'rb') as f:\n",
    "        nunique_2 = pickle.load(f)\n",
    "\n",
    "    nunique_2_OE = OrdinalEncoder()\n",
    "    df_train_extended[nunique_2] = nunique_2_OE.fit_transform(X=df_train_extended[nunique_2])\n",
    "\n",
    "    # создание матрицы признаков\n",
    "    X_train = df_train_extended.copy()\n",
    "\n",
    "    # оптимизация типов данных в матрице признаков\n",
    "    X_train[nunique_2] = X_train[nunique_2].astype('int8')\n",
    "\n",
    "    # удаление лишних признаков\n",
    "    with open(r'tools/selected_features.pickle', 'rb') as f:\n",
    "        selected_features = pickle.load(f)\n",
    "\n",
    "    X_train = X_train[selected_features]\n",
    "\n",
    "    # создание вектора целевой переменной\n",
    "    y = df_train_extended['target'].copy()\n",
    "\n",
    "    # возврат результата\n",
    "    with open(r'tools/transformers.pickle', 'wb') as f:\n",
    "        pickle.dump(transformers, f, protocol=pickle.HIGHEST_PROTOCOL)\n",
    "\n",
    "    return (X_train, y)"
   ]
  },
  {
   "cell_type": "markdown",
   "id": "679780c9",
   "metadata": {},
   "source": [
    "Предобработка тренировочного датасета:"
   ]
  },
  {
   "cell_type": "code",
   "execution_count": 5,
   "id": "df0d3520",
   "metadata": {},
   "outputs": [
    {
     "name": "stdout",
     "output_type": "stream",
     "text": [
      "CPU times: total: 14min 53s\n",
      "Wall time: 14min 30s\n"
     ]
    }
   ],
   "source": [
    "%%time\n",
    "X_train, y = preprocess_train_dataset(df_train, df_features)"
   ]
  },
  {
   "cell_type": "markdown",
   "id": "933c2250",
   "metadata": {},
   "source": [
    "## 4 Обучение модели"
   ]
  },
  {
   "cell_type": "markdown",
   "id": "c205af72",
   "metadata": {},
   "source": [
    "Настройка метода валидации модели:"
   ]
  },
  {
   "cell_type": "code",
   "execution_count": 6,
   "id": "663a0921",
   "metadata": {},
   "outputs": [],
   "source": [
    "cv_rskf = RepeatedStratifiedKFold(\n",
    "    n_splits = 5,\n",
    "    n_repeats=3,\n",
    "    random_state=13\n",
    ")"
   ]
  },
  {
   "cell_type": "markdown",
   "id": "33c6ae16",
   "metadata": {},
   "source": [
    "Инициализация модели:"
   ]
  },
  {
   "cell_type": "code",
   "execution_count": 7,
   "id": "b0b7e051",
   "metadata": {},
   "outputs": [],
   "source": [
    "xgbc = XGBClassifier(random_state=13, n_jobs=-1)"
   ]
  },
  {
   "cell_type": "markdown",
   "id": "8e168f1d",
   "metadata": {},
   "source": [
    "Утсановка грид-параметров модели:"
   ]
  },
  {
   "cell_type": "code",
   "execution_count": 8,
   "id": "3ef02813",
   "metadata": {},
   "outputs": [],
   "source": [
    "xgbc_param_grid = {\n",
    "    'colsample_bytree': [\n",
    "#         0.5,\n",
    "        1  # default\n",
    "    ],    \n",
    "    'learning_rate': [\n",
    "#         0.1,\n",
    "        0.3,  # default\n",
    "#         0.6,\n",
    "    ],   \n",
    "    'max_depth': [\n",
    "#         3,\n",
    "        6,  # default\n",
    "#         9,\n",
    "#         12,\n",
    "#         15,\n",
    "#         18,\n",
    "#         21,\n",
    "#         24,\n",
    "#         27,\n",
    "#         30,\n",
    "#         33,\n",
    "#         None\n",
    "    ],\n",
    "    'n_estimators': [\n",
    "#         50,\n",
    "        100,  # default\n",
    "#         200\n",
    "    ],\n",
    "    'n_jobs': [\n",
    "        -1\n",
    "    ],\n",
    "    'random_state': [\n",
    "        13\n",
    "    ],\n",
    "    'reg_alpha': [\n",
    "#         0,  # default\n",
    "        0.5,\n",
    "#         1,\n",
    "    ],\n",
    "    'reg_lambda': [\n",
    "#         0,\n",
    "        0.5,\n",
    "#         1 # default\n",
    "    ],\n",
    "    'subsample': [\n",
    "#         0.5,\n",
    "        1  # default\n",
    "    ],\n",
    "}"
   ]
  },
  {
   "cell_type": "markdown",
   "id": "d07b92c7",
   "metadata": {},
   "source": [
    "Настройка модели:"
   ]
  },
  {
   "cell_type": "code",
   "execution_count": 9,
   "id": "e0b983da",
   "metadata": {},
   "outputs": [],
   "source": [
    "xgbc_gscv = GridSearchCV(\n",
    "    estimator=xgbc,\n",
    "    param_grid=xgbc_param_grid,\n",
    "    scoring='f1_macro',\n",
    "    n_jobs=-1,\n",
    "    cv=cv_rskf,\n",
    "    verbose=1\n",
    ")"
   ]
  },
  {
   "cell_type": "code",
   "execution_count": 10,
   "id": "3e0337b6",
   "metadata": {},
   "outputs": [
    {
     "name": "stdout",
     "output_type": "stream",
     "text": [
      "Fitting 15 folds for each of 1 candidates, totalling 15 fits\n",
      "CPU times: total: 2min 1s\n",
      "Wall time: 3min 12s\n"
     ]
    },
    {
     "data": {
      "text/html": [
       "<style>#sk-container-id-1 {color: black;background-color: white;}#sk-container-id-1 pre{padding: 0;}#sk-container-id-1 div.sk-toggleable {background-color: white;}#sk-container-id-1 label.sk-toggleable__label {cursor: pointer;display: block;width: 100%;margin-bottom: 0;padding: 0.3em;box-sizing: border-box;text-align: center;}#sk-container-id-1 label.sk-toggleable__label-arrow:before {content: \"▸\";float: left;margin-right: 0.25em;color: #696969;}#sk-container-id-1 label.sk-toggleable__label-arrow:hover:before {color: black;}#sk-container-id-1 div.sk-estimator:hover label.sk-toggleable__label-arrow:before {color: black;}#sk-container-id-1 div.sk-toggleable__content {max-height: 0;max-width: 0;overflow: hidden;text-align: left;background-color: #f0f8ff;}#sk-container-id-1 div.sk-toggleable__content pre {margin: 0.2em;color: black;border-radius: 0.25em;background-color: #f0f8ff;}#sk-container-id-1 input.sk-toggleable__control:checked~div.sk-toggleable__content {max-height: 200px;max-width: 100%;overflow: auto;}#sk-container-id-1 input.sk-toggleable__control:checked~label.sk-toggleable__label-arrow:before {content: \"▾\";}#sk-container-id-1 div.sk-estimator input.sk-toggleable__control:checked~label.sk-toggleable__label {background-color: #d4ebff;}#sk-container-id-1 div.sk-label input.sk-toggleable__control:checked~label.sk-toggleable__label {background-color: #d4ebff;}#sk-container-id-1 input.sk-hidden--visually {border: 0;clip: rect(1px 1px 1px 1px);clip: rect(1px, 1px, 1px, 1px);height: 1px;margin: -1px;overflow: hidden;padding: 0;position: absolute;width: 1px;}#sk-container-id-1 div.sk-estimator {font-family: monospace;background-color: #f0f8ff;border: 1px dotted black;border-radius: 0.25em;box-sizing: border-box;margin-bottom: 0.5em;}#sk-container-id-1 div.sk-estimator:hover {background-color: #d4ebff;}#sk-container-id-1 div.sk-parallel-item::after {content: \"\";width: 100%;border-bottom: 1px solid gray;flex-grow: 1;}#sk-container-id-1 div.sk-label:hover label.sk-toggleable__label {background-color: #d4ebff;}#sk-container-id-1 div.sk-serial::before {content: \"\";position: absolute;border-left: 1px solid gray;box-sizing: border-box;top: 0;bottom: 0;left: 50%;z-index: 0;}#sk-container-id-1 div.sk-serial {display: flex;flex-direction: column;align-items: center;background-color: white;padding-right: 0.2em;padding-left: 0.2em;position: relative;}#sk-container-id-1 div.sk-item {position: relative;z-index: 1;}#sk-container-id-1 div.sk-parallel {display: flex;align-items: stretch;justify-content: center;background-color: white;position: relative;}#sk-container-id-1 div.sk-item::before, #sk-container-id-1 div.sk-parallel-item::before {content: \"\";position: absolute;border-left: 1px solid gray;box-sizing: border-box;top: 0;bottom: 0;left: 50%;z-index: -1;}#sk-container-id-1 div.sk-parallel-item {display: flex;flex-direction: column;z-index: 1;position: relative;background-color: white;}#sk-container-id-1 div.sk-parallel-item:first-child::after {align-self: flex-end;width: 50%;}#sk-container-id-1 div.sk-parallel-item:last-child::after {align-self: flex-start;width: 50%;}#sk-container-id-1 div.sk-parallel-item:only-child::after {width: 0;}#sk-container-id-1 div.sk-dashed-wrapped {border: 1px dashed gray;margin: 0 0.4em 0.5em 0.4em;box-sizing: border-box;padding-bottom: 0.4em;background-color: white;}#sk-container-id-1 div.sk-label label {font-family: monospace;font-weight: bold;display: inline-block;line-height: 1.2em;}#sk-container-id-1 div.sk-label-container {text-align: center;}#sk-container-id-1 div.sk-container {/* jupyter's `normalize.less` sets `[hidden] { display: none; }` but bootstrap.min.css set `[hidden] { display: none !important; }` so we also need the `!important` here to be able to override the default hidden behavior on the sphinx rendered scikit-learn.org. See: https://github.com/scikit-learn/scikit-learn/issues/21755 */display: inline-block !important;position: relative;}#sk-container-id-1 div.sk-text-repr-fallback {display: none;}</style><div id=\"sk-container-id-1\" class=\"sk-top-container\"><div class=\"sk-text-repr-fallback\"><pre>GridSearchCV(cv=RepeatedStratifiedKFold(n_repeats=3, n_splits=5, random_state=13),\n",
       "             estimator=XGBClassifier(base_score=None, booster=None,\n",
       "                                     callbacks=None, colsample_bylevel=None,\n",
       "                                     colsample_bynode=None,\n",
       "                                     colsample_bytree=None,\n",
       "                                     early_stopping_rounds=None,\n",
       "                                     enable_categorical=False, eval_metric=None,\n",
       "                                     feature_types=None, gamma=None,\n",
       "                                     gpu_id=None, grow_policy=None,\n",
       "                                     importa...\n",
       "                                     max_leaves=None, min_child_weight=None,\n",
       "                                     missing=nan, monotone_constraints=None,\n",
       "                                     n_estimators=100, n_jobs=-1,\n",
       "                                     num_parallel_tree=None, predictor=None,\n",
       "                                     random_state=13, ...),\n",
       "             n_jobs=-1,\n",
       "             param_grid={&#x27;colsample_bytree&#x27;: [1], &#x27;learning_rate&#x27;: [0.3],\n",
       "                         &#x27;max_depth&#x27;: [6], &#x27;n_estimators&#x27;: [100],\n",
       "                         &#x27;n_jobs&#x27;: [-1], &#x27;random_state&#x27;: [13],\n",
       "                         &#x27;reg_alpha&#x27;: [0.5], &#x27;reg_lambda&#x27;: [0.5],\n",
       "                         &#x27;subsample&#x27;: [1]},\n",
       "             scoring=&#x27;f1_macro&#x27;, verbose=1)</pre><b>In a Jupyter environment, please rerun this cell to show the HTML representation or trust the notebook. <br />On GitHub, the HTML representation is unable to render, please try loading this page with nbviewer.org.</b></div><div class=\"sk-container\" hidden><div class=\"sk-item sk-dashed-wrapped\"><div class=\"sk-label-container\"><div class=\"sk-label sk-toggleable\"><input class=\"sk-toggleable__control sk-hidden--visually\" id=\"sk-estimator-id-1\" type=\"checkbox\" ><label for=\"sk-estimator-id-1\" class=\"sk-toggleable__label sk-toggleable__label-arrow\">GridSearchCV</label><div class=\"sk-toggleable__content\"><pre>GridSearchCV(cv=RepeatedStratifiedKFold(n_repeats=3, n_splits=5, random_state=13),\n",
       "             estimator=XGBClassifier(base_score=None, booster=None,\n",
       "                                     callbacks=None, colsample_bylevel=None,\n",
       "                                     colsample_bynode=None,\n",
       "                                     colsample_bytree=None,\n",
       "                                     early_stopping_rounds=None,\n",
       "                                     enable_categorical=False, eval_metric=None,\n",
       "                                     feature_types=None, gamma=None,\n",
       "                                     gpu_id=None, grow_policy=None,\n",
       "                                     importa...\n",
       "                                     max_leaves=None, min_child_weight=None,\n",
       "                                     missing=nan, monotone_constraints=None,\n",
       "                                     n_estimators=100, n_jobs=-1,\n",
       "                                     num_parallel_tree=None, predictor=None,\n",
       "                                     random_state=13, ...),\n",
       "             n_jobs=-1,\n",
       "             param_grid={&#x27;colsample_bytree&#x27;: [1], &#x27;learning_rate&#x27;: [0.3],\n",
       "                         &#x27;max_depth&#x27;: [6], &#x27;n_estimators&#x27;: [100],\n",
       "                         &#x27;n_jobs&#x27;: [-1], &#x27;random_state&#x27;: [13],\n",
       "                         &#x27;reg_alpha&#x27;: [0.5], &#x27;reg_lambda&#x27;: [0.5],\n",
       "                         &#x27;subsample&#x27;: [1]},\n",
       "             scoring=&#x27;f1_macro&#x27;, verbose=1)</pre></div></div></div><div class=\"sk-parallel\"><div class=\"sk-parallel-item\"><div class=\"sk-item\"><div class=\"sk-label-container\"><div class=\"sk-label sk-toggleable\"><input class=\"sk-toggleable__control sk-hidden--visually\" id=\"sk-estimator-id-2\" type=\"checkbox\" ><label for=\"sk-estimator-id-2\" class=\"sk-toggleable__label sk-toggleable__label-arrow\">estimator: XGBClassifier</label><div class=\"sk-toggleable__content\"><pre>XGBClassifier(base_score=None, booster=None, callbacks=None,\n",
       "              colsample_bylevel=None, colsample_bynode=None,\n",
       "              colsample_bytree=None, early_stopping_rounds=None,\n",
       "              enable_categorical=False, eval_metric=None, feature_types=None,\n",
       "              gamma=None, gpu_id=None, grow_policy=None, importance_type=None,\n",
       "              interaction_constraints=None, learning_rate=None, max_bin=None,\n",
       "              max_cat_threshold=None, max_cat_to_onehot=None,\n",
       "              max_delta_step=None, max_depth=None, max_leaves=None,\n",
       "              min_child_weight=None, missing=nan, monotone_constraints=None,\n",
       "              n_estimators=100, n_jobs=-1, num_parallel_tree=None,\n",
       "              predictor=None, random_state=13, ...)</pre></div></div></div><div class=\"sk-serial\"><div class=\"sk-item\"><div class=\"sk-estimator sk-toggleable\"><input class=\"sk-toggleable__control sk-hidden--visually\" id=\"sk-estimator-id-3\" type=\"checkbox\" ><label for=\"sk-estimator-id-3\" class=\"sk-toggleable__label sk-toggleable__label-arrow\">XGBClassifier</label><div class=\"sk-toggleable__content\"><pre>XGBClassifier(base_score=None, booster=None, callbacks=None,\n",
       "              colsample_bylevel=None, colsample_bynode=None,\n",
       "              colsample_bytree=None, early_stopping_rounds=None,\n",
       "              enable_categorical=False, eval_metric=None, feature_types=None,\n",
       "              gamma=None, gpu_id=None, grow_policy=None, importance_type=None,\n",
       "              interaction_constraints=None, learning_rate=None, max_bin=None,\n",
       "              max_cat_threshold=None, max_cat_to_onehot=None,\n",
       "              max_delta_step=None, max_depth=None, max_leaves=None,\n",
       "              min_child_weight=None, missing=nan, monotone_constraints=None,\n",
       "              n_estimators=100, n_jobs=-1, num_parallel_tree=None,\n",
       "              predictor=None, random_state=13, ...)</pre></div></div></div></div></div></div></div></div></div></div>"
      ],
      "text/plain": [
       "GridSearchCV(cv=RepeatedStratifiedKFold(n_repeats=3, n_splits=5, random_state=13),\n",
       "             estimator=XGBClassifier(base_score=None, booster=None,\n",
       "                                     callbacks=None, colsample_bylevel=None,\n",
       "                                     colsample_bynode=None,\n",
       "                                     colsample_bytree=None,\n",
       "                                     early_stopping_rounds=None,\n",
       "                                     enable_categorical=False, eval_metric=None,\n",
       "                                     feature_types=None, gamma=None,\n",
       "                                     gpu_id=None, grow_policy=None,\n",
       "                                     importa...\n",
       "                                     max_leaves=None, min_child_weight=None,\n",
       "                                     missing=nan, monotone_constraints=None,\n",
       "                                     n_estimators=100, n_jobs=-1,\n",
       "                                     num_parallel_tree=None, predictor=None,\n",
       "                                     random_state=13, ...),\n",
       "             n_jobs=-1,\n",
       "             param_grid={'colsample_bytree': [1], 'learning_rate': [0.3],\n",
       "                         'max_depth': [6], 'n_estimators': [100],\n",
       "                         'n_jobs': [-1], 'random_state': [13],\n",
       "                         'reg_alpha': [0.5], 'reg_lambda': [0.5],\n",
       "                         'subsample': [1]},\n",
       "             scoring='f1_macro', verbose=1)"
      ]
     },
     "execution_count": 10,
     "metadata": {},
     "output_type": "execute_result"
    }
   ],
   "source": [
    "%%time\n",
    "xgbc_gscv.fit(X=X_train, y=y)"
   ]
  },
  {
   "cell_type": "markdown",
   "id": "89f36692",
   "metadata": {},
   "source": [
    "## 5 Получение финального результата"
   ]
  },
  {
   "cell_type": "markdown",
   "id": "b441d6b2",
   "metadata": {},
   "source": [
    "Получение настроенной модели:"
   ]
  },
  {
   "cell_type": "code",
   "execution_count": 11,
   "id": "333a93aa",
   "metadata": {},
   "outputs": [],
   "source": [
    "tuned_model = xgbc_gscv.best_estimator_"
   ]
  },
  {
   "cell_type": "markdown",
   "id": "48d556ad",
   "metadata": {},
   "source": [
    "Сериализация настроенной модели:"
   ]
  },
  {
   "cell_type": "code",
   "execution_count": 12,
   "id": "489b16cb",
   "metadata": {},
   "outputs": [],
   "source": [
    "with open(r'tools/model.pickle', 'wb') as f:\n",
    "    pickle.dump(tuned_model, f, protocol=pickle.HIGHEST_PROTOCOL)"
   ]
  },
  {
   "cell_type": "code",
   "execution_count": null,
   "id": "2aaf867d",
   "metadata": {},
   "outputs": [],
   "source": []
  }
 ],
 "metadata": {
  "kernelspec": {
   "display_name": "Python 3 (ipykernel)",
   "language": "python",
   "name": "python3"
  },
  "language_info": {
   "codemirror_mode": {
    "name": "ipython",
    "version": 3
   },
   "file_extension": ".py",
   "mimetype": "text/x-python",
   "name": "python",
   "nbconvert_exporter": "python",
   "pygments_lexer": "ipython3",
   "version": "3.9.15"
  }
 },
 "nbformat": 4,
 "nbformat_minor": 5
}
